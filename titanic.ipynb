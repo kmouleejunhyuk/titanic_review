{
  "nbformat": 4,
  "nbformat_minor": 0,
  "metadata": {
    "colab": {
      "name": "titanic.ipynb",
      "provenance": [],
      "collapsed_sections": [],
      "authorship_tag": "ABX9TyPu4f2BdKvT1qFg/NhToAWs",
      "include_colab_link": true
    },
    "kernelspec": {
      "name": "python3",
      "display_name": "Python 3"
    }
  },
  "cells": [
    {
      "cell_type": "markdown",
      "metadata": {
        "id": "view-in-github",
        "colab_type": "text"
      },
      "source": [
        "<a href=\"https://colab.research.google.com/github/kmouleejunhyuk/titanic_review/blob/main/titanic.ipynb\" target=\"_parent\"><img src=\"https://colab.research.google.com/assets/colab-badge.svg\" alt=\"Open In Colab\"/></a>"
      ]
    },
    {
      "cell_type": "code",
      "metadata": {
        "id": "9EI3RV_FuZnb"
      },
      "source": [
        "##캐글의 타이타닉 분석 리뷰\r\n",
        "#리더보드 정확도 100% 전처리 기법 사용\r\n",
        "#원본: https://www.kaggle.com/imoore/titanic-the-only-notebook-you-need-to-see\r\n",
        "#추가로, 다층 FCNN 모델+kfold 구현 연습"
      ],
      "execution_count": 1,
      "outputs": []
    },
    {
      "cell_type": "code",
      "metadata": {
        "id": "-ogAsk9-uujL"
      },
      "source": [
        "#환경\r\n",
        "#google colab, pytorch"
      ],
      "execution_count": 2,
      "outputs": []
    },
    {
      "cell_type": "code",
      "metadata": {
        "colab": {
          "base_uri": "https://localhost:8080/"
        },
        "id": "QBGUS8ruZEXA",
        "outputId": "f48e3883-57a6-4597-9e77-faf8aecf890f"
      },
      "source": [
        "#구글 드라이브 마운트 & 경로설정\r\n",
        "#마운트하기 전, 구글 드라이브의 titanic 폴더에 타이타닉 csv를 업로드해야 합니다\r\n",
        "#kaggle 가입 후 데이터를 받을 수 있습니다\r\n",
        "\r\n",
        "from google.colab import drive\r\n",
        "drive.mount('/gdrive')\r\n",
        "\r\n",
        "PATH='/gdrive/My Drive/titanic'"
      ],
      "execution_count": 3,
      "outputs": [
        {
          "output_type": "stream",
          "text": [
            "Mounted at /gdrive\n"
          ],
          "name": "stdout"
        }
      ]
    },
    {
      "cell_type": "markdown",
      "metadata": {
        "id": "rDBsSXUkvS_5"
      },
      "source": [
        "라이브러리 로드"
      ]
    },
    {
      "cell_type": "code",
      "metadata": {
        "colab": {
          "base_uri": "https://localhost:8080/",
          "height": 17
        },
        "id": "rd7ZhENevF3p",
        "outputId": "f5611f97-e8f4-4aa0-c5a0-bb92e7c860aa"
      },
      "source": [
        "import pandas as pd\r\n",
        "import numpy as np\r\n",
        "import re\r\n",
        "import os\r\n",
        "\r\n",
        "import sklearn\r\n",
        "import xgboost as xgb\r\n",
        "import seaborn as sns\r\n",
        "import matplotlib.pyplot as plt\r\n",
        "%matplotlib inline\r\n",
        "\r\n",
        "import plotly.offline as py\r\n",
        "py.init_notebook_mode(connected=True)\r\n",
        "import plotly.graph_objs as go\r\n",
        "import plotly.tools as tls\r\n",
        "\r\n",
        "import torch"
      ],
      "execution_count": 99,
      "outputs": [
        {
          "output_type": "display_data",
          "data": {
            "text/html": [
              "        <script type=\"text/javascript\">\n",
              "        window.PlotlyConfig = {MathJaxConfig: 'local'};\n",
              "        if (window.MathJax) {MathJax.Hub.Config({SVG: {font: \"STIX-Web\"}});}\n",
              "        if (typeof require !== 'undefined') {\n",
              "        require.undef(\"plotly\");\n",
              "        requirejs.config({\n",
              "            paths: {\n",
              "                'plotly': ['https://cdn.plot.ly/plotly-latest.min']\n",
              "            }\n",
              "        });\n",
              "        require(['plotly'], function(Plotly) {\n",
              "            window._Plotly = Plotly;\n",
              "        });\n",
              "        }\n",
              "        </script>\n",
              "        "
            ]
          },
          "metadata": {
            "tags": []
          }
        }
      ]
    },
    {
      "cell_type": "markdown",
      "metadata": {
        "id": "W3LEtcbYvVxg"
      },
      "source": [
        "데이터 로드"
      ]
    },
    {
      "cell_type": "code",
      "metadata": {
        "id": "xpCkum80xw3M"
      },
      "source": [
        "full = pd.read_csv(os.path.join(PATH, 'titanic.csv'))\r\n",
        "\r\n",
        "train = full.loc[:int(full.shape[0]*0.8)].copy()\r\n",
        "test = full.loc[int(full.shape[0]*0.8):].copy().reset_index(drop=True) \r\n",
        "\r\n"
      ],
      "execution_count": 100,
      "outputs": []
    },
    {
      "cell_type": "code",
      "metadata": {
        "colab": {
          "base_uri": "https://localhost:8080/"
        },
        "id": "FO7qgNs2bcO7",
        "outputId": "c2d56a31-feeb-4302-8b23-4df98c0a421a"
      },
      "source": [
        "print(train.head())\r\n",
        "print(test.head())\r\n",
        "\r\n",
        "print(train.columns)"
      ],
      "execution_count": 101,
      "outputs": [
        {
          "output_type": "stream",
          "text": [
            "   PassengerId  Survived  Pclass  ...     Fare Cabin  Embarked\n",
            "0          892         0       3  ...   7.8292   NaN         Q\n",
            "1          893         1       3  ...   7.0000   NaN         S\n",
            "2          894         0       2  ...   9.6875   NaN         Q\n",
            "3          895         0       3  ...   8.6625   NaN         S\n",
            "4          896         1       3  ...  12.2875   NaN         S\n",
            "\n",
            "[5 rows x 12 columns]\n",
            "   PassengerId  Survived  Pclass  ...     Fare Cabin  Embarked\n",
            "0         1226         0       3  ...   7.8958   NaN         S\n",
            "1         1227         0       1  ...  26.0000  C106         S\n",
            "2         1228         0       2  ...  13.0000   NaN         S\n",
            "3         1229         0       3  ...   7.2292   NaN         C\n",
            "4         1230         0       2  ...  31.5000   NaN         S\n",
            "\n",
            "[5 rows x 12 columns]\n",
            "Index(['PassengerId', 'Survived', 'Pclass', 'Name', 'Sex', 'Age', 'SibSp',\n",
            "       'Parch', 'Ticket', 'Fare', 'Cabin', 'Embarked'],\n",
            "      dtype='object')\n"
          ],
          "name": "stdout"
        }
      ]
    },
    {
      "cell_type": "markdown",
      "metadata": {
        "id": "MCcvxKmsdGYf"
      },
      "source": [
        "데이터에 ticket_type라는 변수 추가(이유는 잘 모르겠다)\r\n"
      ]
    },
    {
      "cell_type": "code",
      "metadata": {
        "colab": {
          "base_uri": "https://localhost:8080/",
          "height": 155
        },
        "id": "JmG-eIMTbv4H",
        "outputId": "3283e599-9185-4ebd-8e6a-6e3d246b89b4"
      },
      "source": [
        "#원본에서는 pd.DataFrame.apply()를 사용했지만, 속도 개선을 위해 np.vectorize() 사용\r\n",
        "train['Ticket_type']=np.vectorize(lambda x: x[0:3])(train['Ticket'])\r\n",
        "train['Ticket_type']=train['Ticket_type'].astype('category')\r\n",
        "train['Ticket_type']=train['Ticket_type'].cat.codes\r\n",
        "\r\n",
        "train.head(3)"
      ],
      "execution_count": 102,
      "outputs": [
        {
          "output_type": "execute_result",
          "data": {
            "text/html": [
              "<div>\n",
              "<style scoped>\n",
              "    .dataframe tbody tr th:only-of-type {\n",
              "        vertical-align: middle;\n",
              "    }\n",
              "\n",
              "    .dataframe tbody tr th {\n",
              "        vertical-align: top;\n",
              "    }\n",
              "\n",
              "    .dataframe thead th {\n",
              "        text-align: right;\n",
              "    }\n",
              "</style>\n",
              "<table border=\"1\" class=\"dataframe\">\n",
              "  <thead>\n",
              "    <tr style=\"text-align: right;\">\n",
              "      <th></th>\n",
              "      <th>PassengerId</th>\n",
              "      <th>Survived</th>\n",
              "      <th>Pclass</th>\n",
              "      <th>Name</th>\n",
              "      <th>Sex</th>\n",
              "      <th>Age</th>\n",
              "      <th>SibSp</th>\n",
              "      <th>Parch</th>\n",
              "      <th>Ticket</th>\n",
              "      <th>Fare</th>\n",
              "      <th>Cabin</th>\n",
              "      <th>Embarked</th>\n",
              "      <th>Ticket_type</th>\n",
              "    </tr>\n",
              "  </thead>\n",
              "  <tbody>\n",
              "    <tr>\n",
              "      <th>0</th>\n",
              "      <td>892</td>\n",
              "      <td>0</td>\n",
              "      <td>3</td>\n",
              "      <td>Kelly, Mr. James</td>\n",
              "      <td>male</td>\n",
              "      <td>34.5</td>\n",
              "      <td>0</td>\n",
              "      <td>0</td>\n",
              "      <td>330911</td>\n",
              "      <td>7.8292</td>\n",
              "      <td>NaN</td>\n",
              "      <td>Q</td>\n",
              "      <td>54</td>\n",
              "    </tr>\n",
              "    <tr>\n",
              "      <th>1</th>\n",
              "      <td>893</td>\n",
              "      <td>1</td>\n",
              "      <td>3</td>\n",
              "      <td>Wilkes, Mrs. James (Ellen Needs)</td>\n",
              "      <td>female</td>\n",
              "      <td>47.0</td>\n",
              "      <td>1</td>\n",
              "      <td>0</td>\n",
              "      <td>363272</td>\n",
              "      <td>7.0000</td>\n",
              "      <td>NaN</td>\n",
              "      <td>S</td>\n",
              "      <td>67</td>\n",
              "    </tr>\n",
              "    <tr>\n",
              "      <th>2</th>\n",
              "      <td>894</td>\n",
              "      <td>0</td>\n",
              "      <td>2</td>\n",
              "      <td>Myles, Mr. Thomas Francis</td>\n",
              "      <td>male</td>\n",
              "      <td>62.0</td>\n",
              "      <td>0</td>\n",
              "      <td>0</td>\n",
              "      <td>240276</td>\n",
              "      <td>9.6875</td>\n",
              "      <td>NaN</td>\n",
              "      <td>Q</td>\n",
              "      <td>30</td>\n",
              "    </tr>\n",
              "  </tbody>\n",
              "</table>\n",
              "</div>"
            ],
            "text/plain": [
              "   PassengerId  Survived  Pclass  ... Cabin Embarked  Ticket_type\n",
              "0          892         0       3  ...   NaN        Q           54\n",
              "1          893         1       3  ...   NaN        S           67\n",
              "2          894         0       2  ...   NaN        Q           30\n",
              "\n",
              "[3 rows x 13 columns]"
            ]
          },
          "metadata": {
            "tags": []
          },
          "execution_count": 102
        }
      ]
    },
    {
      "cell_type": "code",
      "metadata": {
        "id": "aZXrN_LlcNQz",
        "colab": {
          "base_uri": "https://localhost:8080/",
          "height": 138
        },
        "outputId": "68443462-8478-4d72-e213-dcc75ab65bda"
      },
      "source": [
        "test['Ticket_type']=np.vectorize(lambda x: x[0:3])(test['Ticket'])\r\n",
        "test['Ticket_type']=test['Ticket_type'].astype('category')\r\n",
        "test['Ticket_type']=test['Ticket_type'].cat.codes\r\n",
        "\r\n",
        "test.head(3)"
      ],
      "execution_count": 103,
      "outputs": [
        {
          "output_type": "execute_result",
          "data": {
            "text/html": [
              "<div>\n",
              "<style scoped>\n",
              "    .dataframe tbody tr th:only-of-type {\n",
              "        vertical-align: middle;\n",
              "    }\n",
              "\n",
              "    .dataframe tbody tr th {\n",
              "        vertical-align: top;\n",
              "    }\n",
              "\n",
              "    .dataframe thead th {\n",
              "        text-align: right;\n",
              "    }\n",
              "</style>\n",
              "<table border=\"1\" class=\"dataframe\">\n",
              "  <thead>\n",
              "    <tr style=\"text-align: right;\">\n",
              "      <th></th>\n",
              "      <th>PassengerId</th>\n",
              "      <th>Survived</th>\n",
              "      <th>Pclass</th>\n",
              "      <th>Name</th>\n",
              "      <th>Sex</th>\n",
              "      <th>Age</th>\n",
              "      <th>SibSp</th>\n",
              "      <th>Parch</th>\n",
              "      <th>Ticket</th>\n",
              "      <th>Fare</th>\n",
              "      <th>Cabin</th>\n",
              "      <th>Embarked</th>\n",
              "      <th>Ticket_type</th>\n",
              "    </tr>\n",
              "  </thead>\n",
              "  <tbody>\n",
              "    <tr>\n",
              "      <th>0</th>\n",
              "      <td>1226</td>\n",
              "      <td>0</td>\n",
              "      <td>3</td>\n",
              "      <td>Cor, Mr. Ivan</td>\n",
              "      <td>male</td>\n",
              "      <td>27.0</td>\n",
              "      <td>0</td>\n",
              "      <td>0</td>\n",
              "      <td>349229</td>\n",
              "      <td>7.8958</td>\n",
              "      <td>NaN</td>\n",
              "      <td>S</td>\n",
              "      <td>30</td>\n",
              "    </tr>\n",
              "    <tr>\n",
              "      <th>1</th>\n",
              "      <td>1227</td>\n",
              "      <td>0</td>\n",
              "      <td>1</td>\n",
              "      <td>Maguire, Mr. John Edward</td>\n",
              "      <td>male</td>\n",
              "      <td>30.0</td>\n",
              "      <td>0</td>\n",
              "      <td>0</td>\n",
              "      <td>110469</td>\n",
              "      <td>26.0000</td>\n",
              "      <td>C106</td>\n",
              "      <td>S</td>\n",
              "      <td>0</td>\n",
              "    </tr>\n",
              "    <tr>\n",
              "      <th>2</th>\n",
              "      <td>1228</td>\n",
              "      <td>0</td>\n",
              "      <td>2</td>\n",
              "      <td>de Brito, Mr. Jose Joaquim</td>\n",
              "      <td>male</td>\n",
              "      <td>32.0</td>\n",
              "      <td>0</td>\n",
              "      <td>0</td>\n",
              "      <td>244360</td>\n",
              "      <td>13.0000</td>\n",
              "      <td>NaN</td>\n",
              "      <td>S</td>\n",
              "      <td>14</td>\n",
              "    </tr>\n",
              "  </tbody>\n",
              "</table>\n",
              "</div>"
            ],
            "text/plain": [
              "   PassengerId  Survived  Pclass  ... Cabin Embarked  Ticket_type\n",
              "0         1226         0       3  ...   NaN        S           30\n",
              "1         1227         0       1  ...  C106        S            0\n",
              "2         1228         0       2  ...   NaN        S           14\n",
              "\n",
              "[3 rows x 13 columns]"
            ]
          },
          "metadata": {
            "tags": []
          },
          "execution_count": 103
        }
      ]
    },
    {
      "cell_type": "markdown",
      "metadata": {
        "id": "PQ2X575mJWV-"
      },
      "source": [
        "데이터에 이름 길이에 관한 변수 추가"
      ]
    },
    {
      "cell_type": "code",
      "metadata": {
        "id": "8TlzeU5HJTCZ"
      },
      "source": [
        "train['Word_count']=np.vectorize(lambda x: len(x.split()))(train['Name'])\r\n",
        "test['Word_count']=np.vectorize(lambda x: len(x.split()))(test['Name'])"
      ],
      "execution_count": 104,
      "outputs": []
    },
    {
      "cell_type": "markdown",
      "metadata": {
        "id": "fMwnCWmCN2Tn"
      },
      "source": [
        "Cabin 호수 별 변수 추가"
      ]
    },
    {
      "cell_type": "code",
      "metadata": {
        "id": "Vhz29nejLugY"
      },
      "source": [
        "#A30-->A-->0\r\n",
        "#커스텀\r\n",
        "train['Cabin_class']=np.vectorize(lambda x: x[0] if type(x)!=float else 'P')(train['Cabin'])\r\n",
        "train['Cabin_class']=train['Cabin_class'].astype('category').cat.codes\r\n",
        "test['Cabin_class']=np.vectorize(lambda x: x[0] if type(x)!=float else 'P')(test['Cabin'])\r\n",
        "test['Cabin_class']=test['Cabin_class'].astype('category').cat.codes"
      ],
      "execution_count": 105,
      "outputs": []
    },
    {
      "cell_type": "markdown",
      "metadata": {
        "id": "PV6vAQBiQvYs"
      },
      "source": [
        "승객의 선실 보유 여부를 알려주는 변수 추가(nan-->입석?)"
      ]
    },
    {
      "cell_type": "code",
      "metadata": {
        "id": "Cpo2ltYlOX6q"
      },
      "source": [
        "train['Has_Cabin']=np.vectorize(lambda x: 0 if type(x)==float else 1)(train['Cabin'])\r\n",
        "test['Has_Cabin']=np.vectorize(lambda x: 0 if type(x)==float else 1)(test['Cabin'])"
      ],
      "execution_count": 106,
      "outputs": []
    },
    {
      "cell_type": "markdown",
      "metadata": {
        "id": "zl2gG2RFR8_b"
      },
      "source": [
        "승객의 동승자 수 및 단독 승선 여부 변수 추가"
      ]
    },
    {
      "cell_type": "code",
      "metadata": {
        "id": "R2w3jxdYR3p_"
      },
      "source": [
        "train['Family_size']=train['SibSp'] + train['Parch'] + 1\r\n",
        "test['Family_size']=test['SibSp'] + test['Parch'] + 1"
      ],
      "execution_count": 107,
      "outputs": []
    },
    {
      "cell_type": "code",
      "metadata": {
        "id": "oQVyNBJ4SgZW"
      },
      "source": [
        "train['isalone']=np.vectorize(lambda x: 0 if x>1 else 1)(train['Family_size'])\r\n",
        "test['isalone']=np.vectorize(lambda x: 0 if x>1 else 1)(test['Family_size'])"
      ],
      "execution_count": 108,
      "outputs": []
    },
    {
      "cell_type": "markdown",
      "metadata": {
        "id": "wpJ2DCjzTYXy"
      },
      "source": [
        "Embarked 변수의 na 제거"
      ]
    },
    {
      "cell_type": "code",
      "metadata": {
        "id": "gSKZ27dhTR8v"
      },
      "source": [
        "train['Embarked']=train['Embarked'].fillna('S')\r\n",
        "test['Embarked']=test['Embarked'].fillna('S')"
      ],
      "execution_count": 109,
      "outputs": []
    },
    {
      "cell_type": "markdown",
      "metadata": {
        "id": "GtPnEZfoWELZ"
      },
      "source": [
        "표 가격(Fare)의 중위수로 na 대체 "
      ]
    },
    {
      "cell_type": "code",
      "metadata": {
        "id": "Q37Q5aDxTsLN"
      },
      "source": [
        "train['Fare']=train['Fare'].fillna(train['Fare'].median())\r\n",
        "test['Fare']=test['Fare'].fillna(test['Fare'].median())\r\n",
        "\r\n",
        "#원본에서는 categoricalfare라는 변수를 만들지만 사용하지 않음"
      ],
      "execution_count": 110,
      "outputs": []
    },
    {
      "cell_type": "code",
      "metadata": {
        "id": "nLELyMd2Zd9s",
        "colab": {
          "base_uri": "https://localhost:8080/"
        },
        "outputId": "d9594aa0-166d-427b-d3e6-09cd9f5b41cd"
      },
      "source": [
        "full_data=[train, test]\r\n",
        "\r\n",
        "for dataset in full_data:\r\n",
        "    age_avg = dataset['Age'].mean()\r\n",
        "    age_std = dataset['Age'].std()\r\n",
        "    age_null_count = dataset['Age'].isnull().sum()\r\n",
        "    age_null_random_list = np.random.randint(age_avg - age_std, age_avg + age_std, size=age_null_count)\r\n",
        "    dataset['Age'][np.isnan(dataset['Age'])] = age_null_random_list\r\n",
        "    dataset['Age'] = dataset['Age'].astype(int)"
      ],
      "execution_count": 111,
      "outputs": [
        {
          "output_type": "stream",
          "text": [
            "/usr/local/lib/python3.6/dist-packages/ipykernel_launcher.py:8: SettingWithCopyWarning:\n",
            "\n",
            "\n",
            "A value is trying to be set on a copy of a slice from a DataFrame\n",
            "\n",
            "See the caveats in the documentation: https://pandas.pydata.org/pandas-docs/stable/user_guide/indexing.html#returning-a-view-versus-a-copy\n",
            "\n"
          ],
          "name": "stderr"
        }
      ]
    },
    {
      "cell_type": "markdown",
      "metadata": {
        "id": "akDvzPzzaOtZ"
      },
      "source": [
        "이름에서 mrs, ms등의 의미를 가진 문자를 변수로 생성"
      ]
    },
    {
      "cell_type": "code",
      "metadata": {
        "id": "wYj4YO2_Zb7q"
      },
      "source": [
        "def get_title(name):\r\n",
        "    title_search=re.search(' ([A-Za-z]+)\\.', name)\r\n",
        "    if title_search: return title_search.group(1)\r\n",
        "    return \"\""
      ],
      "execution_count": 112,
      "outputs": []
    },
    {
      "cell_type": "code",
      "metadata": {
        "id": "jHmHiYoCaBc3"
      },
      "source": [
        "train['Title']=np.vectorize(get_title)(train['Name'])\r\n",
        "test['Title']=np.vectorize(get_title)(test['Name'])"
      ],
      "execution_count": 113,
      "outputs": []
    },
    {
      "cell_type": "code",
      "metadata": {
        "id": "gnZfToqIadhu"
      },
      "source": [
        "def replace_names(dataset: pd.DataFrame):\r\n",
        "    #필요에 따라 확장할 수 있게 함수로 표현\r\n",
        "    #오타, 비정형 표현을 변형\r\n",
        "    replace_to_rare=['Lady', 'Countess','Capt', 'Col','Don', 'Dr', 'Major', 'Rev', 'Sir', 'Jonkheer', 'Dona']\r\n",
        "    replace_by_rule={'Mlle': 'Miss', 'Ms': 'Miss', 'Mme': 'Mrs'}\r\n",
        "\r\n",
        "    dataset['Title'] = dataset['Title'].replace(replace_to_rare, 'Rare')\r\n",
        "    for key, value in replace_by_rule.items():\r\n",
        "        dataset['Title'] = dataset['Title'].replace(key, value)\r\n",
        "    return None"
      ],
      "execution_count": 114,
      "outputs": []
    },
    {
      "cell_type": "code",
      "metadata": {
        "id": "WM-sZEwpbnG5"
      },
      "source": [
        "replace_names(train)\r\n",
        "replace_names(test)"
      ],
      "execution_count": 115,
      "outputs": []
    },
    {
      "cell_type": "markdown",
      "metadata": {
        "id": "kwZEkEHBfFni"
      },
      "source": [
        "Sex, title, fare, embarked, age를 숫자로 매핑"
      ]
    },
    {
      "cell_type": "code",
      "metadata": {
        "id": "bcIVKGhBfLra"
      },
      "source": [
        "def is_categorical(column, a=train, b=test):\r\n",
        "    #카테고리인지 확인\r\n",
        "    if np.array_equal(np.unique(a[column].values), np.unique(b[column].values)) & len(np.unique(a[column].values))<30:\r\n",
        "        return True\r\n",
        "    return False\r\n",
        "\r\n",
        "def mapper(dataset, column):\r\n",
        "    map_dict={}\r\n",
        "    for idx, key in enumerate(np.unique(dataset[column].values)):\r\n",
        "        map_dict[key]=idx\r\n",
        "\r\n",
        "    dataset[column]=dataset[column].map(map_dict).astype(int)"
      ],
      "execution_count": 116,
      "outputs": []
    },
    {
      "cell_type": "code",
      "metadata": {
        "id": "DYxV7_P6iwPT"
      },
      "source": [
        "import sys\r\n",
        "def range_mapper(dataset, column, c_range: list):\r\n",
        "    c_range.insert(0, float('-inf'))\r\n",
        "    c_range.append(float('inf'))\r\n",
        "    for idx in range(len(c_range)-1):\r\n",
        "        dataset.loc[(dataset[column]>c_range[idx]) & (dataset[column]<=c_range[idx+1]), column] = idx\r\n",
        "    dataset[column] = dataset[column].astype(int)"
      ],
      "execution_count": 117,
      "outputs": []
    },
    {
      "cell_type": "code",
      "metadata": {
        "id": "UMLSCRYmhFzC"
      },
      "source": [
        "if is_categorical('Sex'): \r\n",
        "    mapper(train, 'Sex')\r\n",
        "    mapper(test, 'Sex')\r\n",
        "\r\n",
        "if is_categorical('Title'): \r\n",
        "    mapper(train, 'Title')\r\n",
        "    mapper(test, 'Title')\r\n",
        "\r\n",
        "if is_categorical('Embarked'): \r\n",
        "    mapper(train, 'Embarked')\r\n",
        "    mapper(test, 'Embarked')"
      ],
      "execution_count": 118,
      "outputs": []
    },
    {
      "cell_type": "code",
      "metadata": {
        "id": "3DnhBtrhi4jD"
      },
      "source": [
        "range_mapper(train, 'Fare', [7.91, 14.454, 31])\r\n",
        "range_mapper(test, 'Fare', [7.91, 14.454, 31])\r\n",
        "\r\n",
        "range_mapper(train, 'Age', [16, 32, 48, 64])\r\n",
        "range_mapper(test, 'Age', [16, 32, 48, 64])"
      ],
      "execution_count": 119,
      "outputs": []
    },
    {
      "cell_type": "markdown",
      "metadata": {
        "id": "Fg7JeBWnqHQi"
      },
      "source": [
        "사용할 컬럼 외에는 제거한다(Feature_selection)"
      ]
    },
    {
      "cell_type": "code",
      "metadata": {
        "id": "YsD6XHr-dj7W"
      },
      "source": [
        "drop_elements = ['PassengerId', 'Name', 'Ticket', 'Cabin', 'SibSp']\r\n",
        "train = train.drop(drop_elements, axis = 1).astype('int')\r\n",
        "test  = test.drop(drop_elements, axis = 1).astype('int')"
      ],
      "execution_count": 121,
      "outputs": []
    },
    {
      "cell_type": "code",
      "metadata": {
        "colab": {
          "base_uri": "https://localhost:8080/",
          "height": 218
        },
        "id": "Tzo7v9uAqWBE",
        "outputId": "bf69f780-1348-4e7f-d278-ce87ab060238"
      },
      "source": [
        "train.head()"
      ],
      "execution_count": 122,
      "outputs": [
        {
          "output_type": "execute_result",
          "data": {
            "text/html": [
              "<div>\n",
              "<style scoped>\n",
              "    .dataframe tbody tr th:only-of-type {\n",
              "        vertical-align: middle;\n",
              "    }\n",
              "\n",
              "    .dataframe tbody tr th {\n",
              "        vertical-align: top;\n",
              "    }\n",
              "\n",
              "    .dataframe thead th {\n",
              "        text-align: right;\n",
              "    }\n",
              "</style>\n",
              "<table border=\"1\" class=\"dataframe\">\n",
              "  <thead>\n",
              "    <tr style=\"text-align: right;\">\n",
              "      <th></th>\n",
              "      <th>Survived</th>\n",
              "      <th>Pclass</th>\n",
              "      <th>Sex</th>\n",
              "      <th>Age</th>\n",
              "      <th>Parch</th>\n",
              "      <th>Fare</th>\n",
              "      <th>Embarked</th>\n",
              "      <th>Ticket_type</th>\n",
              "      <th>Word_count</th>\n",
              "      <th>Cabin_class</th>\n",
              "      <th>Has_Cabin</th>\n",
              "      <th>Family_size</th>\n",
              "      <th>isalone</th>\n",
              "      <th>Title</th>\n",
              "    </tr>\n",
              "  </thead>\n",
              "  <tbody>\n",
              "    <tr>\n",
              "      <th>0</th>\n",
              "      <td>0</td>\n",
              "      <td>3</td>\n",
              "      <td>1</td>\n",
              "      <td>2</td>\n",
              "      <td>0</td>\n",
              "      <td>0</td>\n",
              "      <td>1</td>\n",
              "      <td>54</td>\n",
              "      <td>3</td>\n",
              "      <td>7</td>\n",
              "      <td>0</td>\n",
              "      <td>1</td>\n",
              "      <td>1</td>\n",
              "      <td>2</td>\n",
              "    </tr>\n",
              "    <tr>\n",
              "      <th>1</th>\n",
              "      <td>1</td>\n",
              "      <td>3</td>\n",
              "      <td>0</td>\n",
              "      <td>2</td>\n",
              "      <td>0</td>\n",
              "      <td>0</td>\n",
              "      <td>2</td>\n",
              "      <td>67</td>\n",
              "      <td>5</td>\n",
              "      <td>7</td>\n",
              "      <td>0</td>\n",
              "      <td>2</td>\n",
              "      <td>0</td>\n",
              "      <td>3</td>\n",
              "    </tr>\n",
              "    <tr>\n",
              "      <th>2</th>\n",
              "      <td>0</td>\n",
              "      <td>2</td>\n",
              "      <td>1</td>\n",
              "      <td>3</td>\n",
              "      <td>0</td>\n",
              "      <td>1</td>\n",
              "      <td>1</td>\n",
              "      <td>30</td>\n",
              "      <td>4</td>\n",
              "      <td>7</td>\n",
              "      <td>0</td>\n",
              "      <td>1</td>\n",
              "      <td>1</td>\n",
              "      <td>2</td>\n",
              "    </tr>\n",
              "    <tr>\n",
              "      <th>3</th>\n",
              "      <td>0</td>\n",
              "      <td>3</td>\n",
              "      <td>1</td>\n",
              "      <td>1</td>\n",
              "      <td>0</td>\n",
              "      <td>1</td>\n",
              "      <td>2</td>\n",
              "      <td>51</td>\n",
              "      <td>3</td>\n",
              "      <td>7</td>\n",
              "      <td>0</td>\n",
              "      <td>1</td>\n",
              "      <td>1</td>\n",
              "      <td>2</td>\n",
              "    </tr>\n",
              "    <tr>\n",
              "      <th>4</th>\n",
              "      <td>1</td>\n",
              "      <td>3</td>\n",
              "      <td>0</td>\n",
              "      <td>1</td>\n",
              "      <td>1</td>\n",
              "      <td>1</td>\n",
              "      <td>2</td>\n",
              "      <td>50</td>\n",
              "      <td>6</td>\n",
              "      <td>7</td>\n",
              "      <td>0</td>\n",
              "      <td>3</td>\n",
              "      <td>0</td>\n",
              "      <td>3</td>\n",
              "    </tr>\n",
              "  </tbody>\n",
              "</table>\n",
              "</div>"
            ],
            "text/plain": [
              "   Survived  Pclass  Sex  Age  ...  Has_Cabin  Family_size  isalone  Title\n",
              "0         0       3    1    2  ...          0            1        1      2\n",
              "1         1       3    0    2  ...          0            2        0      3\n",
              "2         0       2    1    3  ...          0            1        1      2\n",
              "3         0       3    1    1  ...          0            1        1      2\n",
              "4         1       3    0    1  ...          0            3        0      3\n",
              "\n",
              "[5 rows x 14 columns]"
            ]
          },
          "metadata": {
            "tags": []
          },
          "execution_count": 122
        }
      ]
    },
    {
      "cell_type": "code",
      "metadata": {
        "colab": {
          "base_uri": "https://localhost:8080/",
          "height": 218
        },
        "id": "KstY2sTrqXxq",
        "outputId": "f542a277-3fb2-48f3-961c-a86f6428de2e"
      },
      "source": [
        "test.head()"
      ],
      "execution_count": 123,
      "outputs": [
        {
          "output_type": "execute_result",
          "data": {
            "text/html": [
              "<div>\n",
              "<style scoped>\n",
              "    .dataframe tbody tr th:only-of-type {\n",
              "        vertical-align: middle;\n",
              "    }\n",
              "\n",
              "    .dataframe tbody tr th {\n",
              "        vertical-align: top;\n",
              "    }\n",
              "\n",
              "    .dataframe thead th {\n",
              "        text-align: right;\n",
              "    }\n",
              "</style>\n",
              "<table border=\"1\" class=\"dataframe\">\n",
              "  <thead>\n",
              "    <tr style=\"text-align: right;\">\n",
              "      <th></th>\n",
              "      <th>Survived</th>\n",
              "      <th>Pclass</th>\n",
              "      <th>Sex</th>\n",
              "      <th>Age</th>\n",
              "      <th>Parch</th>\n",
              "      <th>Fare</th>\n",
              "      <th>Embarked</th>\n",
              "      <th>Ticket_type</th>\n",
              "      <th>Word_count</th>\n",
              "      <th>Cabin_class</th>\n",
              "      <th>Has_Cabin</th>\n",
              "      <th>Family_size</th>\n",
              "      <th>isalone</th>\n",
              "      <th>Title</th>\n",
              "    </tr>\n",
              "  </thead>\n",
              "  <tbody>\n",
              "    <tr>\n",
              "      <th>0</th>\n",
              "      <td>0</td>\n",
              "      <td>3</td>\n",
              "      <td>1</td>\n",
              "      <td>1</td>\n",
              "      <td>0</td>\n",
              "      <td>0</td>\n",
              "      <td>2</td>\n",
              "      <td>30</td>\n",
              "      <td>3</td>\n",
              "      <td>5</td>\n",
              "      <td>0</td>\n",
              "      <td>1</td>\n",
              "      <td>1</td>\n",
              "      <td>2</td>\n",
              "    </tr>\n",
              "    <tr>\n",
              "      <th>1</th>\n",
              "      <td>0</td>\n",
              "      <td>1</td>\n",
              "      <td>1</td>\n",
              "      <td>1</td>\n",
              "      <td>0</td>\n",
              "      <td>2</td>\n",
              "      <td>2</td>\n",
              "      <td>0</td>\n",
              "      <td>4</td>\n",
              "      <td>2</td>\n",
              "      <td>1</td>\n",
              "      <td>1</td>\n",
              "      <td>1</td>\n",
              "      <td>2</td>\n",
              "    </tr>\n",
              "    <tr>\n",
              "      <th>2</th>\n",
              "      <td>0</td>\n",
              "      <td>2</td>\n",
              "      <td>1</td>\n",
              "      <td>1</td>\n",
              "      <td>0</td>\n",
              "      <td>1</td>\n",
              "      <td>2</td>\n",
              "      <td>14</td>\n",
              "      <td>5</td>\n",
              "      <td>5</td>\n",
              "      <td>0</td>\n",
              "      <td>1</td>\n",
              "      <td>1</td>\n",
              "      <td>2</td>\n",
              "    </tr>\n",
              "    <tr>\n",
              "      <th>3</th>\n",
              "      <td>0</td>\n",
              "      <td>3</td>\n",
              "      <td>1</td>\n",
              "      <td>2</td>\n",
              "      <td>2</td>\n",
              "      <td>0</td>\n",
              "      <td>0</td>\n",
              "      <td>18</td>\n",
              "      <td>3</td>\n",
              "      <td>5</td>\n",
              "      <td>0</td>\n",
              "      <td>3</td>\n",
              "      <td>0</td>\n",
              "      <td>2</td>\n",
              "    </tr>\n",
              "    <tr>\n",
              "      <th>4</th>\n",
              "      <td>0</td>\n",
              "      <td>2</td>\n",
              "      <td>1</td>\n",
              "      <td>1</td>\n",
              "      <td>0</td>\n",
              "      <td>3</td>\n",
              "      <td>2</td>\n",
              "      <td>43</td>\n",
              "      <td>3</td>\n",
              "      <td>5</td>\n",
              "      <td>0</td>\n",
              "      <td>1</td>\n",
              "      <td>1</td>\n",
              "      <td>2</td>\n",
              "    </tr>\n",
              "  </tbody>\n",
              "</table>\n",
              "</div>"
            ],
            "text/plain": [
              "   Survived  Pclass  Sex  Age  ...  Has_Cabin  Family_size  isalone  Title\n",
              "0         0       3    1    1  ...          0            1        1      2\n",
              "1         0       1    1    1  ...          1            1        1      2\n",
              "2         0       2    1    1  ...          0            1        1      2\n",
              "3         0       3    1    2  ...          0            3        0      2\n",
              "4         0       2    1    1  ...          0            1        1      2\n",
              "\n",
              "[5 rows x 14 columns]"
            ]
          },
          "metadata": {
            "tags": []
          },
          "execution_count": 123
        }
      ]
    },
    {
      "cell_type": "markdown",
      "metadata": {
        "id": "yDsDu59Xq04a"
      },
      "source": [
        "피어슨 상관계수 시각화"
      ]
    },
    {
      "cell_type": "code",
      "metadata": {
        "colab": {
          "base_uri": "https://localhost:8080/",
          "height": 789
        },
        "id": "7vNulkwEqcsJ",
        "outputId": "84327b4e-944b-4f77-b081-f36e2efe9c1c"
      },
      "source": [
        "colormap = plt.cm.RdBu\r\n",
        "plt.figure(figsize=(14,12))\r\n",
        "plt.title('Pearson Correlation of Features', y=1.05, size=15)\r\n",
        "sns.heatmap(train.astype(float).corr(),linewidths=0.1,vmax=1.0, \r\n",
        "            square=True, cmap=colormap, linecolor='white', annot=True)"
      ],
      "execution_count": 127,
      "outputs": [
        {
          "output_type": "execute_result",
          "data": {
            "text/plain": [
              "<matplotlib.axes._subplots.AxesSubplot at 0x7f750be9ffd0>"
            ]
          },
          "metadata": {
            "tags": []
          },
          "execution_count": 127
        },
        {
          "output_type": "display_data",
          "data": {
            "image/png": "[encoded data removed]",
            "text/plain": [
              "<Figure size 1008x864 with 2 Axes>"
            ]
          },
          "metadata": {
            "tags": [],
            "needs_background": "light"
          }
        }
      ]
    },
    {
      "cell_type": "code",
      "metadata": {
        "id": "QupGkUmFq62U"
      },
      "source": [
        "#sex와 survived, has_cabin과 cabin_class가 너무 강하게 연관됨. 개선이 필요\r\n",
        "#전처리 끝"
      ],
      "execution_count": null,
      "outputs": []
    }
  ]
}