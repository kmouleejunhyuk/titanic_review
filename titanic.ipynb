{
  "nbformat": 4,
  "nbformat_minor": 0,
  "metadata": {
    "colab": {
      "name": "titanic.ipynb",
      "provenance": [],
      "collapsed_sections": [],
      "authorship_tag": "ABX9TyMLrGXpr2OJmtccih1wO4o8",
      "include_colab_link": true
    },
    "kernelspec": {
      "name": "python3",
      "display_name": "Python 3"
    },
    "accelerator": "GPU"
  },
  "cells": [
    {
      "cell_type": "markdown",
      "metadata": {
        "id": "view-in-github",
        "colab_type": "text"
      },
      "source": [
        "<a href=\"https://colab.research.google.com/github/kmouleejunhyuk/titanic_review/blob/main/titanic.ipynb\" target=\"_parent\"><img src=\"https://colab.research.google.com/assets/colab-badge.svg\" alt=\"Open In Colab\"/></a>"
      ]
    },
    {
      "cell_type": "code",
      "metadata": {
        "id": "9EI3RV_FuZnb"
      },
      "source": [
        "##캐글의 타이타닉 분석 리뷰\n",
        "#리더보드 정확도 100% 전처리 기법 사용\n",
        "\n",
        "\n",
        "#원본: https://www.kaggle.com/imoore/titanic-the-only-notebook-you-need-to-see\n",
        "#추가로, 다층 FCNN 모델+kfold 구현 연습"
      ],
      "execution_count": 1,
      "outputs": []
    },
    {
      "cell_type": "code",
      "metadata": {
        "id": "-ogAsk9-uujL"
      },
      "source": [
        "#환경\n",
        "\n",
        "#google colab, pytorch"
      ],
      "execution_count": 2,
      "outputs": []
    },
    {
      "cell_type": "code",
      "metadata": {
        "colab": {
          "base_uri": "https://localhost:8080/"
        },
        "id": "WXvlSkvXryHQ",
        "outputId": "75cdd6d8-39ec-42ec-f7c8-f1d00904ef45"
      },
      "source": [
        "!nvidia-smi"
      ],
      "execution_count": 3,
      "outputs": [
        {
          "output_type": "stream",
          "text": [
            "Mon Feb 15 13:17:22 2021       \n",
            "+-----------------------------------------------------------------------------+\n",
            "| NVIDIA-SMI 460.39       Driver Version: 460.32.03    CUDA Version: 11.2     |\n",
            "|-------------------------------+----------------------+----------------------+\n",
            "| GPU  Name        Persistence-M| Bus-Id        Disp.A | Volatile Uncorr. ECC |\n",
            "| Fan  Temp  Perf  Pwr:Usage/Cap|         Memory-Usage | GPU-Util  Compute M. |\n",
            "|                               |                      |               MIG M. |\n",
            "|===============================+======================+======================|\n",
            "|   0  Tesla P4            Off  | 00000000:00:04.0 Off |                  N/A |\n",
            "| N/A   36C    P8     7W /  75W |      0MiB /  7611MiB |      0%      Default |\n",
            "|                               |                      |                  N/A |\n",
            "+-------------------------------+----------------------+----------------------+\n",
            "                                                                               \n",
            "+-----------------------------------------------------------------------------+\n",
            "| Processes:                                                                  |\n",
            "|  GPU   GI   CI        PID   Type   Process name                  GPU Memory |\n",
            "|        ID   ID                                                   Usage      |\n",
            "|=============================================================================|\n",
            "|  No running processes found                                                 |\n",
            "+-----------------------------------------------------------------------------+\n"
          ],
          "name": "stdout"
        }
      ]
    },
    {
      "cell_type": "code",
      "metadata": {
        "id": "QBGUS8ruZEXA",
        "colab": {
          "base_uri": "https://localhost:8080/"
        },
        "outputId": "eecf6dc7-7dbc-4e3d-b3c0-945f04478903"
      },
      "source": [
        " \n",
        "#구글 드라이브 마운트 & 경로설정\n",
        "#마운트하기 전, 구글 드라이브의 titanic 폴더에 타이타닉 csv를 업로드해야 합니다\n",
        "#kaggle 가입 후 데이터를 받을 수 있습니다\n",
        " \n",
        "from google.colab import drive\n",
        "drive.mount('/gdrive')\n",
        " \n",
        " \n",
        "PATH='/gdrive/My Drive/titanic'"
      ],
      "execution_count": 4,
      "outputs": [
        {
          "output_type": "stream",
          "text": [
            "Mounted at /gdrive\n"
          ],
          "name": "stdout"
        }
      ]
    },
    {
      "cell_type": "markdown",
      "metadata": {
        "id": "rDBsSXUkvS_5"
      },
      "source": [
        "라이브러리 로드"
      ]
    },
    {
      "cell_type": "code",
      "metadata": {
        "colab": {
          "base_uri": "https://localhost:8080/",
          "height": 17
        },
        "id": "rd7ZhENevF3p",
        "outputId": "36a9ec46-38e9-49c6-a509-fc57b318d4dc"
      },
      "source": [
        "import pandas as pd\r\n",
        "import numpy as np\r\n",
        "import re\r\n",
        "import os\r\n",
        "\r\n",
        "import sklearn\r\n",
        "import xgboost as xgb\r\n",
        "import seaborn as sns\r\n",
        "import matplotlib.pyplot as plt\r\n",
        "%matplotlib inline\r\n",
        "\r\n",
        "import plotly.offline as py\r\n",
        "py.init_notebook_mode(connected=True)\r\n",
        "import plotly.graph_objs as go\r\n",
        "import plotly.tools as tls\r\n",
        "\r\n",
        "import torch"
      ],
      "execution_count": 5,
      "outputs": [
        {
          "output_type": "display_data",
          "data": {
            "text/html": [
              "        <script type=\"text/javascript\">\n",
              "        window.PlotlyConfig = {MathJaxConfig: 'local'};\n",
              "        if (window.MathJax) {MathJax.Hub.Config({SVG: {font: \"STIX-Web\"}});}\n",
              "        if (typeof require !== 'undefined') {\n",
              "        require.undef(\"plotly\");\n",
              "        requirejs.config({\n",
              "            paths: {\n",
              "                'plotly': ['https://cdn.plot.ly/plotly-latest.min']\n",
              "            }\n",
              "        });\n",
              "        require(['plotly'], function(Plotly) {\n",
              "            window._Plotly = Plotly;\n",
              "        });\n",
              "        }\n",
              "        </script>\n",
              "        "
            ]
          },
          "metadata": {
            "tags": []
          }
        }
      ]
    },
    {
      "cell_type": "code",
      "metadata": {
        "colab": {
          "base_uri": "https://localhost:8080/"
        },
        "id": "0krPwtDqsC83",
        "outputId": "e7d11651-346f-441d-e1f1-2cf30da68567"
      },
      "source": [
        "device = torch.device('cuda' if torch.cuda.is_available() else 'cpu')\r\n",
        "print(\"using device: \", device)"
      ],
      "execution_count": 6,
      "outputs": [
        {
          "output_type": "stream",
          "text": [
            "using device:  cuda\n"
          ],
          "name": "stdout"
        }
      ]
    },
    {
      "cell_type": "markdown",
      "metadata": {
        "id": "W3LEtcbYvVxg"
      },
      "source": [
        "데이터 로드"
      ]
    },
    {
      "cell_type": "code",
      "metadata": {
        "id": "xpCkum80xw3M"
      },
      "source": [
        "train = pd.read_csv(os.path.join(PATH, 'train.csv'))\r\n",
        "test = pd.read_csv(os.path.join(PATH, 'test.csv'))\r\n",
        "\r\n",
        "passengerid=test['PassengerId'].ravel()"
      ],
      "execution_count": 7,
      "outputs": []
    },
    {
      "cell_type": "code",
      "metadata": {
        "id": "8uPmV_Phs0Vz",
        "colab": {
          "base_uri": "https://localhost:8080/",
          "height": 476
        },
        "outputId": "e097a064-4691-4d4a-f047-5b867990b320"
      },
      "source": [
        "train"
      ],
      "execution_count": 8,
      "outputs": [
        {
          "output_type": "execute_result",
          "data": {
            "text/html": [
              "<div>\n",
              "<style scoped>\n",
              "    .dataframe tbody tr th:only-of-type {\n",
              "        vertical-align: middle;\n",
              "    }\n",
              "\n",
              "    .dataframe tbody tr th {\n",
              "        vertical-align: top;\n",
              "    }\n",
              "\n",
              "    .dataframe thead th {\n",
              "        text-align: right;\n",
              "    }\n",
              "</style>\n",
              "<table border=\"1\" class=\"dataframe\">\n",
              "  <thead>\n",
              "    <tr style=\"text-align: right;\">\n",
              "      <th></th>\n",
              "      <th>PassengerId</th>\n",
              "      <th>Survived</th>\n",
              "      <th>Pclass</th>\n",
              "      <th>Name</th>\n",
              "      <th>Sex</th>\n",
              "      <th>Age</th>\n",
              "      <th>SibSp</th>\n",
              "      <th>Parch</th>\n",
              "      <th>Ticket</th>\n",
              "      <th>Fare</th>\n",
              "      <th>Cabin</th>\n",
              "      <th>Embarked</th>\n",
              "    </tr>\n",
              "  </thead>\n",
              "  <tbody>\n",
              "    <tr>\n",
              "      <th>0</th>\n",
              "      <td>1</td>\n",
              "      <td>0</td>\n",
              "      <td>3</td>\n",
              "      <td>Braund, Mr. Owen Harris</td>\n",
              "      <td>male</td>\n",
              "      <td>22.0</td>\n",
              "      <td>1</td>\n",
              "      <td>0</td>\n",
              "      <td>A/5 21171</td>\n",
              "      <td>7.2500</td>\n",
              "      <td>NaN</td>\n",
              "      <td>S</td>\n",
              "    </tr>\n",
              "    <tr>\n",
              "      <th>1</th>\n",
              "      <td>2</td>\n",
              "      <td>1</td>\n",
              "      <td>1</td>\n",
              "      <td>Cumings, Mrs. John Bradley (Florence Briggs Th...</td>\n",
              "      <td>female</td>\n",
              "      <td>38.0</td>\n",
              "      <td>1</td>\n",
              "      <td>0</td>\n",
              "      <td>PC 17599</td>\n",
              "      <td>71.2833</td>\n",
              "      <td>C85</td>\n",
              "      <td>C</td>\n",
              "    </tr>\n",
              "    <tr>\n",
              "      <th>2</th>\n",
              "      <td>3</td>\n",
              "      <td>1</td>\n",
              "      <td>3</td>\n",
              "      <td>Heikkinen, Miss. Laina</td>\n",
              "      <td>female</td>\n",
              "      <td>26.0</td>\n",
              "      <td>0</td>\n",
              "      <td>0</td>\n",
              "      <td>STON/O2. 3101282</td>\n",
              "      <td>7.9250</td>\n",
              "      <td>NaN</td>\n",
              "      <td>S</td>\n",
              "    </tr>\n",
              "    <tr>\n",
              "      <th>3</th>\n",
              "      <td>4</td>\n",
              "      <td>1</td>\n",
              "      <td>1</td>\n",
              "      <td>Futrelle, Mrs. Jacques Heath (Lily May Peel)</td>\n",
              "      <td>female</td>\n",
              "      <td>35.0</td>\n",
              "      <td>1</td>\n",
              "      <td>0</td>\n",
              "      <td>113803</td>\n",
              "      <td>53.1000</td>\n",
              "      <td>C123</td>\n",
              "      <td>S</td>\n",
              "    </tr>\n",
              "    <tr>\n",
              "      <th>4</th>\n",
              "      <td>5</td>\n",
              "      <td>0</td>\n",
              "      <td>3</td>\n",
              "      <td>Allen, Mr. William Henry</td>\n",
              "      <td>male</td>\n",
              "      <td>35.0</td>\n",
              "      <td>0</td>\n",
              "      <td>0</td>\n",
              "      <td>373450</td>\n",
              "      <td>8.0500</td>\n",
              "      <td>NaN</td>\n",
              "      <td>S</td>\n",
              "    </tr>\n",
              "    <tr>\n",
              "      <th>...</th>\n",
              "      <td>...</td>\n",
              "      <td>...</td>\n",
              "      <td>...</td>\n",
              "      <td>...</td>\n",
              "      <td>...</td>\n",
              "      <td>...</td>\n",
              "      <td>...</td>\n",
              "      <td>...</td>\n",
              "      <td>...</td>\n",
              "      <td>...</td>\n",
              "      <td>...</td>\n",
              "      <td>...</td>\n",
              "    </tr>\n",
              "    <tr>\n",
              "      <th>886</th>\n",
              "      <td>887</td>\n",
              "      <td>0</td>\n",
              "      <td>2</td>\n",
              "      <td>Montvila, Rev. Juozas</td>\n",
              "      <td>male</td>\n",
              "      <td>27.0</td>\n",
              "      <td>0</td>\n",
              "      <td>0</td>\n",
              "      <td>211536</td>\n",
              "      <td>13.0000</td>\n",
              "      <td>NaN</td>\n",
              "      <td>S</td>\n",
              "    </tr>\n",
              "    <tr>\n",
              "      <th>887</th>\n",
              "      <td>888</td>\n",
              "      <td>1</td>\n",
              "      <td>1</td>\n",
              "      <td>Graham, Miss. Margaret Edith</td>\n",
              "      <td>female</td>\n",
              "      <td>19.0</td>\n",
              "      <td>0</td>\n",
              "      <td>0</td>\n",
              "      <td>112053</td>\n",
              "      <td>30.0000</td>\n",
              "      <td>B42</td>\n",
              "      <td>S</td>\n",
              "    </tr>\n",
              "    <tr>\n",
              "      <th>888</th>\n",
              "      <td>889</td>\n",
              "      <td>0</td>\n",
              "      <td>3</td>\n",
              "      <td>Johnston, Miss. Catherine Helen \"Carrie\"</td>\n",
              "      <td>female</td>\n",
              "      <td>NaN</td>\n",
              "      <td>1</td>\n",
              "      <td>2</td>\n",
              "      <td>W./C. 6607</td>\n",
              "      <td>23.4500</td>\n",
              "      <td>NaN</td>\n",
              "      <td>S</td>\n",
              "    </tr>\n",
              "    <tr>\n",
              "      <th>889</th>\n",
              "      <td>890</td>\n",
              "      <td>1</td>\n",
              "      <td>1</td>\n",
              "      <td>Behr, Mr. Karl Howell</td>\n",
              "      <td>male</td>\n",
              "      <td>26.0</td>\n",
              "      <td>0</td>\n",
              "      <td>0</td>\n",
              "      <td>111369</td>\n",
              "      <td>30.0000</td>\n",
              "      <td>C148</td>\n",
              "      <td>C</td>\n",
              "    </tr>\n",
              "    <tr>\n",
              "      <th>890</th>\n",
              "      <td>891</td>\n",
              "      <td>0</td>\n",
              "      <td>3</td>\n",
              "      <td>Dooley, Mr. Patrick</td>\n",
              "      <td>male</td>\n",
              "      <td>32.0</td>\n",
              "      <td>0</td>\n",
              "      <td>0</td>\n",
              "      <td>370376</td>\n",
              "      <td>7.7500</td>\n",
              "      <td>NaN</td>\n",
              "      <td>Q</td>\n",
              "    </tr>\n",
              "  </tbody>\n",
              "</table>\n",
              "<p>891 rows × 12 columns</p>\n",
              "</div>"
            ],
            "text/plain": [
              "     PassengerId  Survived  Pclass  ...     Fare Cabin  Embarked\n",
              "0              1         0       3  ...   7.2500   NaN         S\n",
              "1              2         1       1  ...  71.2833   C85         C\n",
              "2              3         1       3  ...   7.9250   NaN         S\n",
              "3              4         1       1  ...  53.1000  C123         S\n",
              "4              5         0       3  ...   8.0500   NaN         S\n",
              "..           ...       ...     ...  ...      ...   ...       ...\n",
              "886          887         0       2  ...  13.0000   NaN         S\n",
              "887          888         1       1  ...  30.0000   B42         S\n",
              "888          889         0       3  ...  23.4500   NaN         S\n",
              "889          890         1       1  ...  30.0000  C148         C\n",
              "890          891         0       3  ...   7.7500   NaN         Q\n",
              "\n",
              "[891 rows x 12 columns]"
            ]
          },
          "metadata": {
            "tags": []
          },
          "execution_count": 8
        }
      ]
    },
    {
      "cell_type": "code",
      "metadata": {
        "colab": {
          "base_uri": "https://localhost:8080/"
        },
        "id": "FO7qgNs2bcO7",
        "outputId": "73418b62-79a8-42ca-ee8e-5a5a9945c764"
      },
      "source": [
        "print(train.head())\r\n",
        "print(test.head())\r\n",
        "\r\n",
        "print(train.columns)"
      ],
      "execution_count": 9,
      "outputs": [
        {
          "output_type": "stream",
          "text": [
            "   PassengerId  Survived  Pclass  ...     Fare Cabin  Embarked\n",
            "0            1         0       3  ...   7.2500   NaN         S\n",
            "1            2         1       1  ...  71.2833   C85         C\n",
            "2            3         1       3  ...   7.9250   NaN         S\n",
            "3            4         1       1  ...  53.1000  C123         S\n",
            "4            5         0       3  ...   8.0500   NaN         S\n",
            "\n",
            "[5 rows x 12 columns]\n",
            "   PassengerId  Pclass  ... Cabin Embarked\n",
            "0          892       3  ...   NaN        Q\n",
            "1          893       3  ...   NaN        S\n",
            "2          894       2  ...   NaN        Q\n",
            "3          895       3  ...   NaN        S\n",
            "4          896       3  ...   NaN        S\n",
            "\n",
            "[5 rows x 11 columns]\n",
            "Index(['PassengerId', 'Survived', 'Pclass', 'Name', 'Sex', 'Age', 'SibSp',\n",
            "       'Parch', 'Ticket', 'Fare', 'Cabin', 'Embarked'],\n",
            "      dtype='object')\n"
          ],
          "name": "stdout"
        }
      ]
    },
    {
      "cell_type": "markdown",
      "metadata": {
        "id": "MCcvxKmsdGYf"
      },
      "source": [
        "데이터에 ticket_type라는 변수 추가(이유는 잘 모르겠다)\r\n"
      ]
    },
    {
      "cell_type": "code",
      "metadata": {
        "colab": {
          "base_uri": "https://localhost:8080/",
          "height": 207
        },
        "id": "JmG-eIMTbv4H",
        "outputId": "37db2577-e2d8-4984-e586-bb77ba386af5"
      },
      "source": [
        "#원본에서는 pd.DataFrame.apply()를 사용했지만, 속도 개선을 위해 np.vectorize() 사용\r\n",
        "train['Ticket_type']=np.vectorize(lambda x: x[0:3])(train['Ticket'])\r\n",
        "train['Ticket_type']=train['Ticket_type'].astype('category')\r\n",
        "train['Ticket_type']=train['Ticket_type'].cat.codes\r\n",
        "\r\n",
        "train.head(3)"
      ],
      "execution_count": 10,
      "outputs": [
        {
          "output_type": "execute_result",
          "data": {
            "text/html": [
              "<div>\n",
              "<style scoped>\n",
              "    .dataframe tbody tr th:only-of-type {\n",
              "        vertical-align: middle;\n",
              "    }\n",
              "\n",
              "    .dataframe tbody tr th {\n",
              "        vertical-align: top;\n",
              "    }\n",
              "\n",
              "    .dataframe thead th {\n",
              "        text-align: right;\n",
              "    }\n",
              "</style>\n",
              "<table border=\"1\" class=\"dataframe\">\n",
              "  <thead>\n",
              "    <tr style=\"text-align: right;\">\n",
              "      <th></th>\n",
              "      <th>PassengerId</th>\n",
              "      <th>Survived</th>\n",
              "      <th>Pclass</th>\n",
              "      <th>Name</th>\n",
              "      <th>Sex</th>\n",
              "      <th>Age</th>\n",
              "      <th>SibSp</th>\n",
              "      <th>Parch</th>\n",
              "      <th>Ticket</th>\n",
              "      <th>Fare</th>\n",
              "      <th>Cabin</th>\n",
              "      <th>Embarked</th>\n",
              "      <th>Ticket_type</th>\n",
              "    </tr>\n",
              "  </thead>\n",
              "  <tbody>\n",
              "    <tr>\n",
              "      <th>0</th>\n",
              "      <td>1</td>\n",
              "      <td>0</td>\n",
              "      <td>3</td>\n",
              "      <td>Braund, Mr. Owen Harris</td>\n",
              "      <td>male</td>\n",
              "      <td>22.0</td>\n",
              "      <td>1</td>\n",
              "      <td>0</td>\n",
              "      <td>A/5 21171</td>\n",
              "      <td>7.2500</td>\n",
              "      <td>NaN</td>\n",
              "      <td>S</td>\n",
              "      <td>124</td>\n",
              "    </tr>\n",
              "    <tr>\n",
              "      <th>1</th>\n",
              "      <td>2</td>\n",
              "      <td>1</td>\n",
              "      <td>1</td>\n",
              "      <td>Cumings, Mrs. John Bradley (Florence Briggs Th...</td>\n",
              "      <td>female</td>\n",
              "      <td>38.0</td>\n",
              "      <td>1</td>\n",
              "      <td>0</td>\n",
              "      <td>PC 17599</td>\n",
              "      <td>71.2833</td>\n",
              "      <td>C85</td>\n",
              "      <td>C</td>\n",
              "      <td>137</td>\n",
              "    </tr>\n",
              "    <tr>\n",
              "      <th>2</th>\n",
              "      <td>3</td>\n",
              "      <td>1</td>\n",
              "      <td>3</td>\n",
              "      <td>Heikkinen, Miss. Laina</td>\n",
              "      <td>female</td>\n",
              "      <td>26.0</td>\n",
              "      <td>0</td>\n",
              "      <td>0</td>\n",
              "      <td>STON/O2. 3101282</td>\n",
              "      <td>7.9250</td>\n",
              "      <td>NaN</td>\n",
              "      <td>S</td>\n",
              "      <td>148</td>\n",
              "    </tr>\n",
              "  </tbody>\n",
              "</table>\n",
              "</div>"
            ],
            "text/plain": [
              "   PassengerId  Survived  Pclass  ... Cabin Embarked  Ticket_type\n",
              "0            1         0       3  ...   NaN        S          124\n",
              "1            2         1       1  ...   C85        C          137\n",
              "2            3         1       3  ...   NaN        S          148\n",
              "\n",
              "[3 rows x 13 columns]"
            ]
          },
          "metadata": {
            "tags": []
          },
          "execution_count": 10
        }
      ]
    },
    {
      "cell_type": "code",
      "metadata": {
        "id": "aZXrN_LlcNQz",
        "colab": {
          "base_uri": "https://localhost:8080/",
          "height": 138
        },
        "outputId": "9ea7421c-b7a7-482a-8cc2-0de2c829cdef"
      },
      "source": [
        "test['Ticket_type']=np.vectorize(lambda x: x[0:3])(test['Ticket'])\r\n",
        "test['Ticket_type']=test['Ticket_type'].astype('category')\r\n",
        "test['Ticket_type']=test['Ticket_type'].cat.codes\r\n",
        "\r\n",
        "test.head(3)"
      ],
      "execution_count": 11,
      "outputs": [
        {
          "output_type": "execute_result",
          "data": {
            "text/html": [
              "<div>\n",
              "<style scoped>\n",
              "    .dataframe tbody tr th:only-of-type {\n",
              "        vertical-align: middle;\n",
              "    }\n",
              "\n",
              "    .dataframe tbody tr th {\n",
              "        vertical-align: top;\n",
              "    }\n",
              "\n",
              "    .dataframe thead th {\n",
              "        text-align: right;\n",
              "    }\n",
              "</style>\n",
              "<table border=\"1\" class=\"dataframe\">\n",
              "  <thead>\n",
              "    <tr style=\"text-align: right;\">\n",
              "      <th></th>\n",
              "      <th>PassengerId</th>\n",
              "      <th>Pclass</th>\n",
              "      <th>Name</th>\n",
              "      <th>Sex</th>\n",
              "      <th>Age</th>\n",
              "      <th>SibSp</th>\n",
              "      <th>Parch</th>\n",
              "      <th>Ticket</th>\n",
              "      <th>Fare</th>\n",
              "      <th>Cabin</th>\n",
              "      <th>Embarked</th>\n",
              "      <th>Ticket_type</th>\n",
              "    </tr>\n",
              "  </thead>\n",
              "  <tbody>\n",
              "    <tr>\n",
              "      <th>0</th>\n",
              "      <td>892</td>\n",
              "      <td>3</td>\n",
              "      <td>Kelly, Mr. James</td>\n",
              "      <td>male</td>\n",
              "      <td>34.5</td>\n",
              "      <td>0</td>\n",
              "      <td>0</td>\n",
              "      <td>330911</td>\n",
              "      <td>7.8292</td>\n",
              "      <td>NaN</td>\n",
              "      <td>Q</td>\n",
              "      <td>58</td>\n",
              "    </tr>\n",
              "    <tr>\n",
              "      <th>1</th>\n",
              "      <td>893</td>\n",
              "      <td>3</td>\n",
              "      <td>Wilkes, Mrs. James (Ellen Needs)</td>\n",
              "      <td>female</td>\n",
              "      <td>47.0</td>\n",
              "      <td>1</td>\n",
              "      <td>0</td>\n",
              "      <td>363272</td>\n",
              "      <td>7.0000</td>\n",
              "      <td>NaN</td>\n",
              "      <td>S</td>\n",
              "      <td>71</td>\n",
              "    </tr>\n",
              "    <tr>\n",
              "      <th>2</th>\n",
              "      <td>894</td>\n",
              "      <td>2</td>\n",
              "      <td>Myles, Mr. Thomas Francis</td>\n",
              "      <td>male</td>\n",
              "      <td>62.0</td>\n",
              "      <td>0</td>\n",
              "      <td>0</td>\n",
              "      <td>240276</td>\n",
              "      <td>9.6875</td>\n",
              "      <td>NaN</td>\n",
              "      <td>Q</td>\n",
              "      <td>32</td>\n",
              "    </tr>\n",
              "  </tbody>\n",
              "</table>\n",
              "</div>"
            ],
            "text/plain": [
              "   PassengerId  Pclass  ... Embarked Ticket_type\n",
              "0          892       3  ...        Q          58\n",
              "1          893       3  ...        S          71\n",
              "2          894       2  ...        Q          32\n",
              "\n",
              "[3 rows x 12 columns]"
            ]
          },
          "metadata": {
            "tags": []
          },
          "execution_count": 11
        }
      ]
    },
    {
      "cell_type": "markdown",
      "metadata": {
        "id": "PQ2X575mJWV-"
      },
      "source": [
        "데이터에 이름 길이에 관한 변수 추가"
      ]
    },
    {
      "cell_type": "code",
      "metadata": {
        "id": "8TlzeU5HJTCZ"
      },
      "source": [
        "train['Word_count']=np.vectorize(lambda x: len(x.split()))(train['Name'])\r\n",
        "test['Word_count']=np.vectorize(lambda x: len(x.split()))(test['Name'])"
      ],
      "execution_count": 12,
      "outputs": []
    },
    {
      "cell_type": "markdown",
      "metadata": {
        "id": "fMwnCWmCN2Tn"
      },
      "source": [
        "Cabin 호수 별 변수 추가"
      ]
    },
    {
      "cell_type": "code",
      "metadata": {
        "id": "Vhz29nejLugY"
      },
      "source": [
        "#A30-->A-->0\r\n",
        "#커스텀\r\n",
        "train['Cabin_class']=np.vectorize(lambda x: x[0] if type(x)!=float else 'P')(train['Cabin'])\r\n",
        "train['Cabin_class']=train['Cabin_class'].astype('category').cat.codes\r\n",
        "test['Cabin_class']=np.vectorize(lambda x: x[0] if type(x)!=float else 'P')(test['Cabin'])\r\n",
        "test['Cabin_class']=test['Cabin_class'].astype('category').cat.codes"
      ],
      "execution_count": 13,
      "outputs": []
    },
    {
      "cell_type": "markdown",
      "metadata": {
        "id": "PV6vAQBiQvYs"
      },
      "source": [
        "승객의 선실 보유 여부를 알려주는 변수 추가(nan-->입석?)"
      ]
    },
    {
      "cell_type": "code",
      "metadata": {
        "id": "Cpo2ltYlOX6q"
      },
      "source": [
        "train['Has_Cabin']=np.vectorize(lambda x: 0 if type(x)==float else 1)(train['Cabin'])\r\n",
        "test['Has_Cabin']=np.vectorize(lambda x: 0 if type(x)==float else 1)(test['Cabin'])"
      ],
      "execution_count": 14,
      "outputs": []
    },
    {
      "cell_type": "markdown",
      "metadata": {
        "id": "zl2gG2RFR8_b"
      },
      "source": [
        "승객의 동승자 수 및 단독 승선 여부 변수 추가"
      ]
    },
    {
      "cell_type": "code",
      "metadata": {
        "id": "R2w3jxdYR3p_"
      },
      "source": [
        "train['Family_size']=train['SibSp'] + train['Parch'] + 1\r\n",
        "test['Family_size']=test['SibSp'] + test['Parch'] + 1"
      ],
      "execution_count": 15,
      "outputs": []
    },
    {
      "cell_type": "code",
      "metadata": {
        "id": "oQVyNBJ4SgZW"
      },
      "source": [
        "train['isalone']=np.vectorize(lambda x: 0 if x>1 else 1)(train['Family_size'])\r\n",
        "test['isalone']=np.vectorize(lambda x: 0 if x>1 else 1)(test['Family_size'])"
      ],
      "execution_count": 16,
      "outputs": []
    },
    {
      "cell_type": "markdown",
      "metadata": {
        "id": "wpJ2DCjzTYXy"
      },
      "source": [
        "Embarked 변수의 na 제거"
      ]
    },
    {
      "cell_type": "code",
      "metadata": {
        "id": "gSKZ27dhTR8v"
      },
      "source": [
        "train['Embarked']=train['Embarked'].fillna('S')\r\n",
        "test['Embarked']=test['Embarked'].fillna('S')"
      ],
      "execution_count": 17,
      "outputs": []
    },
    {
      "cell_type": "markdown",
      "metadata": {
        "id": "GtPnEZfoWELZ"
      },
      "source": [
        "표 가격(Fare)의 중위수로 na 대체 "
      ]
    },
    {
      "cell_type": "code",
      "metadata": {
        "id": "Q37Q5aDxTsLN"
      },
      "source": [
        "train['Fare']=train['Fare'].fillna(train['Fare'].median())\r\n",
        "test['Fare']=test['Fare'].fillna(test['Fare'].median())\r\n",
        "\r\n",
        "#원본에서는 categoricalfare라는 변수를 만들지만 사용하지 않음"
      ],
      "execution_count": 18,
      "outputs": []
    },
    {
      "cell_type": "code",
      "metadata": {
        "id": "nLELyMd2Zd9s",
        "colab": {
          "base_uri": "https://localhost:8080/"
        },
        "outputId": "95b4976f-e5a4-4aaf-823f-6db6c99fb14f"
      },
      "source": [
        "full_data=[train, test]\r\n",
        "\r\n",
        "for dataset in full_data:\r\n",
        "    age_avg = dataset['Age'].mean()\r\n",
        "    age_std = dataset['Age'].std()\r\n",
        "    age_null_count = dataset['Age'].isnull().sum()\r\n",
        "    age_null_random_list = np.random.randint(age_avg - age_std, age_avg + age_std, size=age_null_count)\r\n",
        "    dataset['Age'][np.isnan(dataset['Age'])] = age_null_random_list\r\n",
        "    dataset['Age'] = dataset['Age'].astype(int)"
      ],
      "execution_count": 19,
      "outputs": [
        {
          "output_type": "stream",
          "text": [
            "/usr/local/lib/python3.6/dist-packages/ipykernel_launcher.py:8: SettingWithCopyWarning:\n",
            "\n",
            "\n",
            "A value is trying to be set on a copy of a slice from a DataFrame\n",
            "\n",
            "See the caveats in the documentation: https://pandas.pydata.org/pandas-docs/stable/user_guide/indexing.html#returning-a-view-versus-a-copy\n",
            "\n"
          ],
          "name": "stderr"
        }
      ]
    },
    {
      "cell_type": "markdown",
      "metadata": {
        "id": "akDvzPzzaOtZ"
      },
      "source": [
        "이름에서 mrs, ms등의 의미를 가진 문자를 변수로 생성"
      ]
    },
    {
      "cell_type": "code",
      "metadata": {
        "id": "wYj4YO2_Zb7q"
      },
      "source": [
        "def get_title(name):\r\n",
        "    title_search=re.search(' ([A-Za-z]+)\\.', name)\r\n",
        "    if title_search: return title_search.group(1)\r\n",
        "    return \"\""
      ],
      "execution_count": 20,
      "outputs": []
    },
    {
      "cell_type": "code",
      "metadata": {
        "id": "jHmHiYoCaBc3"
      },
      "source": [
        "train['Title']=np.vectorize(get_title)(train['Name'])\r\n",
        "test['Title']=np.vectorize(get_title)(test['Name'])"
      ],
      "execution_count": 21,
      "outputs": []
    },
    {
      "cell_type": "code",
      "metadata": {
        "id": "gnZfToqIadhu"
      },
      "source": [
        "def replace_names(dataset: pd.DataFrame):\r\n",
        "    #필요에 따라 확장할 수 있게 함수로 표현\r\n",
        "    #오타, 비정형 표현을 변형\r\n",
        "    replace_to_rare=['Lady', 'Countess','Capt', 'Col','Don', 'Dr', 'Major', 'Rev', 'Sir', 'Jonkheer', 'Dona']\r\n",
        "    replace_by_rule={'Mlle': 'Miss', 'Ms': 'Miss', 'Mme': 'Mrs'}\r\n",
        "\r\n",
        "    dataset['Title'] = dataset['Title'].replace(replace_to_rare, 'Rare')\r\n",
        "    for key, value in replace_by_rule.items():\r\n",
        "        dataset['Title'] = dataset['Title'].replace(key, value)\r\n",
        "    return None"
      ],
      "execution_count": 22,
      "outputs": []
    },
    {
      "cell_type": "code",
      "metadata": {
        "id": "WM-sZEwpbnG5"
      },
      "source": [
        "replace_names(train)\r\n",
        "replace_names(test)"
      ],
      "execution_count": 23,
      "outputs": []
    },
    {
      "cell_type": "markdown",
      "metadata": {
        "id": "kwZEkEHBfFni"
      },
      "source": [
        "Sex, title, fare, embarked, age를 숫자로 매핑"
      ]
    },
    {
      "cell_type": "code",
      "metadata": {
        "id": "bcIVKGhBfLra"
      },
      "source": [
        "def is_categorical(column, a=train, b=test):\r\n",
        "    #카테고리인지 확인\r\n",
        "    if np.array_equal(np.unique(a[column].values), np.unique(b[column].values)) & len(np.unique(a[column].values))<30:\r\n",
        "        return True\r\n",
        "    return False\r\n",
        "\r\n",
        "def mapper(dataset, column):\r\n",
        "    map_dict={}\r\n",
        "    for idx, key in enumerate(np.unique(dataset[column].values)):\r\n",
        "        map_dict[key]=idx\r\n",
        "\r\n",
        "    dataset[column]=dataset[column].map(map_dict).astype(int)"
      ],
      "execution_count": 24,
      "outputs": []
    },
    {
      "cell_type": "code",
      "metadata": {
        "id": "DYxV7_P6iwPT"
      },
      "source": [
        "import sys\r\n",
        "def range_mapper(dataset, column, c_range: list):\r\n",
        "    c_range.insert(0, float('-inf'))\r\n",
        "    c_range.append(float('inf'))\r\n",
        "    for idx in range(len(c_range)-1):\r\n",
        "        dataset.loc[(dataset[column]>c_range[idx]) & (dataset[column]<=c_range[idx+1]), column] = idx\r\n",
        "    dataset[column] = dataset[column].astype(int)"
      ],
      "execution_count": 25,
      "outputs": []
    },
    {
      "cell_type": "code",
      "metadata": {
        "id": "UMLSCRYmhFzC"
      },
      "source": [
        "if is_categorical('Sex'): \r\n",
        "    mapper(train, 'Sex')\r\n",
        "    mapper(test, 'Sex')\r\n",
        "\r\n",
        "if is_categorical('Title'): \r\n",
        "    mapper(train, 'Title')\r\n",
        "    mapper(test, 'Title')\r\n",
        "\r\n",
        "if is_categorical('Embarked'): \r\n",
        "    mapper(train, 'Embarked')\r\n",
        "    mapper(test, 'Embarked')"
      ],
      "execution_count": 26,
      "outputs": []
    },
    {
      "cell_type": "code",
      "metadata": {
        "id": "3DnhBtrhi4jD"
      },
      "source": [
        "range_mapper(train, 'Fare', [7.91, 14.454, 31])\r\n",
        "range_mapper(test, 'Fare', [7.91, 14.454, 31])\r\n",
        "\r\n",
        "range_mapper(train, 'Age', [16, 32, 48, 64])\r\n",
        "range_mapper(test, 'Age', [16, 32, 48, 64])"
      ],
      "execution_count": 27,
      "outputs": []
    },
    {
      "cell_type": "markdown",
      "metadata": {
        "id": "Fg7JeBWnqHQi"
      },
      "source": [
        "사용할 컬럼 외에는 제거한다(Feature_selection)"
      ]
    },
    {
      "cell_type": "code",
      "metadata": {
        "id": "YsD6XHr-dj7W"
      },
      "source": [
        "drop_elements = ['PassengerId', 'Name', 'Ticket', 'Cabin', 'SibSp']\r\n",
        "train = train.drop(drop_elements, axis = 1).astype('int')\r\n",
        "test  = test.drop(drop_elements, axis = 1).astype('int')"
      ],
      "execution_count": 28,
      "outputs": []
    },
    {
      "cell_type": "code",
      "metadata": {
        "colab": {
          "base_uri": "https://localhost:8080/",
          "height": 218
        },
        "id": "Tzo7v9uAqWBE",
        "outputId": "6052a964-36e8-414f-f5a4-1d987fca0ab6"
      },
      "source": [
        "train.head()"
      ],
      "execution_count": 29,
      "outputs": [
        {
          "output_type": "execute_result",
          "data": {
            "text/html": [
              "<div>\n",
              "<style scoped>\n",
              "    .dataframe tbody tr th:only-of-type {\n",
              "        vertical-align: middle;\n",
              "    }\n",
              "\n",
              "    .dataframe tbody tr th {\n",
              "        vertical-align: top;\n",
              "    }\n",
              "\n",
              "    .dataframe thead th {\n",
              "        text-align: right;\n",
              "    }\n",
              "</style>\n",
              "<table border=\"1\" class=\"dataframe\">\n",
              "  <thead>\n",
              "    <tr style=\"text-align: right;\">\n",
              "      <th></th>\n",
              "      <th>Survived</th>\n",
              "      <th>Pclass</th>\n",
              "      <th>Sex</th>\n",
              "      <th>Age</th>\n",
              "      <th>Parch</th>\n",
              "      <th>Fare</th>\n",
              "      <th>Embarked</th>\n",
              "      <th>Ticket_type</th>\n",
              "      <th>Word_count</th>\n",
              "      <th>Cabin_class</th>\n",
              "      <th>Has_Cabin</th>\n",
              "      <th>Family_size</th>\n",
              "      <th>isalone</th>\n",
              "      <th>Title</th>\n",
              "    </tr>\n",
              "  </thead>\n",
              "  <tbody>\n",
              "    <tr>\n",
              "      <th>0</th>\n",
              "      <td>0</td>\n",
              "      <td>3</td>\n",
              "      <td>1</td>\n",
              "      <td>1</td>\n",
              "      <td>0</td>\n",
              "      <td>0</td>\n",
              "      <td>2</td>\n",
              "      <td>124</td>\n",
              "      <td>4</td>\n",
              "      <td>7</td>\n",
              "      <td>0</td>\n",
              "      <td>2</td>\n",
              "      <td>0</td>\n",
              "      <td>2</td>\n",
              "    </tr>\n",
              "    <tr>\n",
              "      <th>1</th>\n",
              "      <td>1</td>\n",
              "      <td>1</td>\n",
              "      <td>0</td>\n",
              "      <td>2</td>\n",
              "      <td>0</td>\n",
              "      <td>3</td>\n",
              "      <td>0</td>\n",
              "      <td>137</td>\n",
              "      <td>7</td>\n",
              "      <td>2</td>\n",
              "      <td>1</td>\n",
              "      <td>2</td>\n",
              "      <td>0</td>\n",
              "      <td>3</td>\n",
              "    </tr>\n",
              "    <tr>\n",
              "      <th>2</th>\n",
              "      <td>1</td>\n",
              "      <td>3</td>\n",
              "      <td>0</td>\n",
              "      <td>1</td>\n",
              "      <td>0</td>\n",
              "      <td>1</td>\n",
              "      <td>2</td>\n",
              "      <td>148</td>\n",
              "      <td>3</td>\n",
              "      <td>7</td>\n",
              "      <td>0</td>\n",
              "      <td>1</td>\n",
              "      <td>1</td>\n",
              "      <td>1</td>\n",
              "    </tr>\n",
              "    <tr>\n",
              "      <th>3</th>\n",
              "      <td>1</td>\n",
              "      <td>1</td>\n",
              "      <td>0</td>\n",
              "      <td>2</td>\n",
              "      <td>0</td>\n",
              "      <td>3</td>\n",
              "      <td>2</td>\n",
              "      <td>3</td>\n",
              "      <td>7</td>\n",
              "      <td>2</td>\n",
              "      <td>1</td>\n",
              "      <td>2</td>\n",
              "      <td>0</td>\n",
              "      <td>3</td>\n",
              "    </tr>\n",
              "    <tr>\n",
              "      <th>4</th>\n",
              "      <td>0</td>\n",
              "      <td>3</td>\n",
              "      <td>1</td>\n",
              "      <td>2</td>\n",
              "      <td>0</td>\n",
              "      <td>1</td>\n",
              "      <td>2</td>\n",
              "      <td>97</td>\n",
              "      <td>4</td>\n",
              "      <td>7</td>\n",
              "      <td>0</td>\n",
              "      <td>1</td>\n",
              "      <td>1</td>\n",
              "      <td>2</td>\n",
              "    </tr>\n",
              "  </tbody>\n",
              "</table>\n",
              "</div>"
            ],
            "text/plain": [
              "   Survived  Pclass  Sex  Age  ...  Has_Cabin  Family_size  isalone  Title\n",
              "0         0       3    1    1  ...          0            2        0      2\n",
              "1         1       1    0    2  ...          1            2        0      3\n",
              "2         1       3    0    1  ...          0            1        1      1\n",
              "3         1       1    0    2  ...          1            2        0      3\n",
              "4         0       3    1    2  ...          0            1        1      2\n",
              "\n",
              "[5 rows x 14 columns]"
            ]
          },
          "metadata": {
            "tags": []
          },
          "execution_count": 29
        }
      ]
    },
    {
      "cell_type": "code",
      "metadata": {
        "colab": {
          "base_uri": "https://localhost:8080/",
          "height": 198
        },
        "id": "KstY2sTrqXxq",
        "outputId": "99d37aff-ca40-4449-fcbe-a750820432bf"
      },
      "source": [
        "test.head()"
      ],
      "execution_count": 30,
      "outputs": [
        {
          "output_type": "execute_result",
          "data": {
            "text/html": [
              "<div>\n",
              "<style scoped>\n",
              "    .dataframe tbody tr th:only-of-type {\n",
              "        vertical-align: middle;\n",
              "    }\n",
              "\n",
              "    .dataframe tbody tr th {\n",
              "        vertical-align: top;\n",
              "    }\n",
              "\n",
              "    .dataframe thead th {\n",
              "        text-align: right;\n",
              "    }\n",
              "</style>\n",
              "<table border=\"1\" class=\"dataframe\">\n",
              "  <thead>\n",
              "    <tr style=\"text-align: right;\">\n",
              "      <th></th>\n",
              "      <th>Pclass</th>\n",
              "      <th>Sex</th>\n",
              "      <th>Age</th>\n",
              "      <th>Parch</th>\n",
              "      <th>Fare</th>\n",
              "      <th>Embarked</th>\n",
              "      <th>Ticket_type</th>\n",
              "      <th>Word_count</th>\n",
              "      <th>Cabin_class</th>\n",
              "      <th>Has_Cabin</th>\n",
              "      <th>Family_size</th>\n",
              "      <th>isalone</th>\n",
              "      <th>Title</th>\n",
              "    </tr>\n",
              "  </thead>\n",
              "  <tbody>\n",
              "    <tr>\n",
              "      <th>0</th>\n",
              "      <td>3</td>\n",
              "      <td>1</td>\n",
              "      <td>2</td>\n",
              "      <td>0</td>\n",
              "      <td>0</td>\n",
              "      <td>1</td>\n",
              "      <td>58</td>\n",
              "      <td>3</td>\n",
              "      <td>7</td>\n",
              "      <td>0</td>\n",
              "      <td>1</td>\n",
              "      <td>1</td>\n",
              "      <td>2</td>\n",
              "    </tr>\n",
              "    <tr>\n",
              "      <th>1</th>\n",
              "      <td>3</td>\n",
              "      <td>0</td>\n",
              "      <td>2</td>\n",
              "      <td>0</td>\n",
              "      <td>0</td>\n",
              "      <td>2</td>\n",
              "      <td>71</td>\n",
              "      <td>5</td>\n",
              "      <td>7</td>\n",
              "      <td>0</td>\n",
              "      <td>2</td>\n",
              "      <td>0</td>\n",
              "      <td>3</td>\n",
              "    </tr>\n",
              "    <tr>\n",
              "      <th>2</th>\n",
              "      <td>2</td>\n",
              "      <td>1</td>\n",
              "      <td>3</td>\n",
              "      <td>0</td>\n",
              "      <td>1</td>\n",
              "      <td>1</td>\n",
              "      <td>32</td>\n",
              "      <td>4</td>\n",
              "      <td>7</td>\n",
              "      <td>0</td>\n",
              "      <td>1</td>\n",
              "      <td>1</td>\n",
              "      <td>2</td>\n",
              "    </tr>\n",
              "    <tr>\n",
              "      <th>3</th>\n",
              "      <td>3</td>\n",
              "      <td>1</td>\n",
              "      <td>1</td>\n",
              "      <td>0</td>\n",
              "      <td>1</td>\n",
              "      <td>2</td>\n",
              "      <td>55</td>\n",
              "      <td>3</td>\n",
              "      <td>7</td>\n",
              "      <td>0</td>\n",
              "      <td>1</td>\n",
              "      <td>1</td>\n",
              "      <td>2</td>\n",
              "    </tr>\n",
              "    <tr>\n",
              "      <th>4</th>\n",
              "      <td>3</td>\n",
              "      <td>0</td>\n",
              "      <td>1</td>\n",
              "      <td>1</td>\n",
              "      <td>1</td>\n",
              "      <td>2</td>\n",
              "      <td>54</td>\n",
              "      <td>6</td>\n",
              "      <td>7</td>\n",
              "      <td>0</td>\n",
              "      <td>3</td>\n",
              "      <td>0</td>\n",
              "      <td>3</td>\n",
              "    </tr>\n",
              "  </tbody>\n",
              "</table>\n",
              "</div>"
            ],
            "text/plain": [
              "   Pclass  Sex  Age  Parch  ...  Has_Cabin  Family_size  isalone  Title\n",
              "0       3    1    2      0  ...          0            1        1      2\n",
              "1       3    0    2      0  ...          0            2        0      3\n",
              "2       2    1    3      0  ...          0            1        1      2\n",
              "3       3    1    1      0  ...          0            1        1      2\n",
              "4       3    0    1      1  ...          0            3        0      3\n",
              "\n",
              "[5 rows x 13 columns]"
            ]
          },
          "metadata": {
            "tags": []
          },
          "execution_count": 30
        }
      ]
    },
    {
      "cell_type": "markdown",
      "metadata": {
        "id": "yDsDu59Xq04a"
      },
      "source": [
        "피어슨 상관계수 시각화"
      ]
    },
    {
      "cell_type": "code",
      "metadata": {
        "colab": {
          "base_uri": "https://localhost:8080/",
          "height": 789
        },
        "id": "7vNulkwEqcsJ",
        "outputId": "f20afeb5-3ee9-4187-e180-af829b284117"
      },
      "source": [
        "colormap = plt.cm.RdBu\r\n",
        "plt.figure(figsize=(14,12))\r\n",
        "plt.title('Pearson Correlation of Features', y=1.05, size=15)\r\n",
        "sns.heatmap(train.astype(float).corr(),linewidths=0.1,vmax=1.0, \r\n",
        "            square=True, cmap=colormap, linecolor='white', annot=True)"
      ],
      "execution_count": 31,
      "outputs": [
        {
          "output_type": "execute_result",
          "data": {
            "text/plain": [
              "<matplotlib.axes._subplots.AxesSubplot at 0x7f1e4da0b5c0>"
            ]
          },
          "metadata": {
            "tags": []
          },
          "execution_count": 31
        },
        {
          "output_type": "display_data",
          "data": {
            "image/png": "[encoded data removed]",
            "text/plain": [
              "<Figure size 1008x864 with 2 Axes>"
            ]
          },
          "metadata": {
            "tags": [],
            "needs_background": "light"
          }
        }
      ]
    },
    {
      "cell_type": "code",
      "metadata": {
        "id": "3ss0Jdtyxdhx"
      },
      "source": [
        "origin=train.copy()\r\n",
        "origin=origin.sample(frac=1, replace=True, random_state=49)\r\n",
        "train_raw=origin.loc[:int(origin.shape[0]*0.8)].copy()\r\n",
        "valid_raw=origin.loc[int(origin.shape[0]*0.8):].copy()\r\n",
        "test['Survived']=0"
      ],
      "execution_count": 32,
      "outputs": []
    },
    {
      "cell_type": "code",
      "metadata": {
        "id": "tZAfzg9LwmHZ"
      },
      "source": [
        "x_train=train_raw.loc[:, train_raw.columns != 'Survived'].values\r\n",
        "y_train=train_raw['Survived'].values\r\n",
        "\r\n",
        "x_valid=valid_raw.loc[:, valid_raw.columns != 'Survived'].values\r\n",
        "y_valid=valid_raw['Survived'].values\r\n",
        "\r\n",
        "x_test=test.loc[:, test.columns != 'Survived'].values\r\n",
        "y_test=test['Survived']"
      ],
      "execution_count": 33,
      "outputs": []
    },
    {
      "cell_type": "code",
      "metadata": {
        "id": "QupGkUmFq62U"
      },
      "source": [
        "#has_cabin과 cabin_class가 너무 강하게 연관됨. 개선이 필요\r\n",
        "#전처리 끝"
      ],
      "execution_count": 34,
      "outputs": []
    },
    {
      "cell_type": "markdown",
      "metadata": {
        "id": "Oxux_AQFuIJs"
      },
      "source": [
        "분류 신경망 정의하기"
      ]
    },
    {
      "cell_type": "code",
      "metadata": {
        "id": "U2BguBrHtknJ"
      },
      "source": [
        "x_train=torch.FloatTensor(x_train)\r\n",
        "y_train=torch.LongTensor(y_train)"
      ],
      "execution_count": 35,
      "outputs": []
    },
    {
      "cell_type": "code",
      "metadata": {
        "id": "on7Rm_jFuQEn"
      },
      "source": [
        "x_valid=torch.FloatTensor(x_valid)\r\n",
        "y_valid=torch.LongTensor(y_valid)"
      ],
      "execution_count": 36,
      "outputs": []
    },
    {
      "cell_type": "code",
      "metadata": {
        "id": "FNRRaEKiwd5n"
      },
      "source": [
        "x_test=torch.FloatTensor(x_test)"
      ],
      "execution_count": 37,
      "outputs": []
    },
    {
      "cell_type": "code",
      "metadata": {
        "id": "i-VojtrCt_xy"
      },
      "source": [
        "import torch.nn.functional as F\r\n",
        "\r\n",
        "class Net(torch.nn.Module):\r\n",
        "    def __init__(self):\r\n",
        "        super(Net, self).__init__()\r\n",
        "        self.fc1_1=torch.nn.Linear(13, 512)\r\n",
        "        self.fc1_2=torch.nn.Linear(512, 64)\r\n",
        "        self.fc1_3=torch.nn.Linear(64, 10)\r\n",
        "\r\n",
        "        self.fc2_1=torch.nn.Linear(13, 64)\r\n",
        "        self.fc2_2=torch.nn.Linear(64, 512)\r\n",
        "        self.fc2_3=torch.nn.Linear(512, 10)\r\n",
        "\r\n",
        "        self.fc3_1=torch.nn.Linear(13, 128)\r\n",
        "        self.fc3_2=torch.nn.Linear(128, 128)\r\n",
        "        self.fc3_3=torch.nn.Linear(128, 10)\r\n",
        "\r\n",
        "        self.fc_full_1=torch.nn.Linear(30, 64)\r\n",
        "        self.fc_full_2=torch.nn.Linear(64, 128)\r\n",
        "        self.fc_full_3=torch.nn.Linear(128, 2)\r\n",
        "\r\n",
        "    def forward(self, x):\r\n",
        "        x1=self.fc1_1(x)\r\n",
        "        x1=F.relu(x1)\r\n",
        "        x1=self.fc1_2(x1)\r\n",
        "        x1=F.relu(x1)\r\n",
        "        x1=self.fc1_3(x1)\r\n",
        "        x1=F.relu(x1)\r\n",
        "\r\n",
        "        x2=self.fc2_1(x)\r\n",
        "        x2=F.relu(x2)\r\n",
        "        x2=self.fc2_2(x2)\r\n",
        "        x2=F.relu(x2)\r\n",
        "        x2=self.fc2_3(x2)\r\n",
        "        x2=F.relu(x2)\r\n",
        "\r\n",
        "        x3=self.fc3_1(x)\r\n",
        "        x3=F.relu(x3)\r\n",
        "        x3=self.fc3_2(x3)\r\n",
        "        x3=F.relu(x3)\r\n",
        "        x3=self.fc3_3(x3)\r\n",
        "        x3=F.relu(x3)\r\n",
        "\r\n",
        "\r\n",
        "        x=torch.cat((x1, x2, x3), dim=1)\r\n",
        "        x=self.fc_full_1(x)\r\n",
        "        x=F.relu(x)\r\n",
        "        x=self.fc_full_2(x)\r\n",
        "        x=F.relu(x)\r\n",
        "        x=self.fc_full_3(x)\r\n",
        "\r\n",
        "        return x\r\n",
        "\r\n",
        "model=Net().to(device)"
      ],
      "execution_count": 78,
      "outputs": []
    },
    {
      "cell_type": "markdown",
      "metadata": {
        "id": "hWc4rDgA9rbT"
      },
      "source": [
        "필요한 로스 함수와 옵티마이저 설정"
      ]
    },
    {
      "cell_type": "code",
      "metadata": {
        "id": "4mSw7oE12uUB"
      },
      "source": [
        "criterion = torch.nn.CrossEntropyLoss()\r\n",
        "optimizer = torch.optim.Adam(model.parameters(), lr=1e-5)"
      ],
      "execution_count": 79,
      "outputs": []
    },
    {
      "cell_type": "code",
      "metadata": {
        "id": "2PYgd1BK8Qt3"
      },
      "source": [
        "#accuracy 계산 함수\r\n",
        "def calc_accuracy(X,Y):\r\n",
        "    max_vals, max_indices = torch.max(X, 1)\r\n",
        "    train_acc = (max_indices == Y).sum().data.cpu().numpy()/max_indices.size()[0]\r\n",
        "    return train_acc"
      ],
      "execution_count": 80,
      "outputs": []
    },
    {
      "cell_type": "markdown",
      "metadata": {
        "id": "1-gRmAnd0Q8F"
      },
      "source": [
        "learning rate 1e-5, 20000 에포크를 돌려 보니, 약 7000epoch에서 로스가 다시 증가함.  \r\n",
        "에포크를 7000에서 고정\r\n",
        "\r\n",
        "![다운로드.png](data:image/png;base64,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)"
      ]
    },
    {
      "cell_type": "code",
      "metadata": {
        "colab": {
          "base_uri": "https://localhost:8080/"
        },
        "id": "azudqG0x5VcQ",
        "outputId": "c3522ce6-28a4-40db-e3f5-f531ee550330"
      },
      "source": [
        "from sklearn.utils import shuffle\r\n",
        "from torch.autograd import Variable\r\n",
        "\r\n",
        "epoch_max=7000\r\n",
        "model.train()\r\n",
        "\r\n",
        "valid_loss_arr=[]\r\n",
        "train_loss_arr=[]\r\n",
        "\r\n",
        "valid_acc_arr=[]\r\n",
        "train_acc_arr=[]\r\n",
        "\r\n",
        "for epoch in range(epoch_max):\r\n",
        "    \r\n",
        "    optimizer.zero_grad()\r\n",
        "    # Forward + Backward + Optimize\r\n",
        "    x_train=x_train.to(device)\r\n",
        "    y_train=y_train.to(device)\r\n",
        "    train_pred = model(x_train)\r\n",
        "    loss =criterion(train_pred, y_train)\r\n",
        "    loss.backward()\r\n",
        "    optimizer.step()\r\n",
        "\r\n",
        "    train_acc=calc_accuracy(train_pred, y_train)\r\n",
        "    loss=loss.data.cpu().numpy()\r\n",
        "\r\n",
        "    train_loss_arr.append(loss)\r\n",
        "    train_acc_arr.append(train_acc)\r\n",
        "\r\n",
        "    with torch.no_grad():\r\n",
        "        model.eval()\r\n",
        "        x_valid=x_valid.to(device)\r\n",
        "        y_valid=y_valid.to(device)\r\n",
        "\r\n",
        "        valid_pred=model(x_valid)\r\n",
        "        valid_loss=criterion(valid_pred, y_valid).cpu().numpy()\r\n",
        "        valid_acc=calc_accuracy(valid_pred, y_valid)\r\n",
        "\r\n",
        "        valid_loss_arr.append(valid_loss)\r\n",
        "        valid_acc_arr.append(valid_acc)\r\n",
        "\r\n",
        "    if epoch%(epoch_max//10)==0 or epoch==epoch_max-1: \r\n",
        "        print('Epoch ', epoch)\r\n",
        "        print('train_loss: ', loss, '    train_acc: ', train_acc)\r\n",
        "        print('valid_loss:  ', valid_loss, '    valid_acc: ', valid_acc)\r\n",
        "\r\n",
        "        \r\n"
      ],
      "execution_count": 81,
      "outputs": [
        {
          "output_type": "stream",
          "text": [
            "Epoch  0\n",
            "train_loss:  0.6725126     train_acc:  0.618421052631579\n",
            "valid_loss:   0.67018694     valid_acc:  0.6363636363636364\n",
            "Epoch  700\n",
            "train_loss:  0.57482016     train_acc:  0.7078947368421052\n",
            "valid_loss:   0.57628053     valid_acc:  0.7348484848484849\n",
            "Epoch  1400\n",
            "train_loss:  0.44311932     train_acc:  0.8276315789473684\n",
            "valid_loss:   0.50091773     valid_acc:  0.8106060606060606\n",
            "Epoch  2100\n",
            "train_loss:  0.3855984     train_acc:  0.8381578947368421\n",
            "valid_loss:   0.4466161     valid_acc:  0.8560606060606061\n",
            "Epoch  2800\n",
            "train_loss:  0.35667938     train_acc:  0.8368421052631579\n",
            "valid_loss:   0.39429376     valid_acc:  0.8560606060606061\n",
            "Epoch  3500\n",
            "train_loss:  0.33207262     train_acc:  0.8513157894736842\n",
            "valid_loss:   0.36568     valid_acc:  0.8636363636363636\n",
            "Epoch  4200\n",
            "train_loss:  0.31143713     train_acc:  0.8605263157894737\n",
            "valid_loss:   0.3404296     valid_acc:  0.8712121212121212\n",
            "Epoch  4900\n",
            "train_loss:  0.29207462     train_acc:  0.881578947368421\n",
            "valid_loss:   0.32460582     valid_acc:  0.8863636363636364\n",
            "Epoch  5600\n",
            "train_loss:  0.27414572     train_acc:  0.8960526315789473\n",
            "valid_loss:   0.3103997     valid_acc:  0.8863636363636364\n",
            "Epoch  6300\n",
            "train_loss:  0.2579314     train_acc:  0.9078947368421053\n",
            "valid_loss:   0.3014824     valid_acc:  0.8939393939393939\n",
            "Epoch  6999\n",
            "train_loss:  0.24394521     train_acc:  0.9118421052631579\n",
            "valid_loss:   0.29685527     valid_acc:  0.9015151515151515\n"
          ],
          "name": "stdout"
        }
      ]
    },
    {
      "cell_type": "code",
      "metadata": {
        "colab": {
          "base_uri": "https://localhost:8080/",
          "height": 351
        },
        "id": "lueniCT4wwkf",
        "outputId": "ae1c5daf-1496-42a7-ddff-c07bdf617d46"
      },
      "source": [
        "plt.figure(figsize=(5,5))\r\n",
        "plt.title('loss', y=1.05, size=15)\r\n",
        "\r\n",
        "plt.plot(range(epoch_max), train_loss_arr)\r\n",
        "plt.plot(range(epoch_max), valid_loss_arr)\r\n",
        "\r\n",
        "plt.show()"
      ],
      "execution_count": 82,
      "outputs": [
        {
          "output_type": "display_data",
          "data": {
            "image/png": "[encoded data removed]",
            "text/plain": [
              "<Figure size 360x360 with 1 Axes>"
            ]
          },
          "metadata": {
            "tags": [],
            "needs_background": "light"
          }
        }
      ]
    },
    {
      "cell_type": "code",
      "metadata": {
        "colab": {
          "base_uri": "https://localhost:8080/",
          "height": 351
        },
        "id": "g479DU0p0BH_",
        "outputId": "cae01ff9-b235-48cd-cab0-a0bc41668767"
      },
      "source": [
        "plt.figure(figsize=(5,5))\r\n",
        "plt.title('acc', y=1.05, size=15)\r\n",
        "\r\n",
        "plt.plot(range(epoch_max), train_acc_arr)\r\n",
        "plt.plot(range(epoch_max), valid_acc_arr)\r\n",
        "\r\n",
        "plt.show()"
      ],
      "execution_count": 83,
      "outputs": [
        {
          "output_type": "display_data",
          "data": {
            "image/png": "[encoded data removed]",
            "text/plain": [
              "<Figure size 360x360 with 1 Axes>"
            ]
          },
          "metadata": {
            "tags": [],
            "needs_background": "light"
          }
        }
      ]
    },
    {
      "cell_type": "markdown",
      "metadata": {
        "id": "1N00Cwkm1YDm"
      },
      "source": [
        "pytorch custom classifier: valid데이터 기준 약 89% 정답률"
      ]
    },
    {
      "cell_type": "code",
      "metadata": {
        "id": "SMtTXl8IAkID"
      },
      "source": [
        "pytorch_prediction=model(x_test.to(device))\r\n",
        "with torch.no_grad():\r\n",
        "    pytorch_prediction=np.argmax(pytorch_prediction.cpu().numpy(), axis=1)"
      ],
      "execution_count": 84,
      "outputs": []
    },
    {
      "cell_type": "code",
      "metadata": {
        "colab": {
          "base_uri": "https://localhost:8080/"
        },
        "id": "dqKGWxEWA15y",
        "outputId": "b79573dc-e046-480e-cc7c-ec838ad1f2ed"
      },
      "source": [
        "pytorch_prediction"
      ],
      "execution_count": 85,
      "outputs": [
        {
          "output_type": "execute_result",
          "data": {
            "text/plain": [
              "array([0, 0, 0, 0, 1, 0, 1, 0, 1, 0, 0, 1, 1, 0, 1, 1, 0, 0, 1, 1, 0, 1,\n",
              "       1, 1, 1, 0, 1, 0, 0, 0, 0, 0, 0, 1, 1, 1, 0, 1, 0, 1, 0, 0, 0, 1,\n",
              "       1, 0, 0, 0, 1, 0, 1, 0, 1, 1, 0, 0, 0, 0, 0, 1, 0, 0, 0, 1, 1, 1,\n",
              "       1, 0, 1, 1, 1, 0, 0, 1, 1, 0, 0, 1, 0, 1, 1, 0, 0, 0, 0, 0, 1, 1,\n",
              "       1, 1, 1, 0, 1, 0, 1, 0, 1, 0, 1, 0, 1, 0, 0, 0, 1, 0, 0, 0, 0, 1,\n",
              "       0, 0, 1, 1, 1, 0, 0, 1, 1, 1, 1, 0, 1, 0, 0, 1, 0, 0, 0, 0, 0, 1,\n",
              "       0, 1, 0, 0, 0, 0, 0, 0, 0, 1, 0, 0, 1, 0, 1, 0, 0, 0, 1, 0, 0, 0,\n",
              "       0, 0, 1, 1, 0, 1, 1, 1, 1, 0, 0, 1, 0, 0, 1, 1, 0, 0, 0, 0, 0, 1,\n",
              "       1, 1, 1, 1, 0, 0, 1, 0, 1, 0, 1, 0, 0, 0, 0, 1, 1, 0, 1, 0, 1, 1,\n",
              "       0, 1, 0, 1, 0, 1, 0, 1, 0, 0, 1, 0, 0, 0, 0, 1, 1, 0, 0, 0, 1, 0,\n",
              "       1, 0, 1, 0, 1, 1, 0, 1, 0, 0, 0, 1, 0, 0, 0, 0, 1, 0, 1, 1, 1, 1,\n",
              "       0, 0, 0, 0, 1, 0, 1, 1, 1, 0, 1, 0, 0, 0, 0, 0, 1, 0, 0, 0, 1, 1,\n",
              "       1, 0, 1, 0, 0, 0, 1, 0, 1, 1, 0, 1, 0, 0, 0, 0, 1, 0, 1, 1, 1, 0,\n",
              "       0, 1, 1, 0, 1, 1, 0, 1, 0, 0, 1, 0, 0, 0, 0, 0, 0, 0, 0, 1, 1, 1,\n",
              "       1, 0, 0, 0, 0, 0, 1, 0, 0, 0, 0, 0, 0, 1, 1, 0, 1, 0, 1, 1, 0, 0,\n",
              "       1, 0, 1, 1, 0, 0, 0, 1, 0, 1, 0, 0, 0, 1, 0, 1, 0, 1, 0, 1, 1, 0,\n",
              "       0, 0, 1, 0, 1, 0, 0, 0, 0, 1, 1, 0, 1, 0, 0, 0, 1, 0, 0, 1, 0, 0,\n",
              "       1, 1, 1, 0, 0, 0, 0, 0, 0, 1, 0, 1, 0, 0, 0, 0, 1, 1, 1, 0, 0, 1,\n",
              "       0, 1, 0, 1, 1, 0, 1, 0, 0, 1, 0, 1, 1, 1, 1, 1, 1, 0, 1, 0, 0, 1])"
            ]
          },
          "metadata": {
            "tags": []
          },
          "execution_count": 85
        }
      ]
    },
    {
      "cell_type": "code",
      "metadata": {
        "id": "OPfJKYQQ1jc1"
      },
      "source": [
        "#내일 앙상블 파라미터 조절, scheduler 할 수 있으면...?"
      ],
      "execution_count": null,
      "outputs": []
    },
    {
      "cell_type": "markdown",
      "metadata": {
        "id": "fgec-D0f9ypz"
      },
      "source": [
        "파트2. XGBoost와 앙상블, 부트스트래핑 기법을 활용한 모델"
      ]
    },
    {
      "cell_type": "code",
      "metadata": {
        "id": "wndfGqE-APih"
      },
      "source": [
        "#XGDBOOST with ensemble"
      ],
      "execution_count": null,
      "outputs": []
    },
    {
      "cell_type": "code",
      "metadata": {
        "id": "nMsWYZlOEYWq"
      },
      "source": [
        "import sklearn\r\n",
        "import xgboost as xgb"
      ],
      "execution_count": null,
      "outputs": []
    },
    {
      "cell_type": "code",
      "metadata": {
        "id": "cJFvz0KYuaA7"
      },
      "source": [
        "gbm = xgb.XGBClassifier(\r\n",
        "    #learning_rate = 0.02,\r\n",
        "    n_estimators= 2000,\r\n",
        "    max_depth= 4,\r\n",
        "    min_child_weight= 2,\r\n",
        "    #gamma=1,\r\n",
        "    gamma=0.9,                        \r\n",
        "    subsample=0.8,\r\n",
        "    colsample_bytree=0.8,\r\n",
        "    objective= 'binary:logistic',\r\n",
        "    nthread= -1,\r\n",
        "    scale_pos_weight=1).fit(x_train, y_train)\r\n",
        "    \r\n",
        "xgb_predictions = gbm.predict(x_test)"
      ],
      "execution_count": null,
      "outputs": []
    },
    {
      "cell_type": "code",
      "metadata": {
        "colab": {
          "base_uri": "https://localhost:8080/"
        },
        "id": "KSDKQB16wNIm",
        "outputId": "08f541ac-b052-4301-d998-0bf917e5003a"
      },
      "source": [
        "valid_pred_xgb = gbm.predict(x_valid)\r\n",
        "\r\n",
        "sum_correct=0\r\n",
        "for a, b in zip(valid_pred_xgb, y_valid):\r\n",
        "    if a==b: \r\n",
        "        sum_correct=sum_correct+1\r\n",
        "\r\n",
        "acc=sum_correct/y_valid.shape[0]\r\n",
        "print(acc)\r\n"
      ],
      "execution_count": null,
      "outputs": [
        {
          "output_type": "stream",
          "text": [
            "0.9090909090909091\n"
          ],
          "name": "stdout"
        }
      ]
    },
    {
      "cell_type": "code",
      "metadata": {
        "colab": {
          "base_uri": "https://localhost:8080/"
        },
        "id": "MdeLgUyBBW3b",
        "outputId": "1df6b0d2-82df-4a2a-8475-cd5ceb97840a"
      },
      "source": [
        "xgb_predictions"
      ],
      "execution_count": null,
      "outputs": [
        {
          "output_type": "execute_result",
          "data": {
            "text/plain": [
              "array([0, 0, 0, 0, 0, 0, 1, 0, 1, 0, 0, 0, 1, 0, 1, 1, 0, 0, 0, 1, 0, 1,\n",
              "       1, 0, 1, 0, 1, 0, 0, 0, 0, 0, 1, 0, 1, 1, 1, 1, 0, 0, 0, 1, 0, 1,\n",
              "       1, 0, 0, 0, 1, 1, 1, 0, 1, 1, 0, 0, 0, 1, 0, 1, 0, 0, 0, 1, 0, 1,\n",
              "       1, 0, 0, 1, 1, 0, 1, 1, 1, 0, 0, 1, 0, 1, 1, 0, 0, 0, 0, 0, 1, 1,\n",
              "       1, 1, 0, 0, 1, 0, 1, 0, 1, 0, 1, 0, 1, 0, 0, 0, 1, 0, 0, 0, 0, 0,\n",
              "       0, 1, 1, 1, 1, 0, 0, 1, 1, 1, 1, 0, 1, 0, 0, 1, 0, 0, 1, 0, 0, 0,\n",
              "       0, 0, 0, 0, 0, 0, 0, 0, 0, 1, 0, 0, 1, 0, 1, 0, 1, 1, 1, 0, 0, 0,\n",
              "       0, 0, 1, 1, 1, 0, 1, 1, 1, 0, 0, 0, 0, 0, 1, 1, 0, 0, 0, 0, 0, 1,\n",
              "       1, 0, 1, 1, 0, 0, 1, 0, 1, 0, 1, 0, 0, 0, 0, 1, 1, 0, 1, 0, 1, 1,\n",
              "       0, 1, 0, 1, 0, 1, 0, 0, 0, 0, 1, 0, 0, 0, 0, 1, 1, 0, 1, 0, 1, 0,\n",
              "       1, 0, 1, 0, 1, 1, 0, 1, 0, 0, 0, 1, 0, 0, 0, 0, 0, 0, 1, 1, 1, 1,\n",
              "       0, 0, 0, 1, 1, 0, 1, 0, 1, 0, 1, 0, 0, 0, 0, 0, 1, 0, 0, 0, 1, 1,\n",
              "       1, 0, 0, 0, 1, 0, 0, 0, 1, 0, 0, 1, 0, 0, 0, 0, 1, 1, 0, 1, 1, 0,\n",
              "       0, 1, 0, 0, 0, 1, 0, 0, 0, 0, 1, 0, 0, 0, 0, 1, 0, 0, 1, 1, 1, 1,\n",
              "       0, 0, 0, 0, 0, 0, 1, 0, 0, 0, 0, 0, 0, 0, 0, 0, 1, 0, 1, 0, 1, 0,\n",
              "       1, 0, 0, 1, 0, 1, 0, 0, 0, 1, 0, 0, 0, 1, 0, 1, 0, 1, 0, 1, 1, 0,\n",
              "       0, 0, 1, 0, 1, 0, 0, 1, 0, 1, 1, 0, 1, 0, 0, 0, 1, 0, 0, 1, 0, 0,\n",
              "       1, 1, 1, 0, 0, 0, 0, 0, 0, 0, 0, 1, 1, 0, 0, 0, 0, 1, 1, 0, 0, 1,\n",
              "       0, 1, 0, 0, 1, 0, 1, 0, 1, 1, 0, 0, 1, 0, 0, 1, 1, 0, 1, 0, 0, 0])"
            ]
          },
          "metadata": {
            "tags": []
          },
          "execution_count": 100
        }
      ]
    },
    {
      "cell_type": "markdown",
      "metadata": {
        "id": "VO95bDtD-MIz"
      },
      "source": [
        "앙상블"
      ]
    },
    {
      "cell_type": "code",
      "metadata": {
        "id": "S9VcyWKu-k-i"
      },
      "source": [
        "w_1=0.3\r\n",
        "w_2=0.6"
      ],
      "execution_count": null,
      "outputs": []
    },
    {
      "cell_type": "code",
      "metadata": {
        "id": "PX4idG_f_Qd1"
      },
      "source": [
        "df_ensemble = pd.DataFrame()\r\n",
        "df_ensemble['id']=passengerid\r\n",
        "df_ensemble['Survived']=w_1*xgb_predictions + w_2*pytorch_prediction"
      ],
      "execution_count": null,
      "outputs": []
    },
    {
      "cell_type": "code",
      "metadata": {
        "id": "63B2uCiyB6G7"
      },
      "source": [
        "df_ensemble['Survived'] = df_ensemble['Survived'].apply(lambda f: 1 if f>=0.5 else 0)"
      ],
      "execution_count": null,
      "outputs": []
    },
    {
      "cell_type": "code",
      "metadata": {
        "colab": {
          "base_uri": "https://localhost:8080/"
        },
        "id": "n3Z5gU1pCjYC",
        "outputId": "2f41c3b8-8659-463a-85db-a801cd3f85a9"
      },
      "source": [
        "np.unique(df_ensemble['Survived'].values, return_counts=True)"
      ],
      "execution_count": null,
      "outputs": [
        {
          "output_type": "execute_result",
          "data": {
            "text/plain": [
              "(array([0, 1]), array([255, 163]))"
            ]
          },
          "metadata": {
            "tags": []
          },
          "execution_count": 111
        }
      ]
    },
    {
      "cell_type": "markdown",
      "metadata": {
        "id": "PeBxkVPbCubS"
      },
      "source": [
        "valid data로 검증"
      ]
    },
    {
      "cell_type": "code",
      "metadata": {
        "id": "NkhPkKEVC-NC"
      },
      "source": [
        "pytorch_valid=model(Variable(torch.FloatTensor(x_valid)))\r\n",
        "pytorch_valid=np.argmax(pytorch_valid.detach().numpy(), axis=1)"
      ],
      "execution_count": null,
      "outputs": []
    },
    {
      "cell_type": "code",
      "metadata": {
        "id": "xdKeChHdCtSC"
      },
      "source": [
        "valid_ensemble = pd.DataFrame()\r\n",
        "valid_ensemble['Survived']=w_1*gbm.predict(x_valid) + w_2*pytorch_valid"
      ],
      "execution_count": null,
      "outputs": []
    },
    {
      "cell_type": "code",
      "metadata": {
        "id": "GIgPtu0EDNlT"
      },
      "source": [
        "valid_ensemble['Survived'] = df_ensemble['Survived'].apply(lambda f: 1 if f>=0.5 else 0)"
      ],
      "execution_count": null,
      "outputs": []
    },
    {
      "cell_type": "code",
      "metadata": {
        "colab": {
          "base_uri": "https://localhost:8080/"
        },
        "id": "XeD-XrjcDPE1",
        "outputId": "7f6f19fb-c04b-4d85-e827-4dab6a9a2c17"
      },
      "source": [
        "sum_correct=0\r\n",
        "for a, b in zip(valid_ensemble['Survived'].ravel(), y_valid):\r\n",
        "    if a==b: \r\n",
        "        sum_correct=sum_correct+1\r\n",
        "\r\n",
        "acc=sum_correct/y_valid.shape[0]\r\n",
        "print(acc)"
      ],
      "execution_count": null,
      "outputs": [
        {
          "output_type": "stream",
          "text": [
            "0.5075757575757576\n"
          ],
          "name": "stdout"
        }
      ]
    },
    {
      "cell_type": "code",
      "metadata": {
        "colab": {
          "base_uri": "https://localhost:8080/"
        },
        "id": "-totxLQNDb2C",
        "outputId": "596d8fff-bdf6-4af7-f3d7-4bee6af4155a"
      },
      "source": [
        "y_valid"
      ],
      "execution_count": null,
      "outputs": [
        {
          "output_type": "execute_result",
          "data": {
            "text/plain": [
              "array([1, 0, 1, 0, 1, 0, 1, 0, 0, 0, 0, 0, 1, 1, 1, 1, 1, 0, 0, 1, 1, 1,\n",
              "       1, 0, 1, 1, 0, 0, 1, 0, 0, 1, 1, 1, 0, 1, 0, 0, 1, 1, 0, 0, 0, 0,\n",
              "       1, 0, 0, 0, 1, 0, 0, 0, 0, 1, 0, 0, 0, 0, 0, 0, 0, 0, 1, 0, 0, 0,\n",
              "       0, 1, 1, 0, 0, 0, 0, 1, 0, 0, 1, 0, 0, 0, 0, 0, 1, 0, 0, 1, 1, 0,\n",
              "       0, 0, 1, 1, 0, 0, 0, 1, 0, 0, 1, 1, 0, 1, 0, 0, 1, 0, 0, 1, 0, 1,\n",
              "       0, 0, 0, 0, 0, 0, 0, 1, 0, 1, 0, 0, 1, 1, 0, 0, 0, 1, 0, 0, 0, 1])"
            ]
          },
          "metadata": {
            "tags": []
          },
          "execution_count": 118
        }
      ]
    },
    {
      "cell_type": "code",
      "metadata": {
        "colab": {
          "base_uri": "https://localhost:8080/"
        },
        "id": "79f6gcVY-xuE",
        "outputId": "6c0f5233-79c1-4f18-de7b-b52521e5757f"
      },
      "source": [
        "valid_ensemble['Survived'].ravel()"
      ],
      "execution_count": null,
      "outputs": [
        {
          "output_type": "execute_result",
          "data": {
            "text/plain": [
              "array([0, 0, 0, 0, 0, 0, 1, 0, 1, 0, 0, 0, 1, 0, 1, 1, 0, 0, 0, 1, 0, 1,\n",
              "       1, 0, 1, 0, 1, 0, 0, 0, 0, 0, 1, 0, 1, 1, 1, 1, 0, 0, 0, 1, 0, 1,\n",
              "       1, 0, 0, 0, 1, 1, 1, 0, 1, 1, 0, 0, 0, 1, 0, 1, 0, 0, 0, 1, 0, 1,\n",
              "       1, 0, 0, 1, 1, 0, 1, 1, 1, 0, 0, 1, 0, 1, 1, 0, 0, 0, 0, 0, 1, 1,\n",
              "       1, 1, 0, 0, 1, 0, 1, 0, 1, 0, 1, 0, 1, 0, 0, 0, 1, 0, 0, 0, 0, 0,\n",
              "       0, 1, 1, 1, 1, 0, 0, 1, 1, 1, 1, 0, 1, 0, 0, 1, 0, 0, 1, 0, 0, 0])"
            ]
          },
          "metadata": {
            "tags": []
          },
          "execution_count": 119
        }
      ]
    },
    {
      "cell_type": "code",
      "metadata": {
        "id": "t02soEvhDiK6"
      },
      "source": [
        "#더 안맞는 모습을 보여준다\r\n",
        "#내일 미세조정해볼 것"
      ],
      "execution_count": null,
      "outputs": []
    },
    {
      "cell_type": "code",
      "metadata": {
        "id": "xOz3ncsizWz9"
      },
      "source": [
        ""
      ],
      "execution_count": null,
      "outputs": []
    }
  ]
}