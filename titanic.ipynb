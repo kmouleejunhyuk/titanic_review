{
  "nbformat": 4,
  "nbformat_minor": 0,
  "metadata": {
    "colab": {
      "name": "titanic.ipynb",
      "provenance": [],
      "collapsed_sections": [],
      "authorship_tag": "ABX9TyMuKjAWmQTnRqpW9RLub5bu",
      "include_colab_link": true
    },
    "kernelspec": {
      "name": "python3",
      "display_name": "Python 3"
    }
  },
  "cells": [
    {
      "cell_type": "markdown",
      "metadata": {
        "id": "view-in-github",
        "colab_type": "text"
      },
      "source": [
        "<a href=\"https://colab.research.google.com/github/kmouleejunhyuk/titanic_review/blob/main/titanic.ipynb\" target=\"_parent\"><img src=\"https://colab.research.google.com/assets/colab-badge.svg\" alt=\"Open In Colab\"/></a>"
      ]
    },
    {
      "cell_type": "code",
      "metadata": {
        "id": "9EI3RV_FuZnb"
      },
      "source": [
        "##캐글의 타이타닉 분석 리뷰\r\n",
        "#리더보드 정확도 100% 전처리 기법 사용\r\n",
        "#원본: https://www.kaggle.com/imoore/titanic-the-only-notebook-you-need-to-see\r\n",
        "#추가로, 다층 FCNN 모델+kfold 구현 연습"
      ],
      "execution_count": 1,
      "outputs": []
    },
    {
      "cell_type": "code",
      "metadata": {
        "id": "-ogAsk9-uujL"
      },
      "source": [
        "#환경\r\n",
        "#google colab, pytorch"
      ],
      "execution_count": 2,
      "outputs": []
    },
    {
      "cell_type": "code",
      "metadata": {
        "colab": {
          "base_uri": "https://localhost:8080/"
        },
        "id": "QBGUS8ruZEXA",
        "outputId": "212bd66b-2064-440d-b866-75436ec9b059"
      },
      "source": [
        "#구글 드라이브 마운트 & 경로설정\r\n",
        "#마운트하기 전, 구글 드라이브의 titanic 폴더에 타이타닉 csv를 업로드해야 합니다\r\n",
        "#kaggle 가입 후 데이터를 받을 수 있습니다\r\n",
        "\r\n",
        "from google.colab import drive\r\n",
        "drive.mount('/gdrive')\r\n",
        "\r\n",
        "PATH='/gdrive/My Drive/titanic'"
      ],
      "execution_count": 3,
      "outputs": [
        {
          "output_type": "stream",
          "text": [
            "Mounted at /gdrive\n"
          ],
          "name": "stdout"
        }
      ]
    },
    {
      "cell_type": "markdown",
      "metadata": {
        "id": "rDBsSXUkvS_5"
      },
      "source": [
        "라이브러리 로드"
      ]
    },
    {
      "cell_type": "code",
      "metadata": {
        "colab": {
          "base_uri": "https://localhost:8080/",
          "height": 17
        },
        "id": "rd7ZhENevF3p",
        "outputId": "0bc3d1c9-d849-4bec-9e14-83cc590a0abb"
      },
      "source": [
        "import pandas as pd\r\n",
        "import numpy as np\r\n",
        "import re\r\n",
        "import os\r\n",
        "\r\n",
        "import sklearn\r\n",
        "import xgboost as xgb\r\n",
        "import seaborn as sns\r\n",
        "import matplotlib.pyplot as plt\r\n",
        "%matplotlib inline\r\n",
        "\r\n",
        "import plotly.offline as py\r\n",
        "py.init_notebook_mode(connected=True)\r\n",
        "import plotly.graph_objs as go\r\n",
        "import plotly.tools as tls\r\n",
        "\r\n",
        "import torch"
      ],
      "execution_count": 4,
      "outputs": [
        {
          "output_type": "display_data",
          "data": {
            "text/html": [
              "        <script type=\"text/javascript\">\n",
              "        window.PlotlyConfig = {MathJaxConfig: 'local'};\n",
              "        if (window.MathJax) {MathJax.Hub.Config({SVG: {font: \"STIX-Web\"}});}\n",
              "        if (typeof require !== 'undefined') {\n",
              "        require.undef(\"plotly\");\n",
              "        requirejs.config({\n",
              "            paths: {\n",
              "                'plotly': ['https://cdn.plot.ly/plotly-latest.min']\n",
              "            }\n",
              "        });\n",
              "        require(['plotly'], function(Plotly) {\n",
              "            window._Plotly = Plotly;\n",
              "        });\n",
              "        }\n",
              "        </script>\n",
              "        "
            ]
          },
          "metadata": {
            "tags": []
          }
        }
      ]
    },
    {
      "cell_type": "markdown",
      "metadata": {
        "id": "W3LEtcbYvVxg"
      },
      "source": [
        "데이터 로드"
      ]
    },
    {
      "cell_type": "code",
      "metadata": {
        "id": "xpCkum80xw3M"
      },
      "source": [
        "train = pd.read_csv(os.path.join(PATH, 'train.csv'))\r\n",
        "test = pd.read_csv(os.path.join(PATH, 'test.csv'))\r\n",
        "\r\n",
        "passengerid=test['PassengerId'].ravel()"
      ],
      "execution_count": 5,
      "outputs": []
    },
    {
      "cell_type": "code",
      "metadata": {
        "id": "8uPmV_Phs0Vz",
        "colab": {
          "base_uri": "https://localhost:8080/",
          "height": 476
        },
        "outputId": "345c6edb-0836-4f9f-a4b4-f9ad4b52507b"
      },
      "source": [
        "train"
      ],
      "execution_count": 6,
      "outputs": [
        {
          "output_type": "execute_result",
          "data": {
            "text/html": [
              "<div>\n",
              "<style scoped>\n",
              "    .dataframe tbody tr th:only-of-type {\n",
              "        vertical-align: middle;\n",
              "    }\n",
              "\n",
              "    .dataframe tbody tr th {\n",
              "        vertical-align: top;\n",
              "    }\n",
              "\n",
              "    .dataframe thead th {\n",
              "        text-align: right;\n",
              "    }\n",
              "</style>\n",
              "<table border=\"1\" class=\"dataframe\">\n",
              "  <thead>\n",
              "    <tr style=\"text-align: right;\">\n",
              "      <th></th>\n",
              "      <th>PassengerId</th>\n",
              "      <th>Survived</th>\n",
              "      <th>Pclass</th>\n",
              "      <th>Name</th>\n",
              "      <th>Sex</th>\n",
              "      <th>Age</th>\n",
              "      <th>SibSp</th>\n",
              "      <th>Parch</th>\n",
              "      <th>Ticket</th>\n",
              "      <th>Fare</th>\n",
              "      <th>Cabin</th>\n",
              "      <th>Embarked</th>\n",
              "    </tr>\n",
              "  </thead>\n",
              "  <tbody>\n",
              "    <tr>\n",
              "      <th>0</th>\n",
              "      <td>1</td>\n",
              "      <td>0</td>\n",
              "      <td>3</td>\n",
              "      <td>Braund, Mr. Owen Harris</td>\n",
              "      <td>male</td>\n",
              "      <td>22.0</td>\n",
              "      <td>1</td>\n",
              "      <td>0</td>\n",
              "      <td>A/5 21171</td>\n",
              "      <td>7.2500</td>\n",
              "      <td>NaN</td>\n",
              "      <td>S</td>\n",
              "    </tr>\n",
              "    <tr>\n",
              "      <th>1</th>\n",
              "      <td>2</td>\n",
              "      <td>1</td>\n",
              "      <td>1</td>\n",
              "      <td>Cumings, Mrs. John Bradley (Florence Briggs Th...</td>\n",
              "      <td>female</td>\n",
              "      <td>38.0</td>\n",
              "      <td>1</td>\n",
              "      <td>0</td>\n",
              "      <td>PC 17599</td>\n",
              "      <td>71.2833</td>\n",
              "      <td>C85</td>\n",
              "      <td>C</td>\n",
              "    </tr>\n",
              "    <tr>\n",
              "      <th>2</th>\n",
              "      <td>3</td>\n",
              "      <td>1</td>\n",
              "      <td>3</td>\n",
              "      <td>Heikkinen, Miss. Laina</td>\n",
              "      <td>female</td>\n",
              "      <td>26.0</td>\n",
              "      <td>0</td>\n",
              "      <td>0</td>\n",
              "      <td>STON/O2. 3101282</td>\n",
              "      <td>7.9250</td>\n",
              "      <td>NaN</td>\n",
              "      <td>S</td>\n",
              "    </tr>\n",
              "    <tr>\n",
              "      <th>3</th>\n",
              "      <td>4</td>\n",
              "      <td>1</td>\n",
              "      <td>1</td>\n",
              "      <td>Futrelle, Mrs. Jacques Heath (Lily May Peel)</td>\n",
              "      <td>female</td>\n",
              "      <td>35.0</td>\n",
              "      <td>1</td>\n",
              "      <td>0</td>\n",
              "      <td>113803</td>\n",
              "      <td>53.1000</td>\n",
              "      <td>C123</td>\n",
              "      <td>S</td>\n",
              "    </tr>\n",
              "    <tr>\n",
              "      <th>4</th>\n",
              "      <td>5</td>\n",
              "      <td>0</td>\n",
              "      <td>3</td>\n",
              "      <td>Allen, Mr. William Henry</td>\n",
              "      <td>male</td>\n",
              "      <td>35.0</td>\n",
              "      <td>0</td>\n",
              "      <td>0</td>\n",
              "      <td>373450</td>\n",
              "      <td>8.0500</td>\n",
              "      <td>NaN</td>\n",
              "      <td>S</td>\n",
              "    </tr>\n",
              "    <tr>\n",
              "      <th>...</th>\n",
              "      <td>...</td>\n",
              "      <td>...</td>\n",
              "      <td>...</td>\n",
              "      <td>...</td>\n",
              "      <td>...</td>\n",
              "      <td>...</td>\n",
              "      <td>...</td>\n",
              "      <td>...</td>\n",
              "      <td>...</td>\n",
              "      <td>...</td>\n",
              "      <td>...</td>\n",
              "      <td>...</td>\n",
              "    </tr>\n",
              "    <tr>\n",
              "      <th>886</th>\n",
              "      <td>887</td>\n",
              "      <td>0</td>\n",
              "      <td>2</td>\n",
              "      <td>Montvila, Rev. Juozas</td>\n",
              "      <td>male</td>\n",
              "      <td>27.0</td>\n",
              "      <td>0</td>\n",
              "      <td>0</td>\n",
              "      <td>211536</td>\n",
              "      <td>13.0000</td>\n",
              "      <td>NaN</td>\n",
              "      <td>S</td>\n",
              "    </tr>\n",
              "    <tr>\n",
              "      <th>887</th>\n",
              "      <td>888</td>\n",
              "      <td>1</td>\n",
              "      <td>1</td>\n",
              "      <td>Graham, Miss. Margaret Edith</td>\n",
              "      <td>female</td>\n",
              "      <td>19.0</td>\n",
              "      <td>0</td>\n",
              "      <td>0</td>\n",
              "      <td>112053</td>\n",
              "      <td>30.0000</td>\n",
              "      <td>B42</td>\n",
              "      <td>S</td>\n",
              "    </tr>\n",
              "    <tr>\n",
              "      <th>888</th>\n",
              "      <td>889</td>\n",
              "      <td>0</td>\n",
              "      <td>3</td>\n",
              "      <td>Johnston, Miss. Catherine Helen \"Carrie\"</td>\n",
              "      <td>female</td>\n",
              "      <td>NaN</td>\n",
              "      <td>1</td>\n",
              "      <td>2</td>\n",
              "      <td>W./C. 6607</td>\n",
              "      <td>23.4500</td>\n",
              "      <td>NaN</td>\n",
              "      <td>S</td>\n",
              "    </tr>\n",
              "    <tr>\n",
              "      <th>889</th>\n",
              "      <td>890</td>\n",
              "      <td>1</td>\n",
              "      <td>1</td>\n",
              "      <td>Behr, Mr. Karl Howell</td>\n",
              "      <td>male</td>\n",
              "      <td>26.0</td>\n",
              "      <td>0</td>\n",
              "      <td>0</td>\n",
              "      <td>111369</td>\n",
              "      <td>30.0000</td>\n",
              "      <td>C148</td>\n",
              "      <td>C</td>\n",
              "    </tr>\n",
              "    <tr>\n",
              "      <th>890</th>\n",
              "      <td>891</td>\n",
              "      <td>0</td>\n",
              "      <td>3</td>\n",
              "      <td>Dooley, Mr. Patrick</td>\n",
              "      <td>male</td>\n",
              "      <td>32.0</td>\n",
              "      <td>0</td>\n",
              "      <td>0</td>\n",
              "      <td>370376</td>\n",
              "      <td>7.7500</td>\n",
              "      <td>NaN</td>\n",
              "      <td>Q</td>\n",
              "    </tr>\n",
              "  </tbody>\n",
              "</table>\n",
              "<p>891 rows × 12 columns</p>\n",
              "</div>"
            ],
            "text/plain": [
              "     PassengerId  Survived  Pclass  ...     Fare Cabin  Embarked\n",
              "0              1         0       3  ...   7.2500   NaN         S\n",
              "1              2         1       1  ...  71.2833   C85         C\n",
              "2              3         1       3  ...   7.9250   NaN         S\n",
              "3              4         1       1  ...  53.1000  C123         S\n",
              "4              5         0       3  ...   8.0500   NaN         S\n",
              "..           ...       ...     ...  ...      ...   ...       ...\n",
              "886          887         0       2  ...  13.0000   NaN         S\n",
              "887          888         1       1  ...  30.0000   B42         S\n",
              "888          889         0       3  ...  23.4500   NaN         S\n",
              "889          890         1       1  ...  30.0000  C148         C\n",
              "890          891         0       3  ...   7.7500   NaN         Q\n",
              "\n",
              "[891 rows x 12 columns]"
            ]
          },
          "metadata": {
            "tags": []
          },
          "execution_count": 6
        }
      ]
    },
    {
      "cell_type": "code",
      "metadata": {
        "colab": {
          "base_uri": "https://localhost:8080/"
        },
        "id": "FO7qgNs2bcO7",
        "outputId": "682376bf-c67a-40d0-d604-7f01fe743244"
      },
      "source": [
        "print(train.head())\r\n",
        "print(test.head())\r\n",
        "\r\n",
        "print(train.columns)"
      ],
      "execution_count": 7,
      "outputs": [
        {
          "output_type": "stream",
          "text": [
            "   PassengerId  Survived  Pclass  ...     Fare Cabin  Embarked\n",
            "0            1         0       3  ...   7.2500   NaN         S\n",
            "1            2         1       1  ...  71.2833   C85         C\n",
            "2            3         1       3  ...   7.9250   NaN         S\n",
            "3            4         1       1  ...  53.1000  C123         S\n",
            "4            5         0       3  ...   8.0500   NaN         S\n",
            "\n",
            "[5 rows x 12 columns]\n",
            "   PassengerId  Pclass  ... Cabin Embarked\n",
            "0          892       3  ...   NaN        Q\n",
            "1          893       3  ...   NaN        S\n",
            "2          894       2  ...   NaN        Q\n",
            "3          895       3  ...   NaN        S\n",
            "4          896       3  ...   NaN        S\n",
            "\n",
            "[5 rows x 11 columns]\n",
            "Index(['PassengerId', 'Survived', 'Pclass', 'Name', 'Sex', 'Age', 'SibSp',\n",
            "       'Parch', 'Ticket', 'Fare', 'Cabin', 'Embarked'],\n",
            "      dtype='object')\n"
          ],
          "name": "stdout"
        }
      ]
    },
    {
      "cell_type": "markdown",
      "metadata": {
        "id": "MCcvxKmsdGYf"
      },
      "source": [
        "데이터에 ticket_type라는 변수 추가(이유는 잘 모르겠다)\r\n"
      ]
    },
    {
      "cell_type": "code",
      "metadata": {
        "colab": {
          "base_uri": "https://localhost:8080/",
          "height": 207
        },
        "id": "JmG-eIMTbv4H",
        "outputId": "fd4e8888-5672-4c28-b46b-4abfd0288b27"
      },
      "source": [
        "#원본에서는 pd.DataFrame.apply()를 사용했지만, 속도 개선을 위해 np.vectorize() 사용\r\n",
        "train['Ticket_type']=np.vectorize(lambda x: x[0:3])(train['Ticket'])\r\n",
        "train['Ticket_type']=train['Ticket_type'].astype('category')\r\n",
        "train['Ticket_type']=train['Ticket_type'].cat.codes\r\n",
        "\r\n",
        "train.head(3)"
      ],
      "execution_count": 8,
      "outputs": [
        {
          "output_type": "execute_result",
          "data": {
            "text/html": [
              "<div>\n",
              "<style scoped>\n",
              "    .dataframe tbody tr th:only-of-type {\n",
              "        vertical-align: middle;\n",
              "    }\n",
              "\n",
              "    .dataframe tbody tr th {\n",
              "        vertical-align: top;\n",
              "    }\n",
              "\n",
              "    .dataframe thead th {\n",
              "        text-align: right;\n",
              "    }\n",
              "</style>\n",
              "<table border=\"1\" class=\"dataframe\">\n",
              "  <thead>\n",
              "    <tr style=\"text-align: right;\">\n",
              "      <th></th>\n",
              "      <th>PassengerId</th>\n",
              "      <th>Survived</th>\n",
              "      <th>Pclass</th>\n",
              "      <th>Name</th>\n",
              "      <th>Sex</th>\n",
              "      <th>Age</th>\n",
              "      <th>SibSp</th>\n",
              "      <th>Parch</th>\n",
              "      <th>Ticket</th>\n",
              "      <th>Fare</th>\n",
              "      <th>Cabin</th>\n",
              "      <th>Embarked</th>\n",
              "      <th>Ticket_type</th>\n",
              "    </tr>\n",
              "  </thead>\n",
              "  <tbody>\n",
              "    <tr>\n",
              "      <th>0</th>\n",
              "      <td>1</td>\n",
              "      <td>0</td>\n",
              "      <td>3</td>\n",
              "      <td>Braund, Mr. Owen Harris</td>\n",
              "      <td>male</td>\n",
              "      <td>22.0</td>\n",
              "      <td>1</td>\n",
              "      <td>0</td>\n",
              "      <td>A/5 21171</td>\n",
              "      <td>7.2500</td>\n",
              "      <td>NaN</td>\n",
              "      <td>S</td>\n",
              "      <td>124</td>\n",
              "    </tr>\n",
              "    <tr>\n",
              "      <th>1</th>\n",
              "      <td>2</td>\n",
              "      <td>1</td>\n",
              "      <td>1</td>\n",
              "      <td>Cumings, Mrs. John Bradley (Florence Briggs Th...</td>\n",
              "      <td>female</td>\n",
              "      <td>38.0</td>\n",
              "      <td>1</td>\n",
              "      <td>0</td>\n",
              "      <td>PC 17599</td>\n",
              "      <td>71.2833</td>\n",
              "      <td>C85</td>\n",
              "      <td>C</td>\n",
              "      <td>137</td>\n",
              "    </tr>\n",
              "    <tr>\n",
              "      <th>2</th>\n",
              "      <td>3</td>\n",
              "      <td>1</td>\n",
              "      <td>3</td>\n",
              "      <td>Heikkinen, Miss. Laina</td>\n",
              "      <td>female</td>\n",
              "      <td>26.0</td>\n",
              "      <td>0</td>\n",
              "      <td>0</td>\n",
              "      <td>STON/O2. 3101282</td>\n",
              "      <td>7.9250</td>\n",
              "      <td>NaN</td>\n",
              "      <td>S</td>\n",
              "      <td>148</td>\n",
              "    </tr>\n",
              "  </tbody>\n",
              "</table>\n",
              "</div>"
            ],
            "text/plain": [
              "   PassengerId  Survived  Pclass  ... Cabin Embarked  Ticket_type\n",
              "0            1         0       3  ...   NaN        S          124\n",
              "1            2         1       1  ...   C85        C          137\n",
              "2            3         1       3  ...   NaN        S          148\n",
              "\n",
              "[3 rows x 13 columns]"
            ]
          },
          "metadata": {
            "tags": []
          },
          "execution_count": 8
        }
      ]
    },
    {
      "cell_type": "code",
      "metadata": {
        "id": "aZXrN_LlcNQz",
        "colab": {
          "base_uri": "https://localhost:8080/",
          "height": 138
        },
        "outputId": "30100821-d96f-4cf9-bb85-f17b977bfb97"
      },
      "source": [
        "test['Ticket_type']=np.vectorize(lambda x: x[0:3])(test['Ticket'])\r\n",
        "test['Ticket_type']=test['Ticket_type'].astype('category')\r\n",
        "test['Ticket_type']=test['Ticket_type'].cat.codes\r\n",
        "\r\n",
        "test.head(3)"
      ],
      "execution_count": 9,
      "outputs": [
        {
          "output_type": "execute_result",
          "data": {
            "text/html": [
              "<div>\n",
              "<style scoped>\n",
              "    .dataframe tbody tr th:only-of-type {\n",
              "        vertical-align: middle;\n",
              "    }\n",
              "\n",
              "    .dataframe tbody tr th {\n",
              "        vertical-align: top;\n",
              "    }\n",
              "\n",
              "    .dataframe thead th {\n",
              "        text-align: right;\n",
              "    }\n",
              "</style>\n",
              "<table border=\"1\" class=\"dataframe\">\n",
              "  <thead>\n",
              "    <tr style=\"text-align: right;\">\n",
              "      <th></th>\n",
              "      <th>PassengerId</th>\n",
              "      <th>Pclass</th>\n",
              "      <th>Name</th>\n",
              "      <th>Sex</th>\n",
              "      <th>Age</th>\n",
              "      <th>SibSp</th>\n",
              "      <th>Parch</th>\n",
              "      <th>Ticket</th>\n",
              "      <th>Fare</th>\n",
              "      <th>Cabin</th>\n",
              "      <th>Embarked</th>\n",
              "      <th>Ticket_type</th>\n",
              "    </tr>\n",
              "  </thead>\n",
              "  <tbody>\n",
              "    <tr>\n",
              "      <th>0</th>\n",
              "      <td>892</td>\n",
              "      <td>3</td>\n",
              "      <td>Kelly, Mr. James</td>\n",
              "      <td>male</td>\n",
              "      <td>34.5</td>\n",
              "      <td>0</td>\n",
              "      <td>0</td>\n",
              "      <td>330911</td>\n",
              "      <td>7.8292</td>\n",
              "      <td>NaN</td>\n",
              "      <td>Q</td>\n",
              "      <td>58</td>\n",
              "    </tr>\n",
              "    <tr>\n",
              "      <th>1</th>\n",
              "      <td>893</td>\n",
              "      <td>3</td>\n",
              "      <td>Wilkes, Mrs. James (Ellen Needs)</td>\n",
              "      <td>female</td>\n",
              "      <td>47.0</td>\n",
              "      <td>1</td>\n",
              "      <td>0</td>\n",
              "      <td>363272</td>\n",
              "      <td>7.0000</td>\n",
              "      <td>NaN</td>\n",
              "      <td>S</td>\n",
              "      <td>71</td>\n",
              "    </tr>\n",
              "    <tr>\n",
              "      <th>2</th>\n",
              "      <td>894</td>\n",
              "      <td>2</td>\n",
              "      <td>Myles, Mr. Thomas Francis</td>\n",
              "      <td>male</td>\n",
              "      <td>62.0</td>\n",
              "      <td>0</td>\n",
              "      <td>0</td>\n",
              "      <td>240276</td>\n",
              "      <td>9.6875</td>\n",
              "      <td>NaN</td>\n",
              "      <td>Q</td>\n",
              "      <td>32</td>\n",
              "    </tr>\n",
              "  </tbody>\n",
              "</table>\n",
              "</div>"
            ],
            "text/plain": [
              "   PassengerId  Pclass  ... Embarked Ticket_type\n",
              "0          892       3  ...        Q          58\n",
              "1          893       3  ...        S          71\n",
              "2          894       2  ...        Q          32\n",
              "\n",
              "[3 rows x 12 columns]"
            ]
          },
          "metadata": {
            "tags": []
          },
          "execution_count": 9
        }
      ]
    },
    {
      "cell_type": "markdown",
      "metadata": {
        "id": "PQ2X575mJWV-"
      },
      "source": [
        "데이터에 이름 길이에 관한 변수 추가"
      ]
    },
    {
      "cell_type": "code",
      "metadata": {
        "id": "8TlzeU5HJTCZ"
      },
      "source": [
        "train['Word_count']=np.vectorize(lambda x: len(x.split()))(train['Name'])\r\n",
        "test['Word_count']=np.vectorize(lambda x: len(x.split()))(test['Name'])"
      ],
      "execution_count": 10,
      "outputs": []
    },
    {
      "cell_type": "markdown",
      "metadata": {
        "id": "fMwnCWmCN2Tn"
      },
      "source": [
        "Cabin 호수 별 변수 추가"
      ]
    },
    {
      "cell_type": "code",
      "metadata": {
        "id": "Vhz29nejLugY"
      },
      "source": [
        "#A30-->A-->0\r\n",
        "#커스텀\r\n",
        "train['Cabin_class']=np.vectorize(lambda x: x[0] if type(x)!=float else 'P')(train['Cabin'])\r\n",
        "train['Cabin_class']=train['Cabin_class'].astype('category').cat.codes\r\n",
        "test['Cabin_class']=np.vectorize(lambda x: x[0] if type(x)!=float else 'P')(test['Cabin'])\r\n",
        "test['Cabin_class']=test['Cabin_class'].astype('category').cat.codes"
      ],
      "execution_count": 11,
      "outputs": []
    },
    {
      "cell_type": "markdown",
      "metadata": {
        "id": "PV6vAQBiQvYs"
      },
      "source": [
        "승객의 선실 보유 여부를 알려주는 변수 추가(nan-->입석?)"
      ]
    },
    {
      "cell_type": "code",
      "metadata": {
        "id": "Cpo2ltYlOX6q"
      },
      "source": [
        "train['Has_Cabin']=np.vectorize(lambda x: 0 if type(x)==float else 1)(train['Cabin'])\r\n",
        "test['Has_Cabin']=np.vectorize(lambda x: 0 if type(x)==float else 1)(test['Cabin'])"
      ],
      "execution_count": 12,
      "outputs": []
    },
    {
      "cell_type": "markdown",
      "metadata": {
        "id": "zl2gG2RFR8_b"
      },
      "source": [
        "승객의 동승자 수 및 단독 승선 여부 변수 추가"
      ]
    },
    {
      "cell_type": "code",
      "metadata": {
        "id": "R2w3jxdYR3p_"
      },
      "source": [
        "train['Family_size']=train['SibSp'] + train['Parch'] + 1\r\n",
        "test['Family_size']=test['SibSp'] + test['Parch'] + 1"
      ],
      "execution_count": 13,
      "outputs": []
    },
    {
      "cell_type": "code",
      "metadata": {
        "id": "oQVyNBJ4SgZW"
      },
      "source": [
        "train['isalone']=np.vectorize(lambda x: 0 if x>1 else 1)(train['Family_size'])\r\n",
        "test['isalone']=np.vectorize(lambda x: 0 if x>1 else 1)(test['Family_size'])"
      ],
      "execution_count": 14,
      "outputs": []
    },
    {
      "cell_type": "markdown",
      "metadata": {
        "id": "wpJ2DCjzTYXy"
      },
      "source": [
        "Embarked 변수의 na 제거"
      ]
    },
    {
      "cell_type": "code",
      "metadata": {
        "id": "gSKZ27dhTR8v"
      },
      "source": [
        "train['Embarked']=train['Embarked'].fillna('S')\r\n",
        "test['Embarked']=test['Embarked'].fillna('S')"
      ],
      "execution_count": 15,
      "outputs": []
    },
    {
      "cell_type": "markdown",
      "metadata": {
        "id": "GtPnEZfoWELZ"
      },
      "source": [
        "표 가격(Fare)의 중위수로 na 대체 "
      ]
    },
    {
      "cell_type": "code",
      "metadata": {
        "id": "Q37Q5aDxTsLN"
      },
      "source": [
        "train['Fare']=train['Fare'].fillna(train['Fare'].median())\r\n",
        "test['Fare']=test['Fare'].fillna(test['Fare'].median())\r\n",
        "\r\n",
        "#원본에서는 categoricalfare라는 변수를 만들지만 사용하지 않음"
      ],
      "execution_count": 16,
      "outputs": []
    },
    {
      "cell_type": "code",
      "metadata": {
        "id": "nLELyMd2Zd9s",
        "colab": {
          "base_uri": "https://localhost:8080/"
        },
        "outputId": "e853cf59-bff8-40e1-f424-db37990fd22b"
      },
      "source": [
        "full_data=[train, test]\r\n",
        "\r\n",
        "for dataset in full_data:\r\n",
        "    age_avg = dataset['Age'].mean()\r\n",
        "    age_std = dataset['Age'].std()\r\n",
        "    age_null_count = dataset['Age'].isnull().sum()\r\n",
        "    age_null_random_list = np.random.randint(age_avg - age_std, age_avg + age_std, size=age_null_count)\r\n",
        "    dataset['Age'][np.isnan(dataset['Age'])] = age_null_random_list\r\n",
        "    dataset['Age'] = dataset['Age'].astype(int)"
      ],
      "execution_count": 17,
      "outputs": [
        {
          "output_type": "stream",
          "text": [
            "/usr/local/lib/python3.6/dist-packages/ipykernel_launcher.py:8: SettingWithCopyWarning:\n",
            "\n",
            "\n",
            "A value is trying to be set on a copy of a slice from a DataFrame\n",
            "\n",
            "See the caveats in the documentation: https://pandas.pydata.org/pandas-docs/stable/user_guide/indexing.html#returning-a-view-versus-a-copy\n",
            "\n"
          ],
          "name": "stderr"
        }
      ]
    },
    {
      "cell_type": "markdown",
      "metadata": {
        "id": "akDvzPzzaOtZ"
      },
      "source": [
        "이름에서 mrs, ms등의 의미를 가진 문자를 변수로 생성"
      ]
    },
    {
      "cell_type": "code",
      "metadata": {
        "id": "wYj4YO2_Zb7q"
      },
      "source": [
        "def get_title(name):\r\n",
        "    title_search=re.search(' ([A-Za-z]+)\\.', name)\r\n",
        "    if title_search: return title_search.group(1)\r\n",
        "    return \"\""
      ],
      "execution_count": 18,
      "outputs": []
    },
    {
      "cell_type": "code",
      "metadata": {
        "id": "jHmHiYoCaBc3"
      },
      "source": [
        "train['Title']=np.vectorize(get_title)(train['Name'])\r\n",
        "test['Title']=np.vectorize(get_title)(test['Name'])"
      ],
      "execution_count": 19,
      "outputs": []
    },
    {
      "cell_type": "code",
      "metadata": {
        "id": "gnZfToqIadhu"
      },
      "source": [
        "def replace_names(dataset: pd.DataFrame):\r\n",
        "    #필요에 따라 확장할 수 있게 함수로 표현\r\n",
        "    #오타, 비정형 표현을 변형\r\n",
        "    replace_to_rare=['Lady', 'Countess','Capt', 'Col','Don', 'Dr', 'Major', 'Rev', 'Sir', 'Jonkheer', 'Dona']\r\n",
        "    replace_by_rule={'Mlle': 'Miss', 'Ms': 'Miss', 'Mme': 'Mrs'}\r\n",
        "\r\n",
        "    dataset['Title'] = dataset['Title'].replace(replace_to_rare, 'Rare')\r\n",
        "    for key, value in replace_by_rule.items():\r\n",
        "        dataset['Title'] = dataset['Title'].replace(key, value)\r\n",
        "    return None"
      ],
      "execution_count": 20,
      "outputs": []
    },
    {
      "cell_type": "code",
      "metadata": {
        "id": "WM-sZEwpbnG5"
      },
      "source": [
        "replace_names(train)\r\n",
        "replace_names(test)"
      ],
      "execution_count": 21,
      "outputs": []
    },
    {
      "cell_type": "markdown",
      "metadata": {
        "id": "kwZEkEHBfFni"
      },
      "source": [
        "Sex, title, fare, embarked, age를 숫자로 매핑"
      ]
    },
    {
      "cell_type": "code",
      "metadata": {
        "id": "bcIVKGhBfLra"
      },
      "source": [
        "def is_categorical(column, a=train, b=test):\r\n",
        "    #카테고리인지 확인\r\n",
        "    if np.array_equal(np.unique(a[column].values), np.unique(b[column].values)) & len(np.unique(a[column].values))<30:\r\n",
        "        return True\r\n",
        "    return False\r\n",
        "\r\n",
        "def mapper(dataset, column):\r\n",
        "    map_dict={}\r\n",
        "    for idx, key in enumerate(np.unique(dataset[column].values)):\r\n",
        "        map_dict[key]=idx\r\n",
        "\r\n",
        "    dataset[column]=dataset[column].map(map_dict).astype(int)"
      ],
      "execution_count": 22,
      "outputs": []
    },
    {
      "cell_type": "code",
      "metadata": {
        "id": "DYxV7_P6iwPT"
      },
      "source": [
        "import sys\r\n",
        "def range_mapper(dataset, column, c_range: list):\r\n",
        "    c_range.insert(0, float('-inf'))\r\n",
        "    c_range.append(float('inf'))\r\n",
        "    for idx in range(len(c_range)-1):\r\n",
        "        dataset.loc[(dataset[column]>c_range[idx]) & (dataset[column]<=c_range[idx+1]), column] = idx\r\n",
        "    dataset[column] = dataset[column].astype(int)"
      ],
      "execution_count": 23,
      "outputs": []
    },
    {
      "cell_type": "code",
      "metadata": {
        "id": "UMLSCRYmhFzC"
      },
      "source": [
        "if is_categorical('Sex'): \r\n",
        "    mapper(train, 'Sex')\r\n",
        "    mapper(test, 'Sex')\r\n",
        "\r\n",
        "if is_categorical('Title'): \r\n",
        "    mapper(train, 'Title')\r\n",
        "    mapper(test, 'Title')\r\n",
        "\r\n",
        "if is_categorical('Embarked'): \r\n",
        "    mapper(train, 'Embarked')\r\n",
        "    mapper(test, 'Embarked')"
      ],
      "execution_count": 24,
      "outputs": []
    },
    {
      "cell_type": "code",
      "metadata": {
        "id": "3DnhBtrhi4jD"
      },
      "source": [
        "range_mapper(train, 'Fare', [7.91, 14.454, 31])\r\n",
        "range_mapper(test, 'Fare', [7.91, 14.454, 31])\r\n",
        "\r\n",
        "range_mapper(train, 'Age', [16, 32, 48, 64])\r\n",
        "range_mapper(test, 'Age', [16, 32, 48, 64])"
      ],
      "execution_count": 25,
      "outputs": []
    },
    {
      "cell_type": "markdown",
      "metadata": {
        "id": "Fg7JeBWnqHQi"
      },
      "source": [
        "사용할 컬럼 외에는 제거한다(Feature_selection)"
      ]
    },
    {
      "cell_type": "code",
      "metadata": {
        "id": "YsD6XHr-dj7W"
      },
      "source": [
        "drop_elements = ['PassengerId', 'Name', 'Ticket', 'Cabin', 'SibSp']\r\n",
        "train = train.drop(drop_elements, axis = 1).astype('int')\r\n",
        "test  = test.drop(drop_elements, axis = 1).astype('int')"
      ],
      "execution_count": 26,
      "outputs": []
    },
    {
      "cell_type": "code",
      "metadata": {
        "colab": {
          "base_uri": "https://localhost:8080/",
          "height": 218
        },
        "id": "Tzo7v9uAqWBE",
        "outputId": "b7ebdd9c-9736-4c91-dd51-fd6f6493af29"
      },
      "source": [
        "train.head()"
      ],
      "execution_count": 27,
      "outputs": [
        {
          "output_type": "execute_result",
          "data": {
            "text/html": [
              "<div>\n",
              "<style scoped>\n",
              "    .dataframe tbody tr th:only-of-type {\n",
              "        vertical-align: middle;\n",
              "    }\n",
              "\n",
              "    .dataframe tbody tr th {\n",
              "        vertical-align: top;\n",
              "    }\n",
              "\n",
              "    .dataframe thead th {\n",
              "        text-align: right;\n",
              "    }\n",
              "</style>\n",
              "<table border=\"1\" class=\"dataframe\">\n",
              "  <thead>\n",
              "    <tr style=\"text-align: right;\">\n",
              "      <th></th>\n",
              "      <th>Survived</th>\n",
              "      <th>Pclass</th>\n",
              "      <th>Sex</th>\n",
              "      <th>Age</th>\n",
              "      <th>Parch</th>\n",
              "      <th>Fare</th>\n",
              "      <th>Embarked</th>\n",
              "      <th>Ticket_type</th>\n",
              "      <th>Word_count</th>\n",
              "      <th>Cabin_class</th>\n",
              "      <th>Has_Cabin</th>\n",
              "      <th>Family_size</th>\n",
              "      <th>isalone</th>\n",
              "      <th>Title</th>\n",
              "    </tr>\n",
              "  </thead>\n",
              "  <tbody>\n",
              "    <tr>\n",
              "      <th>0</th>\n",
              "      <td>0</td>\n",
              "      <td>3</td>\n",
              "      <td>1</td>\n",
              "      <td>1</td>\n",
              "      <td>0</td>\n",
              "      <td>0</td>\n",
              "      <td>2</td>\n",
              "      <td>124</td>\n",
              "      <td>4</td>\n",
              "      <td>7</td>\n",
              "      <td>0</td>\n",
              "      <td>2</td>\n",
              "      <td>0</td>\n",
              "      <td>2</td>\n",
              "    </tr>\n",
              "    <tr>\n",
              "      <th>1</th>\n",
              "      <td>1</td>\n",
              "      <td>1</td>\n",
              "      <td>0</td>\n",
              "      <td>2</td>\n",
              "      <td>0</td>\n",
              "      <td>3</td>\n",
              "      <td>0</td>\n",
              "      <td>137</td>\n",
              "      <td>7</td>\n",
              "      <td>2</td>\n",
              "      <td>1</td>\n",
              "      <td>2</td>\n",
              "      <td>0</td>\n",
              "      <td>3</td>\n",
              "    </tr>\n",
              "    <tr>\n",
              "      <th>2</th>\n",
              "      <td>1</td>\n",
              "      <td>3</td>\n",
              "      <td>0</td>\n",
              "      <td>1</td>\n",
              "      <td>0</td>\n",
              "      <td>1</td>\n",
              "      <td>2</td>\n",
              "      <td>148</td>\n",
              "      <td>3</td>\n",
              "      <td>7</td>\n",
              "      <td>0</td>\n",
              "      <td>1</td>\n",
              "      <td>1</td>\n",
              "      <td>1</td>\n",
              "    </tr>\n",
              "    <tr>\n",
              "      <th>3</th>\n",
              "      <td>1</td>\n",
              "      <td>1</td>\n",
              "      <td>0</td>\n",
              "      <td>2</td>\n",
              "      <td>0</td>\n",
              "      <td>3</td>\n",
              "      <td>2</td>\n",
              "      <td>3</td>\n",
              "      <td>7</td>\n",
              "      <td>2</td>\n",
              "      <td>1</td>\n",
              "      <td>2</td>\n",
              "      <td>0</td>\n",
              "      <td>3</td>\n",
              "    </tr>\n",
              "    <tr>\n",
              "      <th>4</th>\n",
              "      <td>0</td>\n",
              "      <td>3</td>\n",
              "      <td>1</td>\n",
              "      <td>2</td>\n",
              "      <td>0</td>\n",
              "      <td>1</td>\n",
              "      <td>2</td>\n",
              "      <td>97</td>\n",
              "      <td>4</td>\n",
              "      <td>7</td>\n",
              "      <td>0</td>\n",
              "      <td>1</td>\n",
              "      <td>1</td>\n",
              "      <td>2</td>\n",
              "    </tr>\n",
              "  </tbody>\n",
              "</table>\n",
              "</div>"
            ],
            "text/plain": [
              "   Survived  Pclass  Sex  Age  ...  Has_Cabin  Family_size  isalone  Title\n",
              "0         0       3    1    1  ...          0            2        0      2\n",
              "1         1       1    0    2  ...          1            2        0      3\n",
              "2         1       3    0    1  ...          0            1        1      1\n",
              "3         1       1    0    2  ...          1            2        0      3\n",
              "4         0       3    1    2  ...          0            1        1      2\n",
              "\n",
              "[5 rows x 14 columns]"
            ]
          },
          "metadata": {
            "tags": []
          },
          "execution_count": 27
        }
      ]
    },
    {
      "cell_type": "code",
      "metadata": {
        "colab": {
          "base_uri": "https://localhost:8080/",
          "height": 198
        },
        "id": "KstY2sTrqXxq",
        "outputId": "97a9acd9-f6e2-40f8-8427-f2d33fd31add"
      },
      "source": [
        "test.head()"
      ],
      "execution_count": 28,
      "outputs": [
        {
          "output_type": "execute_result",
          "data": {
            "text/html": [
              "<div>\n",
              "<style scoped>\n",
              "    .dataframe tbody tr th:only-of-type {\n",
              "        vertical-align: middle;\n",
              "    }\n",
              "\n",
              "    .dataframe tbody tr th {\n",
              "        vertical-align: top;\n",
              "    }\n",
              "\n",
              "    .dataframe thead th {\n",
              "        text-align: right;\n",
              "    }\n",
              "</style>\n",
              "<table border=\"1\" class=\"dataframe\">\n",
              "  <thead>\n",
              "    <tr style=\"text-align: right;\">\n",
              "      <th></th>\n",
              "      <th>Pclass</th>\n",
              "      <th>Sex</th>\n",
              "      <th>Age</th>\n",
              "      <th>Parch</th>\n",
              "      <th>Fare</th>\n",
              "      <th>Embarked</th>\n",
              "      <th>Ticket_type</th>\n",
              "      <th>Word_count</th>\n",
              "      <th>Cabin_class</th>\n",
              "      <th>Has_Cabin</th>\n",
              "      <th>Family_size</th>\n",
              "      <th>isalone</th>\n",
              "      <th>Title</th>\n",
              "    </tr>\n",
              "  </thead>\n",
              "  <tbody>\n",
              "    <tr>\n",
              "      <th>0</th>\n",
              "      <td>3</td>\n",
              "      <td>1</td>\n",
              "      <td>2</td>\n",
              "      <td>0</td>\n",
              "      <td>0</td>\n",
              "      <td>1</td>\n",
              "      <td>58</td>\n",
              "      <td>3</td>\n",
              "      <td>7</td>\n",
              "      <td>0</td>\n",
              "      <td>1</td>\n",
              "      <td>1</td>\n",
              "      <td>2</td>\n",
              "    </tr>\n",
              "    <tr>\n",
              "      <th>1</th>\n",
              "      <td>3</td>\n",
              "      <td>0</td>\n",
              "      <td>2</td>\n",
              "      <td>0</td>\n",
              "      <td>0</td>\n",
              "      <td>2</td>\n",
              "      <td>71</td>\n",
              "      <td>5</td>\n",
              "      <td>7</td>\n",
              "      <td>0</td>\n",
              "      <td>2</td>\n",
              "      <td>0</td>\n",
              "      <td>3</td>\n",
              "    </tr>\n",
              "    <tr>\n",
              "      <th>2</th>\n",
              "      <td>2</td>\n",
              "      <td>1</td>\n",
              "      <td>3</td>\n",
              "      <td>0</td>\n",
              "      <td>1</td>\n",
              "      <td>1</td>\n",
              "      <td>32</td>\n",
              "      <td>4</td>\n",
              "      <td>7</td>\n",
              "      <td>0</td>\n",
              "      <td>1</td>\n",
              "      <td>1</td>\n",
              "      <td>2</td>\n",
              "    </tr>\n",
              "    <tr>\n",
              "      <th>3</th>\n",
              "      <td>3</td>\n",
              "      <td>1</td>\n",
              "      <td>1</td>\n",
              "      <td>0</td>\n",
              "      <td>1</td>\n",
              "      <td>2</td>\n",
              "      <td>55</td>\n",
              "      <td>3</td>\n",
              "      <td>7</td>\n",
              "      <td>0</td>\n",
              "      <td>1</td>\n",
              "      <td>1</td>\n",
              "      <td>2</td>\n",
              "    </tr>\n",
              "    <tr>\n",
              "      <th>4</th>\n",
              "      <td>3</td>\n",
              "      <td>0</td>\n",
              "      <td>1</td>\n",
              "      <td>1</td>\n",
              "      <td>1</td>\n",
              "      <td>2</td>\n",
              "      <td>54</td>\n",
              "      <td>6</td>\n",
              "      <td>7</td>\n",
              "      <td>0</td>\n",
              "      <td>3</td>\n",
              "      <td>0</td>\n",
              "      <td>3</td>\n",
              "    </tr>\n",
              "  </tbody>\n",
              "</table>\n",
              "</div>"
            ],
            "text/plain": [
              "   Pclass  Sex  Age  Parch  ...  Has_Cabin  Family_size  isalone  Title\n",
              "0       3    1    2      0  ...          0            1        1      2\n",
              "1       3    0    2      0  ...          0            2        0      3\n",
              "2       2    1    3      0  ...          0            1        1      2\n",
              "3       3    1    1      0  ...          0            1        1      2\n",
              "4       3    0    1      1  ...          0            3        0      3\n",
              "\n",
              "[5 rows x 13 columns]"
            ]
          },
          "metadata": {
            "tags": []
          },
          "execution_count": 28
        }
      ]
    },
    {
      "cell_type": "markdown",
      "metadata": {
        "id": "yDsDu59Xq04a"
      },
      "source": [
        "피어슨 상관계수 시각화"
      ]
    },
    {
      "cell_type": "code",
      "metadata": {
        "colab": {
          "base_uri": "https://localhost:8080/",
          "height": 789
        },
        "id": "7vNulkwEqcsJ",
        "outputId": "9e573519-6c20-4602-9e8e-c8a31cad35d6"
      },
      "source": [
        "colormap = plt.cm.RdBu\r\n",
        "plt.figure(figsize=(14,12))\r\n",
        "plt.title('Pearson Correlation of Features', y=1.05, size=15)\r\n",
        "sns.heatmap(train.astype(float).corr(),linewidths=0.1,vmax=1.0, \r\n",
        "            square=True, cmap=colormap, linecolor='white', annot=True)"
      ],
      "execution_count": 29,
      "outputs": [
        {
          "output_type": "execute_result",
          "data": {
            "text/plain": [
              "<matplotlib.axes._subplots.AxesSubplot at 0x7f11413c9748>"
            ]
          },
          "metadata": {
            "tags": []
          },
          "execution_count": 29
        },
        {
          "output_type": "display_data",
          "data": {
            "image/png": "[encoded data removed]",
            "text/plain": [
              "<Figure size 1008x864 with 2 Axes>"
            ]
          },
          "metadata": {
            "tags": [],
            "needs_background": "light"
          }
        }
      ]
    },
    {
      "cell_type": "code",
      "metadata": {
        "id": "QupGkUmFq62U"
      },
      "source": [
        "#has_cabin과 cabin_class가 너무 강하게 연관됨. 개선이 필요\r\n",
        "#전처리 끝"
      ],
      "execution_count": 30,
      "outputs": []
    },
    {
      "cell_type": "code",
      "metadata": {
        "colab": {
          "base_uri": "https://localhost:8080/"
        },
        "id": "qKMmUP3vveni",
        "outputId": "214602cf-8225-4b63-a55a-919ccab89c59"
      },
      "source": [
        "train.values.shape"
      ],
      "execution_count": 31,
      "outputs": [
        {
          "output_type": "execute_result",
          "data": {
            "text/plain": [
              "(891, 14)"
            ]
          },
          "metadata": {
            "tags": []
          },
          "execution_count": 31
        }
      ]
    },
    {
      "cell_type": "code",
      "metadata": {
        "id": "2BsiwC9ryIp9"
      },
      "source": [
        "#maximum={}\r\n",
        "#for _ in train.columns:\r\n",
        "#    m=max(train[_])\r\n",
        "#    maximum[_]=m\r\n",
        "#    train[_]=train[_]/m"
      ],
      "execution_count": 49,
      "outputs": []
    },
    {
      "cell_type": "code",
      "metadata": {
        "colab": {
          "base_uri": "https://localhost:8080/",
          "height": 427
        },
        "id": "76E0Htqgyeyn",
        "outputId": "e92fa192-4fd1-4967-f68a-e527b3683c14"
      },
      "source": [
        "train"
      ],
      "execution_count": 50,
      "outputs": [
        {
          "output_type": "execute_result",
          "data": {
            "text/html": [
              "<div>\n",
              "<style scoped>\n",
              "    .dataframe tbody tr th:only-of-type {\n",
              "        vertical-align: middle;\n",
              "    }\n",
              "\n",
              "    .dataframe tbody tr th {\n",
              "        vertical-align: top;\n",
              "    }\n",
              "\n",
              "    .dataframe thead th {\n",
              "        text-align: right;\n",
              "    }\n",
              "</style>\n",
              "<table border=\"1\" class=\"dataframe\">\n",
              "  <thead>\n",
              "    <tr style=\"text-align: right;\">\n",
              "      <th></th>\n",
              "      <th>Survived</th>\n",
              "      <th>Pclass</th>\n",
              "      <th>Sex</th>\n",
              "      <th>Age</th>\n",
              "      <th>Parch</th>\n",
              "      <th>Fare</th>\n",
              "      <th>Embarked</th>\n",
              "      <th>Ticket_type</th>\n",
              "      <th>Word_count</th>\n",
              "      <th>Cabin_class</th>\n",
              "      <th>Has_Cabin</th>\n",
              "      <th>Family_size</th>\n",
              "      <th>isalone</th>\n",
              "      <th>Title</th>\n",
              "    </tr>\n",
              "  </thead>\n",
              "  <tbody>\n",
              "    <tr>\n",
              "      <th>0</th>\n",
              "      <td>0.0</td>\n",
              "      <td>1.000000</td>\n",
              "      <td>1.0</td>\n",
              "      <td>0.25</td>\n",
              "      <td>0.0</td>\n",
              "      <td>0.000000</td>\n",
              "      <td>1.0</td>\n",
              "      <td>0.810458</td>\n",
              "      <td>0.285714</td>\n",
              "      <td>0.875</td>\n",
              "      <td>0.0</td>\n",
              "      <td>0.181818</td>\n",
              "      <td>0.0</td>\n",
              "      <td>0.50</td>\n",
              "    </tr>\n",
              "    <tr>\n",
              "      <th>1</th>\n",
              "      <td>1.0</td>\n",
              "      <td>0.333333</td>\n",
              "      <td>0.0</td>\n",
              "      <td>0.50</td>\n",
              "      <td>0.0</td>\n",
              "      <td>1.000000</td>\n",
              "      <td>0.0</td>\n",
              "      <td>0.895425</td>\n",
              "      <td>0.500000</td>\n",
              "      <td>0.250</td>\n",
              "      <td>1.0</td>\n",
              "      <td>0.181818</td>\n",
              "      <td>0.0</td>\n",
              "      <td>0.75</td>\n",
              "    </tr>\n",
              "    <tr>\n",
              "      <th>2</th>\n",
              "      <td>1.0</td>\n",
              "      <td>1.000000</td>\n",
              "      <td>0.0</td>\n",
              "      <td>0.25</td>\n",
              "      <td>0.0</td>\n",
              "      <td>0.333333</td>\n",
              "      <td>1.0</td>\n",
              "      <td>0.967320</td>\n",
              "      <td>0.214286</td>\n",
              "      <td>0.875</td>\n",
              "      <td>0.0</td>\n",
              "      <td>0.090909</td>\n",
              "      <td>1.0</td>\n",
              "      <td>0.25</td>\n",
              "    </tr>\n",
              "    <tr>\n",
              "      <th>3</th>\n",
              "      <td>1.0</td>\n",
              "      <td>0.333333</td>\n",
              "      <td>0.0</td>\n",
              "      <td>0.50</td>\n",
              "      <td>0.0</td>\n",
              "      <td>1.000000</td>\n",
              "      <td>1.0</td>\n",
              "      <td>0.019608</td>\n",
              "      <td>0.500000</td>\n",
              "      <td>0.250</td>\n",
              "      <td>1.0</td>\n",
              "      <td>0.181818</td>\n",
              "      <td>0.0</td>\n",
              "      <td>0.75</td>\n",
              "    </tr>\n",
              "    <tr>\n",
              "      <th>4</th>\n",
              "      <td>0.0</td>\n",
              "      <td>1.000000</td>\n",
              "      <td>1.0</td>\n",
              "      <td>0.50</td>\n",
              "      <td>0.0</td>\n",
              "      <td>0.333333</td>\n",
              "      <td>1.0</td>\n",
              "      <td>0.633987</td>\n",
              "      <td>0.285714</td>\n",
              "      <td>0.875</td>\n",
              "      <td>0.0</td>\n",
              "      <td>0.090909</td>\n",
              "      <td>1.0</td>\n",
              "      <td>0.50</td>\n",
              "    </tr>\n",
              "    <tr>\n",
              "      <th>...</th>\n",
              "      <td>...</td>\n",
              "      <td>...</td>\n",
              "      <td>...</td>\n",
              "      <td>...</td>\n",
              "      <td>...</td>\n",
              "      <td>...</td>\n",
              "      <td>...</td>\n",
              "      <td>...</td>\n",
              "      <td>...</td>\n",
              "      <td>...</td>\n",
              "      <td>...</td>\n",
              "      <td>...</td>\n",
              "      <td>...</td>\n",
              "      <td>...</td>\n",
              "    </tr>\n",
              "    <tr>\n",
              "      <th>566</th>\n",
              "      <td>0.0</td>\n",
              "      <td>1.000000</td>\n",
              "      <td>1.0</td>\n",
              "      <td>0.25</td>\n",
              "      <td>0.0</td>\n",
              "      <td>0.000000</td>\n",
              "      <td>1.0</td>\n",
              "      <td>0.542484</td>\n",
              "      <td>0.214286</td>\n",
              "      <td>0.875</td>\n",
              "      <td>0.0</td>\n",
              "      <td>0.090909</td>\n",
              "      <td>1.0</td>\n",
              "      <td>0.50</td>\n",
              "    </tr>\n",
              "    <tr>\n",
              "      <th>567</th>\n",
              "      <td>0.0</td>\n",
              "      <td>1.000000</td>\n",
              "      <td>0.0</td>\n",
              "      <td>0.25</td>\n",
              "      <td>0.8</td>\n",
              "      <td>0.666667</td>\n",
              "      <td>1.0</td>\n",
              "      <td>0.542484</td>\n",
              "      <td>0.428571</td>\n",
              "      <td>0.875</td>\n",
              "      <td>0.0</td>\n",
              "      <td>0.454545</td>\n",
              "      <td>0.0</td>\n",
              "      <td>0.75</td>\n",
              "    </tr>\n",
              "    <tr>\n",
              "      <th>568</th>\n",
              "      <td>0.0</td>\n",
              "      <td>1.000000</td>\n",
              "      <td>1.0</td>\n",
              "      <td>0.50</td>\n",
              "      <td>0.0</td>\n",
              "      <td>0.000000</td>\n",
              "      <td>0.0</td>\n",
              "      <td>0.339869</td>\n",
              "      <td>0.214286</td>\n",
              "      <td>0.875</td>\n",
              "      <td>0.0</td>\n",
              "      <td>0.090909</td>\n",
              "      <td>1.0</td>\n",
              "      <td>0.50</td>\n",
              "    </tr>\n",
              "    <tr>\n",
              "      <th>569</th>\n",
              "      <td>1.0</td>\n",
              "      <td>1.000000</td>\n",
              "      <td>1.0</td>\n",
              "      <td>0.25</td>\n",
              "      <td>0.0</td>\n",
              "      <td>0.000000</td>\n",
              "      <td>1.0</td>\n",
              "      <td>0.549020</td>\n",
              "      <td>0.214286</td>\n",
              "      <td>0.875</td>\n",
              "      <td>0.0</td>\n",
              "      <td>0.090909</td>\n",
              "      <td>1.0</td>\n",
              "      <td>0.50</td>\n",
              "    </tr>\n",
              "    <tr>\n",
              "      <th>570</th>\n",
              "      <td>1.0</td>\n",
              "      <td>0.666667</td>\n",
              "      <td>1.0</td>\n",
              "      <td>0.75</td>\n",
              "      <td>0.0</td>\n",
              "      <td>0.333333</td>\n",
              "      <td>1.0</td>\n",
              "      <td>0.928105</td>\n",
              "      <td>0.214286</td>\n",
              "      <td>0.875</td>\n",
              "      <td>0.0</td>\n",
              "      <td>0.090909</td>\n",
              "      <td>1.0</td>\n",
              "      <td>0.50</td>\n",
              "    </tr>\n",
              "  </tbody>\n",
              "</table>\n",
              "<p>571 rows × 14 columns</p>\n",
              "</div>"
            ],
            "text/plain": [
              "     Survived    Pclass  Sex   Age  ...  Has_Cabin  Family_size  isalone  Title\n",
              "0         0.0  1.000000  1.0  0.25  ...        0.0     0.181818      0.0   0.50\n",
              "1         1.0  0.333333  0.0  0.50  ...        1.0     0.181818      0.0   0.75\n",
              "2         1.0  1.000000  0.0  0.25  ...        0.0     0.090909      1.0   0.25\n",
              "3         1.0  0.333333  0.0  0.50  ...        1.0     0.181818      0.0   0.75\n",
              "4         0.0  1.000000  1.0  0.50  ...        0.0     0.090909      1.0   0.50\n",
              "..        ...       ...  ...   ...  ...        ...          ...      ...    ...\n",
              "566       0.0  1.000000  1.0  0.25  ...        0.0     0.090909      1.0   0.50\n",
              "567       0.0  1.000000  0.0  0.25  ...        0.0     0.454545      0.0   0.75\n",
              "568       0.0  1.000000  1.0  0.50  ...        0.0     0.090909      1.0   0.50\n",
              "569       1.0  1.000000  1.0  0.25  ...        0.0     0.090909      1.0   0.50\n",
              "570       1.0  0.666667  1.0  0.75  ...        0.0     0.090909      1.0   0.50\n",
              "\n",
              "[571 rows x 14 columns]"
            ]
          },
          "metadata": {
            "tags": []
          },
          "execution_count": 50
        }
      ]
    },
    {
      "cell_type": "code",
      "metadata": {
        "id": "QXtinDsDyhJE"
      },
      "source": [
        "#for _, m in zip(valid.columns, maximum):\r\n",
        "#    valid[_]=valid[_]/m\r\n"
      ],
      "execution_count": 51,
      "outputs": []
    },
    {
      "cell_type": "code",
      "metadata": {
        "colab": {
          "base_uri": "https://localhost:8080/",
          "height": 427
        },
        "id": "KrEXDML-ys3W",
        "outputId": "15b20013-641f-4315-d468-e416a08a0480"
      },
      "source": [
        "valid"
      ],
      "execution_count": 52,
      "outputs": [
        {
          "output_type": "execute_result",
          "data": {
            "text/html": [
              "<div>\n",
              "<style scoped>\n",
              "    .dataframe tbody tr th:only-of-type {\n",
              "        vertical-align: middle;\n",
              "    }\n",
              "\n",
              "    .dataframe tbody tr th {\n",
              "        vertical-align: top;\n",
              "    }\n",
              "\n",
              "    .dataframe thead th {\n",
              "        text-align: right;\n",
              "    }\n",
              "</style>\n",
              "<table border=\"1\" class=\"dataframe\">\n",
              "  <thead>\n",
              "    <tr style=\"text-align: right;\">\n",
              "      <th></th>\n",
              "      <th>Survived</th>\n",
              "      <th>Pclass</th>\n",
              "      <th>Sex</th>\n",
              "      <th>Age</th>\n",
              "      <th>Parch</th>\n",
              "      <th>Fare</th>\n",
              "      <th>Embarked</th>\n",
              "      <th>Ticket_type</th>\n",
              "      <th>Word_count</th>\n",
              "      <th>Cabin_class</th>\n",
              "      <th>Has_Cabin</th>\n",
              "      <th>Family_size</th>\n",
              "      <th>isalone</th>\n",
              "      <th>Title</th>\n",
              "    </tr>\n",
              "  </thead>\n",
              "  <tbody>\n",
              "    <tr>\n",
              "      <th>570</th>\n",
              "      <td>1.0</td>\n",
              "      <td>0.666667</td>\n",
              "      <td>1.0</td>\n",
              "      <td>0.75</td>\n",
              "      <td>0.0</td>\n",
              "      <td>0.333333</td>\n",
              "      <td>1.0</td>\n",
              "      <td>0.928105</td>\n",
              "      <td>0.214286</td>\n",
              "      <td>0.875</td>\n",
              "      <td>0.0</td>\n",
              "      <td>0.090909</td>\n",
              "      <td>1.0</td>\n",
              "      <td>0.50</td>\n",
              "    </tr>\n",
              "    <tr>\n",
              "      <th>571</th>\n",
              "      <td>1.0</td>\n",
              "      <td>0.333333</td>\n",
              "      <td>0.0</td>\n",
              "      <td>0.75</td>\n",
              "      <td>0.0</td>\n",
              "      <td>1.000000</td>\n",
              "      <td>1.0</td>\n",
              "      <td>0.032680</td>\n",
              "      <td>0.428571</td>\n",
              "      <td>0.250</td>\n",
              "      <td>1.0</td>\n",
              "      <td>0.272727</td>\n",
              "      <td>0.0</td>\n",
              "      <td>0.75</td>\n",
              "    </tr>\n",
              "    <tr>\n",
              "      <th>572</th>\n",
              "      <td>1.0</td>\n",
              "      <td>0.333333</td>\n",
              "      <td>1.0</td>\n",
              "      <td>0.50</td>\n",
              "      <td>0.0</td>\n",
              "      <td>0.666667</td>\n",
              "      <td>1.0</td>\n",
              "      <td>0.895425</td>\n",
              "      <td>0.357143</td>\n",
              "      <td>0.500</td>\n",
              "      <td>1.0</td>\n",
              "      <td>0.090909</td>\n",
              "      <td>1.0</td>\n",
              "      <td>0.50</td>\n",
              "    </tr>\n",
              "    <tr>\n",
              "      <th>573</th>\n",
              "      <td>1.0</td>\n",
              "      <td>1.000000</td>\n",
              "      <td>0.0</td>\n",
              "      <td>0.25</td>\n",
              "      <td>0.0</td>\n",
              "      <td>0.000000</td>\n",
              "      <td>0.5</td>\n",
              "      <td>0.091503</td>\n",
              "      <td>0.214286</td>\n",
              "      <td>0.875</td>\n",
              "      <td>0.0</td>\n",
              "      <td>0.090909</td>\n",
              "      <td>1.0</td>\n",
              "      <td>0.25</td>\n",
              "    </tr>\n",
              "    <tr>\n",
              "      <th>574</th>\n",
              "      <td>0.0</td>\n",
              "      <td>1.000000</td>\n",
              "      <td>1.0</td>\n",
              "      <td>0.00</td>\n",
              "      <td>0.0</td>\n",
              "      <td>0.333333</td>\n",
              "      <td>1.0</td>\n",
              "      <td>0.803922</td>\n",
              "      <td>0.357143</td>\n",
              "      <td>0.875</td>\n",
              "      <td>0.0</td>\n",
              "      <td>0.090909</td>\n",
              "      <td>1.0</td>\n",
              "      <td>0.50</td>\n",
              "    </tr>\n",
              "    <tr>\n",
              "      <th>...</th>\n",
              "      <td>...</td>\n",
              "      <td>...</td>\n",
              "      <td>...</td>\n",
              "      <td>...</td>\n",
              "      <td>...</td>\n",
              "      <td>...</td>\n",
              "      <td>...</td>\n",
              "      <td>...</td>\n",
              "      <td>...</td>\n",
              "      <td>...</td>\n",
              "      <td>...</td>\n",
              "      <td>...</td>\n",
              "      <td>...</td>\n",
              "      <td>...</td>\n",
              "    </tr>\n",
              "    <tr>\n",
              "      <th>708</th>\n",
              "      <td>1.0</td>\n",
              "      <td>0.333333</td>\n",
              "      <td>0.0</td>\n",
              "      <td>0.25</td>\n",
              "      <td>0.0</td>\n",
              "      <td>1.000000</td>\n",
              "      <td>1.0</td>\n",
              "      <td>0.019608</td>\n",
              "      <td>0.214286</td>\n",
              "      <td>0.875</td>\n",
              "      <td>0.0</td>\n",
              "      <td>0.090909</td>\n",
              "      <td>1.0</td>\n",
              "      <td>0.25</td>\n",
              "    </tr>\n",
              "    <tr>\n",
              "      <th>709</th>\n",
              "      <td>1.0</td>\n",
              "      <td>1.000000</td>\n",
              "      <td>1.0</td>\n",
              "      <td>0.25</td>\n",
              "      <td>0.2</td>\n",
              "      <td>0.666667</td>\n",
              "      <td>0.0</td>\n",
              "      <td>0.326797</td>\n",
              "      <td>0.428571</td>\n",
              "      <td>0.875</td>\n",
              "      <td>0.0</td>\n",
              "      <td>0.272727</td>\n",
              "      <td>0.0</td>\n",
              "      <td>0.00</td>\n",
              "    </tr>\n",
              "    <tr>\n",
              "      <th>710</th>\n",
              "      <td>1.0</td>\n",
              "      <td>0.333333</td>\n",
              "      <td>0.0</td>\n",
              "      <td>0.25</td>\n",
              "      <td>0.0</td>\n",
              "      <td>1.000000</td>\n",
              "      <td>0.0</td>\n",
              "      <td>0.895425</td>\n",
              "      <td>0.500000</td>\n",
              "      <td>0.250</td>\n",
              "      <td>1.0</td>\n",
              "      <td>0.090909</td>\n",
              "      <td>1.0</td>\n",
              "      <td>0.25</td>\n",
              "    </tr>\n",
              "    <tr>\n",
              "      <th>711</th>\n",
              "      <td>0.0</td>\n",
              "      <td>0.333333</td>\n",
              "      <td>1.0</td>\n",
              "      <td>0.50</td>\n",
              "      <td>0.0</td>\n",
              "      <td>0.666667</td>\n",
              "      <td>1.0</td>\n",
              "      <td>0.019608</td>\n",
              "      <td>0.214286</td>\n",
              "      <td>0.250</td>\n",
              "      <td>1.0</td>\n",
              "      <td>0.090909</td>\n",
              "      <td>1.0</td>\n",
              "      <td>0.50</td>\n",
              "    </tr>\n",
              "    <tr>\n",
              "      <th>712</th>\n",
              "      <td>1.0</td>\n",
              "      <td>0.333333</td>\n",
              "      <td>1.0</td>\n",
              "      <td>0.50</td>\n",
              "      <td>0.0</td>\n",
              "      <td>1.000000</td>\n",
              "      <td>1.0</td>\n",
              "      <td>0.137255</td>\n",
              "      <td>0.285714</td>\n",
              "      <td>0.250</td>\n",
              "      <td>1.0</td>\n",
              "      <td>0.181818</td>\n",
              "      <td>0.0</td>\n",
              "      <td>0.50</td>\n",
              "    </tr>\n",
              "  </tbody>\n",
              "</table>\n",
              "<p>143 rows × 14 columns</p>\n",
              "</div>"
            ],
            "text/plain": [
              "     Survived    Pclass  Sex   Age  ...  Has_Cabin  Family_size  isalone  Title\n",
              "570       1.0  0.666667  1.0  0.75  ...        0.0     0.090909      1.0   0.50\n",
              "571       1.0  0.333333  0.0  0.75  ...        1.0     0.272727      0.0   0.75\n",
              "572       1.0  0.333333  1.0  0.50  ...        1.0     0.090909      1.0   0.50\n",
              "573       1.0  1.000000  0.0  0.25  ...        0.0     0.090909      1.0   0.25\n",
              "574       0.0  1.000000  1.0  0.00  ...        0.0     0.090909      1.0   0.50\n",
              "..        ...       ...  ...   ...  ...        ...          ...      ...    ...\n",
              "708       1.0  0.333333  0.0  0.25  ...        0.0     0.090909      1.0   0.25\n",
              "709       1.0  1.000000  1.0  0.25  ...        0.0     0.272727      0.0   0.00\n",
              "710       1.0  0.333333  0.0  0.25  ...        1.0     0.090909      1.0   0.25\n",
              "711       0.0  0.333333  1.0  0.50  ...        1.0     0.090909      1.0   0.50\n",
              "712       1.0  0.333333  1.0  0.50  ...        1.0     0.181818      0.0   0.50\n",
              "\n",
              "[143 rows x 14 columns]"
            ]
          },
          "metadata": {
            "tags": []
          },
          "execution_count": 52
        }
      ]
    },
    {
      "cell_type": "markdown",
      "metadata": {
        "id": "Oxux_AQFuIJs"
      },
      "source": [
        "분류 신경망 정의하기"
      ]
    },
    {
      "cell_type": "code",
      "metadata": {
        "id": "i-VojtrCt_xy"
      },
      "source": [
        "import torch.nn.functional as F\r\n",
        "\r\n",
        "class Net(torch.nn.Module):\r\n",
        "    def __init__(self):\r\n",
        "        super(Net, self).__init__()\r\n",
        "        self.fc1=torch.nn.Linear(13, 512)\r\n",
        "        self.fc2=torch.nn.Linear(512, 64)\r\n",
        "        self.fc3=torch.nn.Linear(64, 2)\r\n",
        "\r\n",
        "    def forward(self, x):\r\n",
        "        x=self.fc1(x)\r\n",
        "        x=F.relu(x)\r\n",
        "        x=self.fc2(x)\r\n",
        "        x=F.relu(x)\r\n",
        "        x=self.fc3(x)\r\n",
        "        x=torch.sigmoid(x)\r\n",
        "\r\n",
        "        return x\r\n",
        "\r\n",
        "model=Net()"
      ],
      "execution_count": 71,
      "outputs": []
    },
    {
      "cell_type": "code",
      "metadata": {
        "id": "XPqzY0ahwQoS"
      },
      "source": [
        "num_epoch=20"
      ],
      "execution_count": 72,
      "outputs": []
    },
    {
      "cell_type": "code",
      "metadata": {
        "id": "3ss0Jdtyxdhx"
      },
      "source": [
        "origin=train.copy()\r\n",
        "train=origin.loc[:int(origin.shape[0]*0.8)].copy()\r\n",
        "valid=origin.loc[int(origin.shape[0]*0.8):].copy()\r\n",
        "test['Survived']=0"
      ],
      "execution_count": 73,
      "outputs": []
    },
    {
      "cell_type": "code",
      "metadata": {
        "id": "tZAfzg9LwmHZ"
      },
      "source": [
        "x_train=train.loc[:, train.columns != 'Survived'].values\r\n",
        "y_train=train['Survived'].values\r\n",
        "\r\n",
        "x_valid=valid.loc[:, valid.columns != 'Survived'].values\r\n",
        "y_valid=valid['Survived'].values\r\n",
        "\r\n",
        "x_test=test.loc[:, test.columns != 'Survived'].values\r\n",
        "y_test=test['Survived']"
      ],
      "execution_count": 74,
      "outputs": []
    },
    {
      "cell_type": "code",
      "metadata": {
        "id": "4mSw7oE12uUB"
      },
      "source": [
        "criterion = torch.nn.CrossEntropyLoss()\r\n",
        "optimizer = torch.optim.Adam(model.parameters(), lr=0.02)"
      ],
      "execution_count": 75,
      "outputs": []
    },
    {
      "cell_type": "code",
      "metadata": {
        "id": "2PYgd1BK8Qt3"
      },
      "source": [
        "#accuracy 계산 함수\r\n",
        "def calc_accuracy(X,Y):\r\n",
        "    max_vals, max_indices = torch.max(X, 1)\r\n",
        "    train_acc = (max_indices == Y).sum().data.cpu().numpy()/max_indices.size()[0]\r\n",
        "    return train_acc"
      ],
      "execution_count": 76,
      "outputs": []
    },
    {
      "cell_type": "code",
      "metadata": {
        "colab": {
          "base_uri": "https://localhost:8080/"
        },
        "id": "azudqG0x5VcQ",
        "outputId": "3549bce6-09a1-474f-b87c-7ced9ba92e3e"
      },
      "source": [
        "from sklearn.utils import shuffle\r\n",
        "from torch.autograd import Variable\r\n",
        "\r\n",
        "for epoch in range(100):\r\n",
        "    print('Epoch {}'.format(epoch+1))\r\n",
        "\r\n",
        "    model.train()\r\n",
        "    x_var = Variable(torch.FloatTensor(x_train))\r\n",
        "    y_var = Variable(torch.LongTensor(y_train))\r\n",
        "    # Forward + Backward + Optimize\r\n",
        "    #optimizer.zero_grad()\r\n",
        "    train_pred = model(x_var)\r\n",
        "    loss =criterion(train_pred, y_var)\r\n",
        "    loss.backward()\r\n",
        "    optimizer.step()\r\n",
        "    train_acc=calc_accuracy(train_pred, y_var)\r\n",
        "    print('train: ', loss.data.numpy(), train_acc)\r\n",
        "\r\n",
        "    valid_pred=model(Variable(torch.FloatTensor(x_valid)))\r\n",
        "    valid_loss=criterion(valid_pred, Variable(torch.LongTensor(y_valid)))\r\n",
        "    valid_acc=calc_accuracy(valid_pred, Variable(torch.LongTensor(y_valid)))\r\n",
        "    print('valid:  ', valid_loss.data.numpy(), valid_acc)"
      ],
      "execution_count": 77,
      "outputs": [
        {
          "output_type": "stream",
          "text": [
            "Epoch 1\n",
            "train:  0.70034873 0.34893617021276596\n",
            "valid:   0.6577086 0.5932203389830508\n",
            "Epoch 2\n",
            "train:  0.6312981 0.6510638297872341\n",
            "valid:   0.68513435 0.5932203389830508\n",
            "Epoch 3\n",
            "train:  0.6315921 0.6510638297872341\n",
            "valid:   0.69469965 0.5932203389830508\n",
            "Epoch 4\n",
            "train:  0.63953716 0.6510638297872341\n",
            "valid:   0.6518721 0.6101694915254238\n",
            "Epoch 5\n",
            "train:  0.6029895 0.6893617021276596\n",
            "valid:   0.5624224 0.7966101694915254\n",
            "Epoch 6\n",
            "train:  0.5326434 0.7489361702127659\n",
            "valid:   0.6530589 0.6610169491525424\n",
            "Epoch 7\n",
            "train:  0.6133676 0.7489361702127659\n",
            "valid:   0.73304373 0.5254237288135594\n",
            "Epoch 8\n",
            "train:  0.72439605 0.5106382978723404\n",
            "valid:   0.6510688 0.6610169491525424\n",
            "Epoch 9\n",
            "train:  0.5722229 0.7617021276595745\n",
            "valid:   0.5718093 0.711864406779661\n",
            "Epoch 10\n",
            "train:  0.52696997 0.7617021276595745\n",
            "valid:   0.6094679 0.6610169491525424\n",
            "Epoch 11\n",
            "train:  0.5718776 0.7276595744680852\n",
            "valid:   0.6510809 0.6779661016949152\n",
            "Epoch 12\n",
            "train:  0.5975966 0.7148936170212766\n",
            "valid:   0.6959005 0.6101694915254238\n",
            "Epoch 13\n",
            "train:  0.63879204 0.6638297872340425\n",
            "valid:   0.7111535 0.5932203389830508\n",
            "Epoch 14\n",
            "train:  0.6614626 0.6510638297872341\n",
            "valid:   0.7198314 0.5932203389830508\n",
            "Epoch 15\n",
            "train:  0.66219455 0.6510638297872341\n",
            "valid:   0.7200404 0.5932203389830508\n",
            "Epoch 16\n",
            "train:  0.6621988 0.6510638297872341\n",
            "valid:   0.72004145 0.5932203389830508\n",
            "Epoch 17\n",
            "train:  0.6621988 0.6510638297872341\n",
            "valid:   0.72004145 0.5932203389830508\n",
            "Epoch 18\n",
            "train:  0.6621988 0.6510638297872341\n",
            "valid:   0.72004145 0.5932203389830508\n",
            "Epoch 19\n",
            "train:  0.6621988 0.6510638297872341\n",
            "valid:   0.72004145 0.5932203389830508\n",
            "Epoch 20\n",
            "train:  0.6621988 0.6510638297872341\n",
            "valid:   0.72004145 0.5932203389830508\n",
            "Epoch 21\n",
            "train:  0.6621988 0.6510638297872341\n",
            "valid:   0.72004145 0.5932203389830508\n",
            "Epoch 22\n",
            "train:  0.6621988 0.6510638297872341\n",
            "valid:   0.72004145 0.5932203389830508\n",
            "Epoch 23\n",
            "train:  0.6621988 0.6510638297872341\n",
            "valid:   0.72004145 0.5932203389830508\n",
            "Epoch 24\n",
            "train:  0.6621988 0.6510638297872341\n",
            "valid:   0.72004145 0.5932203389830508\n",
            "Epoch 25\n",
            "train:  0.6621988 0.6510638297872341\n",
            "valid:   0.72004145 0.5932203389830508\n",
            "Epoch 26\n",
            "train:  0.6621988 0.6510638297872341\n",
            "valid:   0.72004145 0.5932203389830508\n",
            "Epoch 27\n",
            "train:  0.6621988 0.6510638297872341\n",
            "valid:   0.72004145 0.5932203389830508\n",
            "Epoch 28\n",
            "train:  0.6621988 0.6510638297872341\n",
            "valid:   0.72004145 0.5932203389830508\n",
            "Epoch 29\n",
            "train:  0.6621988 0.6510638297872341\n",
            "valid:   0.72004145 0.5932203389830508\n",
            "Epoch 30\n",
            "train:  0.6621988 0.6510638297872341\n",
            "valid:   0.72004145 0.5932203389830508\n",
            "Epoch 31\n",
            "train:  0.6621988 0.6510638297872341\n",
            "valid:   0.72004145 0.5932203389830508\n",
            "Epoch 32\n",
            "train:  0.6621988 0.6510638297872341\n",
            "valid:   0.72004145 0.5932203389830508\n",
            "Epoch 33\n",
            "train:  0.6621988 0.6510638297872341\n",
            "valid:   0.72004145 0.5932203389830508\n",
            "Epoch 34\n",
            "train:  0.6621988 0.6510638297872341\n",
            "valid:   0.72004145 0.5932203389830508\n",
            "Epoch 35\n",
            "train:  0.6621988 0.6510638297872341\n",
            "valid:   0.72004145 0.5932203389830508\n",
            "Epoch 36\n",
            "train:  0.6621988 0.6510638297872341\n",
            "valid:   0.72004145 0.5932203389830508\n",
            "Epoch 37\n",
            "train:  0.6621988 0.6510638297872341\n",
            "valid:   0.72004145 0.5932203389830508\n",
            "Epoch 38\n",
            "train:  0.6621988 0.6510638297872341\n",
            "valid:   0.72004145 0.5932203389830508\n",
            "Epoch 39\n",
            "train:  0.6621988 0.6510638297872341\n",
            "valid:   0.72004145 0.5932203389830508\n",
            "Epoch 40\n",
            "train:  0.6621988 0.6510638297872341\n",
            "valid:   0.72004145 0.5932203389830508\n",
            "Epoch 41\n",
            "train:  0.6621988 0.6510638297872341\n",
            "valid:   0.72004145 0.5932203389830508\n",
            "Epoch 42\n",
            "train:  0.6621988 0.6510638297872341\n",
            "valid:   0.72004145 0.5932203389830508\n",
            "Epoch 43\n",
            "train:  0.6621988 0.6510638297872341\n",
            "valid:   0.72004145 0.5932203389830508\n",
            "Epoch 44\n",
            "train:  0.6621988 0.6510638297872341\n",
            "valid:   0.72004145 0.5932203389830508\n",
            "Epoch 45\n",
            "train:  0.6621988 0.6510638297872341\n",
            "valid:   0.72004145 0.5932203389830508\n",
            "Epoch 46\n",
            "train:  0.6621988 0.6510638297872341\n",
            "valid:   0.72004145 0.5932203389830508\n",
            "Epoch 47\n",
            "train:  0.6621988 0.6510638297872341\n",
            "valid:   0.72004145 0.5932203389830508\n",
            "Epoch 48\n",
            "train:  0.6621988 0.6510638297872341\n",
            "valid:   0.72004145 0.5932203389830508\n",
            "Epoch 49\n",
            "train:  0.6621988 0.6510638297872341\n",
            "valid:   0.72004145 0.5932203389830508\n",
            "Epoch 50\n",
            "train:  0.6621988 0.6510638297872341\n",
            "valid:   0.72004145 0.5932203389830508\n",
            "Epoch 51\n",
            "train:  0.6621988 0.6510638297872341\n",
            "valid:   0.72004145 0.5932203389830508\n",
            "Epoch 52\n",
            "train:  0.6621988 0.6510638297872341\n",
            "valid:   0.72004145 0.5932203389830508\n",
            "Epoch 53\n",
            "train:  0.6621988 0.6510638297872341\n",
            "valid:   0.72004145 0.5932203389830508\n",
            "Epoch 54\n",
            "train:  0.6621988 0.6510638297872341\n",
            "valid:   0.72004145 0.5932203389830508\n",
            "Epoch 55\n",
            "train:  0.6621988 0.6510638297872341\n",
            "valid:   0.72004145 0.5932203389830508\n",
            "Epoch 56\n",
            "train:  0.6621988 0.6510638297872341\n",
            "valid:   0.72004145 0.5932203389830508\n",
            "Epoch 57\n",
            "train:  0.6621988 0.6510638297872341\n",
            "valid:   0.72004145 0.5932203389830508\n",
            "Epoch 58\n",
            "train:  0.6621988 0.6510638297872341\n",
            "valid:   0.72004145 0.5932203389830508\n",
            "Epoch 59\n",
            "train:  0.6621988 0.6510638297872341\n",
            "valid:   0.72004145 0.5932203389830508\n",
            "Epoch 60\n",
            "train:  0.6621988 0.6510638297872341\n",
            "valid:   0.72004145 0.5932203389830508\n",
            "Epoch 61\n",
            "train:  0.6621988 0.6510638297872341\n",
            "valid:   0.72004145 0.5932203389830508\n",
            "Epoch 62\n",
            "train:  0.6621988 0.6510638297872341\n",
            "valid:   0.72004145 0.5932203389830508\n",
            "Epoch 63\n",
            "train:  0.6621988 0.6510638297872341\n",
            "valid:   0.72004145 0.5932203389830508\n",
            "Epoch 64\n",
            "train:  0.6621988 0.6510638297872341\n",
            "valid:   0.72004145 0.5932203389830508\n",
            "Epoch 65\n",
            "train:  0.6621988 0.6510638297872341\n",
            "valid:   0.72004145 0.5932203389830508\n",
            "Epoch 66\n",
            "train:  0.6621988 0.6510638297872341\n",
            "valid:   0.72004145 0.5932203389830508\n",
            "Epoch 67\n",
            "train:  0.6621988 0.6510638297872341\n",
            "valid:   0.72004145 0.5932203389830508\n",
            "Epoch 68\n",
            "train:  0.6621988 0.6510638297872341\n",
            "valid:   0.72004145 0.5932203389830508\n",
            "Epoch 69\n",
            "train:  0.6621988 0.6510638297872341\n",
            "valid:   0.72004145 0.5932203389830508\n",
            "Epoch 70\n",
            "train:  0.6621988 0.6510638297872341\n",
            "valid:   0.72004145 0.5932203389830508\n",
            "Epoch 71\n",
            "train:  0.6621988 0.6510638297872341\n",
            "valid:   0.72004145 0.5932203389830508\n",
            "Epoch 72\n",
            "train:  0.6621988 0.6510638297872341\n",
            "valid:   0.72004145 0.5932203389830508\n",
            "Epoch 73\n",
            "train:  0.6621988 0.6510638297872341\n",
            "valid:   0.72004145 0.5932203389830508\n",
            "Epoch 74\n",
            "train:  0.6621988 0.6510638297872341\n",
            "valid:   0.72004145 0.5932203389830508\n",
            "Epoch 75\n",
            "train:  0.6621988 0.6510638297872341\n",
            "valid:   0.72004145 0.5932203389830508\n",
            "Epoch 76\n",
            "train:  0.6621988 0.6510638297872341\n",
            "valid:   0.72004145 0.5932203389830508\n",
            "Epoch 77\n",
            "train:  0.6621988 0.6510638297872341\n",
            "valid:   0.72004145 0.5932203389830508\n",
            "Epoch 78\n",
            "train:  0.6621988 0.6510638297872341\n",
            "valid:   0.72004145 0.5932203389830508\n",
            "Epoch 79\n",
            "train:  0.6621988 0.6510638297872341\n",
            "valid:   0.72004145 0.5932203389830508\n",
            "Epoch 80\n",
            "train:  0.6621988 0.6510638297872341\n",
            "valid:   0.72004145 0.5932203389830508\n",
            "Epoch 81\n",
            "train:  0.6621988 0.6510638297872341\n",
            "valid:   0.72004145 0.5932203389830508\n",
            "Epoch 82\n",
            "train:  0.6621988 0.6510638297872341\n",
            "valid:   0.72004145 0.5932203389830508\n",
            "Epoch 83\n",
            "train:  0.6621988 0.6510638297872341\n",
            "valid:   0.72004145 0.5932203389830508\n",
            "Epoch 84\n",
            "train:  0.6621988 0.6510638297872341\n",
            "valid:   0.72004145 0.5932203389830508\n",
            "Epoch 85\n",
            "train:  0.6621988 0.6510638297872341\n",
            "valid:   0.72004145 0.5932203389830508\n",
            "Epoch 86\n",
            "train:  0.6621988 0.6510638297872341\n",
            "valid:   0.72004145 0.5932203389830508\n",
            "Epoch 87\n",
            "train:  0.6621988 0.6510638297872341\n",
            "valid:   0.72004145 0.5932203389830508\n",
            "Epoch 88\n",
            "train:  0.6621988 0.6510638297872341\n",
            "valid:   0.72004145 0.5932203389830508\n",
            "Epoch 89\n",
            "train:  0.6621988 0.6510638297872341\n",
            "valid:   0.72004145 0.5932203389830508\n",
            "Epoch 90\n",
            "train:  0.6621988 0.6510638297872341\n",
            "valid:   0.72004145 0.5932203389830508\n",
            "Epoch 91\n",
            "train:  0.6621988 0.6510638297872341\n",
            "valid:   0.72004145 0.5932203389830508\n",
            "Epoch 92\n",
            "train:  0.6621988 0.6510638297872341\n",
            "valid:   0.72004145 0.5932203389830508\n",
            "Epoch 93\n",
            "train:  0.6621988 0.6510638297872341\n",
            "valid:   0.72004145 0.5932203389830508\n",
            "Epoch 94\n",
            "train:  0.6621988 0.6510638297872341\n",
            "valid:   0.72004145 0.5932203389830508\n",
            "Epoch 95\n",
            "train:  0.6621988 0.6510638297872341\n",
            "valid:   0.72004145 0.5932203389830508\n",
            "Epoch 96\n",
            "train:  0.6621988 0.6510638297872341\n",
            "valid:   0.72004145 0.5932203389830508\n",
            "Epoch 97\n",
            "train:  0.6621988 0.6510638297872341\n",
            "valid:   0.72004145 0.5932203389830508\n",
            "Epoch 98\n",
            "train:  0.6621988 0.6510638297872341\n",
            "valid:   0.72004145 0.5932203389830508\n",
            "Epoch 99\n",
            "train:  0.6621988 0.6510638297872341\n",
            "valid:   0.72004145 0.5932203389830508\n",
            "Epoch 100\n",
            "train:  0.6621988 0.6510638297872341\n",
            "valid:   0.72004145 0.5932203389830508\n"
          ],
          "name": "stdout"
        }
      ]
    },
    {
      "cell_type": "code",
      "metadata": {
        "id": "wndfGqE-APih"
      },
      "source": [
        "#XGDBOOST with ensemble"
      ],
      "execution_count": null,
      "outputs": []
    },
    {
      "cell_type": "code",
      "metadata": {
        "id": "nMsWYZlOEYWq"
      },
      "source": [
        "import sklearn\r\n",
        "import xgboost as xgb"
      ],
      "execution_count": 78,
      "outputs": []
    },
    {
      "cell_type": "code",
      "metadata": {
        "id": "cJFvz0KYuaA7"
      },
      "source": [
        "gbm = xgb.XGBClassifier(\r\n",
        "    #learning_rate = 0.02,\r\n",
        "    n_estimators= 2000,\r\n",
        "    max_depth= 4,\r\n",
        "    min_child_weight= 2,\r\n",
        "    #gamma=1,\r\n",
        "    gamma=0.9,                        \r\n",
        "    subsample=0.8,\r\n",
        "    colsample_bytree=0.8,\r\n",
        "    objective= 'binary:logistic',\r\n",
        "    nthread= -1,\r\n",
        "    scale_pos_weight=1).fit(x_train, y_train)\r\n",
        "    \r\n",
        "xgb_predictions = gbm.predict(x_test)"
      ],
      "execution_count": 83,
      "outputs": []
    },
    {
      "cell_type": "code",
      "metadata": {
        "colab": {
          "base_uri": "https://localhost:8080/"
        },
        "id": "KSDKQB16wNIm",
        "outputId": "dd221332-67ba-4561-d0fe-f7b5ea2be155"
      },
      "source": [
        "valid_pred_xgb = gbm.predict(x_valid)\r\n",
        "\r\n",
        "sum_correct=0\r\n",
        "for a, b in zip(valid_pred_xgb, y_valid):\r\n",
        "    if a==b: \r\n",
        "        sum_correct=sum_correct+1\r\n",
        "\r\n",
        "acc=sum_correct/y_valid.shape[0]\r\n",
        "print(acc)\r\n"
      ],
      "execution_count": 93,
      "outputs": [
        {
          "output_type": "stream",
          "text": [
            "0.7457627118644068\n"
          ],
          "name": "stdout"
        }
      ]
    },
    {
      "cell_type": "code",
      "metadata": {
        "id": "fVkxXLhAuhQh"
      },
      "source": [
        "StackingSubmission = pd.DataFrame({ 'PassengerId': passengerid,\r\n",
        "                            'Survived': xgb_predictions })"
      ],
      "execution_count": 86,
      "outputs": []
    },
    {
      "cell_type": "code",
      "metadata": {
        "colab": {
          "base_uri": "https://localhost:8080/",
          "height": 407
        },
        "id": "9AEnqlrEusDj",
        "outputId": "3315bc8b-bbcf-4ef7-bf38-b3a5102bb6a6"
      },
      "source": [
        "StackingSubmission"
      ],
      "execution_count": 87,
      "outputs": [
        {
          "output_type": "execute_result",
          "data": {
            "text/html": [
              "<div>\n",
              "<style scoped>\n",
              "    .dataframe tbody tr th:only-of-type {\n",
              "        vertical-align: middle;\n",
              "    }\n",
              "\n",
              "    .dataframe tbody tr th {\n",
              "        vertical-align: top;\n",
              "    }\n",
              "\n",
              "    .dataframe thead th {\n",
              "        text-align: right;\n",
              "    }\n",
              "</style>\n",
              "<table border=\"1\" class=\"dataframe\">\n",
              "  <thead>\n",
              "    <tr style=\"text-align: right;\">\n",
              "      <th></th>\n",
              "      <th>PassengerId</th>\n",
              "      <th>Survived</th>\n",
              "    </tr>\n",
              "  </thead>\n",
              "  <tbody>\n",
              "    <tr>\n",
              "      <th>0</th>\n",
              "      <td>892</td>\n",
              "      <td>0.0</td>\n",
              "    </tr>\n",
              "    <tr>\n",
              "      <th>1</th>\n",
              "      <td>893</td>\n",
              "      <td>0.0</td>\n",
              "    </tr>\n",
              "    <tr>\n",
              "      <th>2</th>\n",
              "      <td>894</td>\n",
              "      <td>0.0</td>\n",
              "    </tr>\n",
              "    <tr>\n",
              "      <th>3</th>\n",
              "      <td>895</td>\n",
              "      <td>0.0</td>\n",
              "    </tr>\n",
              "    <tr>\n",
              "      <th>4</th>\n",
              "      <td>896</td>\n",
              "      <td>0.0</td>\n",
              "    </tr>\n",
              "    <tr>\n",
              "      <th>...</th>\n",
              "      <td>...</td>\n",
              "      <td>...</td>\n",
              "    </tr>\n",
              "    <tr>\n",
              "      <th>413</th>\n",
              "      <td>1305</td>\n",
              "      <td>0.0</td>\n",
              "    </tr>\n",
              "    <tr>\n",
              "      <th>414</th>\n",
              "      <td>1306</td>\n",
              "      <td>0.0</td>\n",
              "    </tr>\n",
              "    <tr>\n",
              "      <th>415</th>\n",
              "      <td>1307</td>\n",
              "      <td>0.0</td>\n",
              "    </tr>\n",
              "    <tr>\n",
              "      <th>416</th>\n",
              "      <td>1308</td>\n",
              "      <td>0.0</td>\n",
              "    </tr>\n",
              "    <tr>\n",
              "      <th>417</th>\n",
              "      <td>1309</td>\n",
              "      <td>0.0</td>\n",
              "    </tr>\n",
              "  </tbody>\n",
              "</table>\n",
              "<p>418 rows × 2 columns</p>\n",
              "</div>"
            ],
            "text/plain": [
              "     PassengerId  Survived\n",
              "0            892       0.0\n",
              "1            893       0.0\n",
              "2            894       0.0\n",
              "3            895       0.0\n",
              "4            896       0.0\n",
              "..           ...       ...\n",
              "413         1305       0.0\n",
              "414         1306       0.0\n",
              "415         1307       0.0\n",
              "416         1308       0.0\n",
              "417         1309       0.0\n",
              "\n",
              "[418 rows x 2 columns]"
            ]
          },
          "metadata": {
            "tags": []
          },
          "execution_count": 87
        }
      ]
    },
    {
      "cell_type": "code",
      "metadata": {
        "id": "xOz3ncsizWz9"
      },
      "source": [
        ""
      ],
      "execution_count": null,
      "outputs": []
    }
  ]
}